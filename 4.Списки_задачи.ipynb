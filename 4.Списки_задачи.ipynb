{
 "cells": [
  {
   "cell_type": "markdown",
   "metadata": {},
   "source": [
    "# Задачи по спискам"
   ]
  },
  {
   "cell_type": "markdown",
   "metadata": {},
   "source": [
    "1) Создать список из чисел 31, 24, 17 тремя способами: перечисление, на основе другого списка (по сути, создать копию списка), с помощью функции range. Вывести списки на печать. Создать и вывести список, состоящий из полученных списков."
   ]
  },
  {
   "cell_type": "code",
   "execution_count": 1,
   "metadata": {},
   "outputs": [],
   "source": [
    "lst1 = [31,24,17]"
   ]
  },
  {
   "cell_type": "code",
   "execution_count": 3,
   "metadata": {},
   "outputs": [],
   "source": [
    "lst2 = list(lst1)"
   ]
  },
  {
   "cell_type": "code",
   "execution_count": 4,
   "metadata": {},
   "outputs": [
    {
     "data": {
      "text/plain": [
       "[31, 24, 17]"
      ]
     },
     "execution_count": 4,
     "metadata": {},
     "output_type": "execute_result"
    }
   ],
   "source": [
    "lst2"
   ]
  },
  {
   "cell_type": "code",
   "execution_count": null,
   "metadata": {},
   "outputs": [],
   "source": []
  },
  {
   "cell_type": "markdown",
   "metadata": {},
   "source": [
    "2.1) Создать список из всех симоволов имеющихся во введенной пользователем строке."
   ]
  },
  {
   "cell_type": "code",
   "execution_count": 1,
   "metadata": {},
   "outputs": [
    {
     "name": "stdout",
     "output_type": "stream",
     "text": [
      "shgfdfgs\n"
     ]
    }
   ],
   "source": [
    "s = input()\n",
    "lst = list(s)"
   ]
  },
  {
   "cell_type": "code",
   "execution_count": 2,
   "metadata": {},
   "outputs": [
    {
     "data": {
      "text/plain": [
       "['s', 'h', 'g', 'f', 'd', 'f', 'g', 's']"
      ]
     },
     "execution_count": 2,
     "metadata": {},
     "output_type": "execute_result"
    }
   ],
   "source": [
    "lst"
   ]
  },
  {
   "cell_type": "markdown",
   "metadata": {},
   "source": [
    "2.2) Создать список из всех слов имеющихся во введенной пользователем строке."
   ]
  },
  {
   "cell_type": "markdown",
   "metadata": {},
   "source": [
    "2.3) Создать и вывести список из всех цифр, встречающихся в заданной строке."
   ]
  },
  {
   "cell_type": "markdown",
   "metadata": {},
   "source": [
    "3) Если в заданный список входит слово \"repeat\", а последний элемент - число, то заменить список на столько же копий всех элементов, не считая последних двух (последние два просто добавить). Например, список ['input', 'string', 'repeat', 3] должен быть заменен на ['input', 'string', 'input', 'string', 'input', 'string', 'repeat', 3]."
   ]
  },
  {
   "cell_type": "markdown",
   "metadata": {},
   "source": [
    "4) Создать список из двух произвольных строк s1 и s2, их длин и результата проверки соблюдения лексикографического порядка (идет ли первая строка раньше второй). В зависимости от параметра output путем обращения к элементам списка выводить либо длины строк (output='lengths', в формате \"Длины строк: 4 и 5\"), либо описание порядка (output='order', в формате \"Строка 'первая' идет ПОСЛЕ строки 'вторая'\")."
   ]
  },
  {
   "cell_type": "code",
   "execution_count": 5,
   "metadata": {},
   "outputs": [
    {
     "name": "stdout",
     "output_type": "stream",
     "text": [
      "asdf\n",
      "zxcvb\n",
      "['asdf', 'zxcvb', 4, 5, True]\n",
      "order\n",
      "Строка 'asdf' идет ДО строки 'zxcvb'\n"
     ]
    }
   ],
   "source": [
    "s1 = input()\n",
    "s2 = input()\n",
    "lst = [s1, s2, len(s1), len(s2), s1<s2]\n",
    "print(lst)\n",
    "output = input()\n",
    "if output=='lengths':\n",
    "    print(f'Длины строк: {lst[2]} и {lst[3]}')\n",
    "elif output=='order':\n",
    "    print(f\"Строка '{lst[0]}' идет {'ДО' if lst[-1] else 'ПОСЛЕ'} строки '{lst[1]}'\")"
   ]
  },
  {
   "cell_type": "markdown",
   "metadata": {},
   "source": [
    "5.1) Запросить у пользователя 2 целых положительных числа и сохранить их в переменных max_val, repeat. Создать  список из целых чисел со  значениями от 1 до max_val включительно повторяющийся repeat раз.\n",
    "\n",
    "Например для max_val=4, repeat=4 будет создан список:\n",
    "\n",
    "[1, 2, 3, 4, 1, 2, 3, 4, 1, 2, 3, 4,]"
   ]
  },
  {
   "cell_type": "markdown",
   "metadata": {},
   "source": [
    "5.2) На основе списка из 5.1 созданного при max_val = 10 создать его копию (значение repeat заранее неизвестно). В копии с помощью среза удалить 80% элементов из середины. Все элементы исходного списка, которые не сохранены в скопированном списке, умножить на десять."
   ]
  },
  {
   "cell_type": "markdown",
   "metadata": {},
   "source": [
    "6) Из произвольной строки создать список. Вместо каждой буквы \"s\" (без учета регистра), стоящей не на первом и не на последнем месте, вставить в список строку из двойного предыдущего символа и одного следующего. Например, из строки \"test\\_Stringss\" должен получиться список ['t', 'e', 'eet', 't', '\\_', '\\__t', 't', 'r', 'i', 'n', 'g', 'ggs', 's']."
   ]
  },
  {
   "cell_type": "markdown",
   "metadata": {},
   "source": [
    "7)* Организовать заполнение списка заданной длины пользователем через input(). Если на вход подается число (целое или через точку), то записывать в список целое число с округлением вверх. Если \"True\" или \"False\", то как boolean. Иначе - как строку."
   ]
  },
  {
   "cell_type": "code",
   "execution_count": 8,
   "metadata": {},
   "outputs": [
    {
     "data": {
      "text/plain": [
       "False"
      ]
     },
     "execution_count": 8,
     "metadata": {},
     "output_type": "execute_result"
    }
   ],
   "source": [
    "\"21.313\".isdigit()"
   ]
  },
  {
   "cell_type": "code",
   "execution_count": null,
   "metadata": {},
   "outputs": [],
   "source": [
    "length = int(input(\"Введите длину списка: \"))\n",
    "lst = []\n",
    "for i in range(length):\n",
    "    a = input()\n",
    "    if a == \"True\":\n",
    "        lst.append(True)\n",
    "    elif a == \"False\":\n",
    "        lst.append(False)\n",
    "    elif a.isdigit():\n",
    "        lst.append(int(a))\n",
    "    elif a.count('.') == 1:\n",
    "        temp = a.split('.')\n",
    "        if temp[0].isdigit() and temp[1].isdigit():\n",
    "            lst.append(int(float(a))+1)\n",
    "        else:\n",
    "            lst.append(a)\n",
    "    else:\n",
    "        lst.append(a)\n",
    "print(lst)"
   ]
  },
  {
   "cell_type": "markdown",
   "metadata": {},
   "source": [
    "--------------"
   ]
  },
  {
   "cell_type": "code",
   "execution_count": 7,
   "metadata": {},
   "outputs": [
    {
     "data": {
      "text/plain": [
       "2"
      ]
     },
     "execution_count": 7,
     "metadata": {},
     "output_type": "execute_result"
    }
   ],
   "source": [
    "int(2.99)"
   ]
  },
  {
   "cell_type": "markdown",
   "metadata": {},
   "source": [
    "8) Заданы две заранее неизвестные строки в которых слова разделены пробелами. Из двух строк составить одну, в котрой слова из первой и второй строки будут чередоваться при этом порядок слов будет сохранен. Ели количество слов в строках различное, то закончить создание составной строки как только слова в одной из исходных строк закончатся. Для преобразований использовать списки слов.\n",
    "\n",
    "Пример: 'один два три', 'альфа бетта гамма' -> 'один альфа два бетта три гамма'"
   ]
  },
  {
   "cell_type": "code",
   "execution_count": 17,
   "metadata": {},
   "outputs": [
    {
     "data": {
      "text/plain": [
       "['один', 'альфа', 'два', 'бетта', 'три', 'гамма']"
      ]
     },
     "execution_count": 17,
     "metadata": {},
     "output_type": "execute_result"
    }
   ],
   "source": [
    "a = 'один два три'\n",
    "b = 'альфа бетта гамма'\n",
    "lst1 = a.split()\n",
    "lst2 = b.split()\n",
    "lst_res = []\n",
    "for i, e in enumerate(lst1):\n",
    "    lst_res.append(e)\n",
    "    lst_res.append(lst2[i])\n",
    "' '.join(lst_res)\n",
    "lst_res"
   ]
  },
  {
   "cell_type": "markdown",
   "metadata": {},
   "source": [
    "9) Решить здачу 8 используя функцию zip."
   ]
  },
  {
   "cell_type": "code",
   "execution_count": 14,
   "metadata": {},
   "outputs": [],
   "source": [
    "?zip"
   ]
  },
  {
   "cell_type": "code",
   "execution_count": 16,
   "metadata": {},
   "outputs": [
    {
     "data": {
      "text/plain": [
       "[('один', 'альфа'), ('два', 'бетта'), ('три', 'гамма')]"
      ]
     },
     "execution_count": 16,
     "metadata": {},
     "output_type": "execute_result"
    }
   ],
   "source": [
    "a = 'один два три четыре'\n",
    "b = 'альфа бетта гамма'\n",
    "lst1 = a.split()\n",
    "lst2 = b.split()\n",
    "list(zip(lst1, lst2))\n",
    "lst_res"
   ]
  },
  {
   "cell_type": "markdown",
   "metadata": {},
   "source": [
    "10) Выполнить циклический сдвиг слов в произвольной строке (слова разделены пробелами) на заднное пользователем число слов. Решить с помощью списков слов.\n",
    "\n",
    "Пример \"один два три четыре пять шесть семь\", 3 -> \"четыре пять шесть семь один два три\""
   ]
  },
  {
   "cell_type": "markdown",
   "metadata": {},
   "source": [
    "11) В списке целых чисел из диапозона от 1 до 20 заменить все числа не являющиеся простыми на составляющие их простые множители (которые включаются в виде отдельных элементов списка на место исключаемого числа). Каратные простые множетели добавлять количество раз составляющее их кратность в исходном числе.\n",
    "\n",
    "Пример: [3, 6, 7, 12] -> [3, 2, 3, 7, 2, 2, 3]"
   ]
  },
  {
   "cell_type": "code",
   "execution_count": 40,
   "metadata": {},
   "outputs": [
    {
     "data": {
      "text/plain": [
       "[3, 2, 3, 7, 2, 2, 3]"
      ]
     },
     "execution_count": 40,
     "metadata": {},
     "output_type": "execute_result"
    }
   ],
   "source": [
    "input_list = [3, 6, 7, 12]\n",
    "for index, a in enumerate(input_list):\n",
    "\n",
    "    lst = []\n",
    "\n",
    "    while True:\n",
    "        temp = []\n",
    "        if a == 1:\n",
    "            break\n",
    "        for mn in range(2, a+1):\n",
    "            if a % mn == 0:\n",
    "                if mn == 2:\n",
    "                    temp.append(mn)\n",
    "                    continue\n",
    "                for i in range(2, mn//2+1):\n",
    "                    if mn % i == 0:\n",
    "                        break\n",
    "                else:\n",
    "                    temp.append(mn)\n",
    "        for i in temp:\n",
    "            a = a//i\n",
    "        lst.extend(temp)\n",
    "\n",
    "    lst.sort()\n",
    "    input_list[index:index+1] = lst\n",
    "input_list"
   ]
  },
  {
   "cell_type": "code",
   "execution_count": 39,
   "metadata": {},
   "outputs": [
    {
     "data": {
      "text/plain": [
       "[[3], [2, 3], [7], [2, 2, 3]]"
      ]
     },
     "execution_count": 39,
     "metadata": {},
     "output_type": "execute_result"
    }
   ],
   "source": []
  },
  {
   "cell_type": "markdown",
   "metadata": {},
   "source": [
    "12) В списке, состоящем из чисел найти значение меньше или равно которому только одно значения из списка."
   ]
  },
  {
   "cell_type": "markdown",
   "metadata": {},
   "source": [
    "13) Найти индекс в списке для значения, найденного в задаче 12."
   ]
  },
  {
   "cell_type": "markdown",
   "metadata": {},
   "source": [
    "14) Найти индекс второго с конца вхождения значения 1 в список из целых чисел.ь"
   ]
  },
  {
   "cell_type": "markdown",
   "metadata": {},
   "source": [
    "15) Осортировать слова в строке (с пробелом в качестве разделителя) в лексикографическом порядке.\n",
    "\n",
    "Пример: 'дыня абрикос яблоко арбуз' -> 'абрикос арбуз дыня яблоко'"
   ]
  },
  {
   "cell_type": "markdown",
   "metadata": {},
   "source": [
    "16) Имеется переменная lsls содержащая список списков. Заранее неизвестно, сколько в переменной списков и какой они длинны (их длинны в общем случае различны). Из этих списков составить список, содержащий поорчедно элементы каждого из вложенных списков, при этом, порядок этих элементов сохраняется. Процедура создания списка останавливается когда хотя бы в одном из исходных вложенных списков будут использованные все элементы. Кроме составленного списка получить список из всех элементов не вошедших в составленный список.\n",
    "\n",
    "Пример: lsls=[[1,2,3],['a', 'b'], [30, 40, 50, 60]] -> [1, 'a', 30, 2, 'b', 40], [3, 50, 60]"
   ]
  }
 ],
 "metadata": {
  "kernelspec": {
   "display_name": "Python 3 (ipykernel)",
   "language": "python",
   "name": "python3"
  },
  "language_info": {
   "codemirror_mode": {
    "name": "ipython",
    "version": 3
   },
   "file_extension": ".py",
   "mimetype": "text/x-python",
   "name": "python",
   "nbconvert_exporter": "python",
   "pygments_lexer": "ipython3",
   "version": "3.11.5"
  }
 },
 "nbformat": 4,
 "nbformat_minor": 2
}
