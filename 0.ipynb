{
 "cells": [
  {
   "cell_type": "markdown",
   "id": "b29ce17f",
   "metadata": {},
   "source": [
    "Неявная типизация - тип данных переменной не определяется перед её объявлением"
   ]
  },
  {
   "cell_type": "markdown",
   "id": "4c75645b",
   "metadata": {},
   "source": [
    "Динамическая типизация - переменная может менять тип данных в ходе работы программы"
   ]
  },
  {
   "cell_type": "markdown",
   "id": "bea45c05",
   "metadata": {},
   "source": [
    "INT"
   ]
  },
  {
   "cell_type": "code",
   "execution_count": 16,
   "id": "6b50e91c",
   "metadata": {},
   "outputs": [
    {
     "data": {
      "text/plain": [
       "(int, int, int)"
      ]
     },
     "execution_count": 16,
     "metadata": {},
     "output_type": "execute_result"
    }
   ],
   "source": [
    "a = 12\n",
    "b = 43\n",
    "c = 75\n",
    "type(a), type(b), type(d)"
   ]
  },
  {
   "cell_type": "markdown",
   "id": "e2c2887e",
   "metadata": {},
   "source": [
    "FLOAT"
   ]
  },
  {
   "cell_type": "code",
   "execution_count": 17,
   "id": "b5a38feb",
   "metadata": {},
   "outputs": [
    {
     "data": {
      "text/plain": [
       "(float, float, float)"
      ]
     },
     "execution_count": 17,
     "metadata": {},
     "output_type": "execute_result"
    }
   ],
   "source": [
    "d = 2.34\n",
    "e = 5.34\n",
    "f = 9.1235321324\n",
    "type(d), type(e), type(f)"
   ]
  },
  {
   "cell_type": "markdown",
   "id": "660a27c1",
   "metadata": {},
   "source": [
    "### Основные математические операции"
   ]
  },
  {
   "cell_type": "code",
   "execution_count": 22,
   "id": "b7fc91d1",
   "metadata": {},
   "outputs": [
    {
     "name": "stdout",
     "output_type": "stream",
     "text": [
      "55\n",
      "-65.8764678676\n",
      "392.31188169319995\n",
      "4.713086924667694\n",
      "3\n",
      "7\n",
      "1849\n"
     ]
    }
   ],
   "source": [
    "summ = a + b # Сложение\n",
    "diff = f - c # Вычитание\n",
    "multy = b * f # Умножение\n",
    "div = b / f # Деление\n",
    "div_cel = b // a # Целочисленное деление\n",
    "mod = b % a # Остаток от деления\n",
    "power = b ** 2 # Возведение в степень\n",
    "\n",
    "print(summ)\n",
    "print(diff)\n",
    "print(multy)\n",
    "print(div)\n",
    "print(div_cel)\n",
    "print(mod)\n",
    "print(power)"
   ]
  },
  {
   "cell_type": "markdown",
   "id": "3c094ed1",
   "metadata": {},
   "source": [
    "### Переменные"
   ]
  },
  {
   "cell_type": "code",
   "execution_count": 25,
   "id": "b411d501",
   "metadata": {},
   "outputs": [],
   "source": [
    "a = 25\n",
    "b = 25 * 12\n",
    "\n",
    "a += 15 # a = a + 15\n",
    "a -= 15 # a = a - 15\n"
   ]
  },
  {
   "cell_type": "code",
   "execution_count": null,
   "id": "b2a22ff1",
   "metadata": {},
   "outputs": [],
   "source": []
  }
 ],
 "metadata": {
  "kernelspec": {
   "display_name": "Python 3 (ipykernel)",
   "language": "python",
   "name": "python3"
  },
  "language_info": {
   "codemirror_mode": {
    "name": "ipython",
    "version": 3
   },
   "file_extension": ".py",
   "mimetype": "text/x-python",
   "name": "python",
   "nbconvert_exporter": "python",
   "pygments_lexer": "ipython3",
   "version": "3.11.5"
  }
 },
 "nbformat": 4,
 "nbformat_minor": 5
}
