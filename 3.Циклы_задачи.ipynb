{
 "cells": [
  {
   "cell_type": "markdown",
   "metadata": {},
   "source": [
    "# Циклы"
   ]
  },
  {
   "cell_type": "markdown",
   "metadata": {},
   "source": [
    "1) С помощью цикла for сравнить две произвольные строки и вывести строку, состоящую из общих символов исходных строк."
   ]
  },
  {
   "cell_type": "code",
   "execution_count": 3,
   "metadata": {},
   "outputs": [
    {
     "name": "stdout",
     "output_type": "stream",
     "text": [
      "asdf\n",
      "cvbdf\n",
      "df\n"
     ]
    }
   ],
   "source": [
    "a = input()\n",
    "b = input()\n",
    "c = \"\"\n",
    "for i in a:\n",
    "    if i in b:\n",
    "        c += i\n",
    "print(c)"
   ]
  },
  {
   "cell_type": "markdown",
   "metadata": {},
   "source": [
    "2) С помощью цикла while ассчитать двойной факториал для произвольного числа. Двойной факториал *n!!* числа n рассчитывается как произведение всех чисел, меньших исходного на числа, кратные двум (вплоть до 1 или 2). Например: 7!! = 7 \\* 5 \\* 3 \\* 1 = 105"
   ]
  },
  {
   "cell_type": "code",
   "execution_count": 4,
   "metadata": {},
   "outputs": [
    {
     "name": "stdout",
     "output_type": "stream",
     "text": [
      "105\n"
     ]
    }
   ],
   "source": [
    "n = 7\n",
    "res = 1\n",
    "while n>=1:\n",
    "    res *= n # res = res * n\n",
    "    n-=2 # n = n - 2\n",
    "print(res)"
   ]
  },
  {
   "cell_type": "markdown",
   "metadata": {},
   "source": [
    "3) Решить предыдущую задачу с помощью цикла for."
   ]
  },
  {
   "cell_type": "code",
   "execution_count": 10,
   "metadata": {},
   "outputs": [
    {
     "name": "stdout",
     "output_type": "stream",
     "text": [
      "105\n"
     ]
    }
   ],
   "source": [
    "n = 7\n",
    "res = 1\n",
    "for i in range(n, 0, -2):\n",
    "    res = res * i\n",
    "print(res)"
   ]
  },
  {
   "cell_type": "markdown",
   "metadata": {},
   "source": [
    "4) Вывести все простые числа в произвольном интервале [a, b], используя вложенные for и конструкцию for-else."
   ]
  },
  {
   "cell_type": "code",
   "execution_count": 12,
   "metadata": {},
   "outputs": [
    {
     "data": {
      "text/plain": [
       "3"
      ]
     },
     "execution_count": 12,
     "metadata": {},
     "output_type": "execute_result"
    }
   ],
   "source": [
    "15 % 4"
   ]
  },
  {
   "cell_type": "code",
   "execution_count": 11,
   "metadata": {},
   "outputs": [
    {
     "name": "stdout",
     "output_type": "stream",
     "text": [
      "2\n",
      "3\n",
      "4\n",
      "5\n",
      "6\n",
      "7\n",
      "8\n",
      "9\n",
      "10\n",
      "11\n",
      "12\n",
      "13\n",
      "14\n",
      "15\n",
      "16\n",
      "17\n",
      "18\n",
      "19\n",
      "20\n",
      "21\n",
      "22\n",
      "23\n",
      "24\n",
      "25\n"
     ]
    }
   ],
   "source": [
    "a = 2\n",
    "b = 25\n",
    "for number in range(a, b+1):\n",
    "    "
   ]
  },
  {
   "cell_type": "markdown",
   "metadata": {},
   "source": [
    "5) Реализовать проверку на ввод вводимого пользователем значения: предлагать ввод до тех пор, пока не будет введена непустая строка. Если введено STOP, выводить сообщение \"Program interrupted by user\". Если введенная строка в лексиграфическом порядке стоит перед строчными латинскими символами, выводить предупреждение \"Too early in the dictionary. Try again!\" и предлагать ввод снова. Иначе выводить отформатированную исходную строку с заполнителем \"_\" и шириной 30 символов с выравниванием посередине."
   ]
  },
  {
   "cell_type": "markdown",
   "metadata": {},
   "source": [
    "6) Для произвольной строки вывести те символы, номера которых в строке (не индексы!) делят длину строки без остатка. Для строки \"Hello world!\" должно выводиться \"Hell !\"."
   ]
  },
  {
   "cell_type": "code",
   "execution_count": 2,
   "metadata": {},
   "outputs": [
    {
     "data": {
      "text/plain": [
       "'Hell !'"
      ]
     },
     "execution_count": 2,
     "metadata": {},
     "output_type": "execute_result"
    }
   ],
   "source": [
    "string = \"Hello world!\"\n",
    "b = \"\"\n",
    "for ind, symb in enumerate(string):\n",
    "    if len(string) % (ind+1) == 0:\n",
    "        b += symb\n",
    "b"
   ]
  },
  {
   "cell_type": "markdown",
   "metadata": {},
   "source": [
    "7) Даны две произвольные строки. Для всех символов первой строки, которые встречаются во второй строке (без учета регистра), вывести строку: \"<номер\\_символа\\_в\\_первой\\_строке> встречается в строке поиска: <второе_слово>\", причем второе слово выводить в нижнем регистре с найденным символом в верхнем регистре. Например, для исходной строки \"Hello world!\" и строки поиска 'HERD' третья строка в выводе будет содержать текст:<br> \"9 символ встречается в строке поиска: heRd\"."
   ]
  }
 ],
 "metadata": {
  "kernelspec": {
   "display_name": "Python 3 (ipykernel)",
   "language": "python",
   "name": "python3"
  },
  "language_info": {
   "codemirror_mode": {
    "name": "ipython",
    "version": 3
   },
   "file_extension": ".py",
   "mimetype": "text/x-python",
   "name": "python",
   "nbconvert_exporter": "python",
   "pygments_lexer": "ipython3",
   "version": "3.11.5"
  }
 },
 "nbformat": 4,
 "nbformat_minor": 2
}
