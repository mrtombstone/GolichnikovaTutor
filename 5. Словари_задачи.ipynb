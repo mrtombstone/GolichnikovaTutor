{
 "cells": [
  {
   "cell_type": "markdown",
   "metadata": {},
   "source": [
    "1) На основе переданной строки (не содержащей повторяющихся символов) создать словарь, в котром каждому символу строки будет соответствовать номер символа в строке. Пример: строка 'abcdef'"
   ]
  },
  {
   "cell_type": "code",
   "execution_count": 3,
   "metadata": {},
   "outputs": [
    {
     "name": "stdout",
     "output_type": "stream",
     "text": [
      "asdfg\n"
     ]
    },
    {
     "data": {
      "text/plain": [
       "{'a': 1, 's': 2, 'd': 3, 'f': 4, 'g': 5}"
      ]
     },
     "execution_count": 3,
     "metadata": {},
     "output_type": "execute_result"
    }
   ],
   "source": [
    "a = input()\n",
    "dicti = {}\n",
    "for i, e in enumerate(a):\n",
    "    dicti[e] = i+1\n",
    "dicti"
   ]
  },
  {
   "cell_type": "code",
   "execution_count": 4,
   "metadata": {},
   "outputs": [
    {
     "data": {
      "text/plain": [
       "['a', 'b', 'c', 'd']"
      ]
     },
     "execution_count": 4,
     "metadata": {},
     "output_type": "execute_result"
    }
   ],
   "source": [
    "l1 = list('abcd')\n",
    "l1"
   ]
  },
  {
   "cell_type": "code",
   "execution_count": 5,
   "metadata": {},
   "outputs": [
    {
     "data": {
      "text/plain": [
       "{'c': 5, 'd': 6, 'e': 7, 'f': 8, 'g': 9, 'h': 10}"
      ]
     },
     "execution_count": 5,
     "metadata": {},
     "output_type": "execute_result"
    }
   ],
   "source": [
    "d1 = {'c': 5, 'd': 6, 'e': 7, 'f': 8, 'g': 9, 'h': 10}\n",
    "d1"
   ]
  },
  {
   "cell_type": "markdown",
   "metadata": {},
   "source": [
    "2) Определить сколько элементов заданного списка содержится в словаре. Пример: определить сколько элементов списка l1 содержится в словаре d1 (ответ: 2)"
   ]
  },
  {
   "cell_type": "code",
   "execution_count": 7,
   "metadata": {},
   "outputs": [
    {
     "data": {
      "text/plain": [
       "2"
      ]
     },
     "execution_count": 7,
     "metadata": {},
     "output_type": "execute_result"
    }
   ],
   "source": [
    "counter = 0\n",
    "for i in l1:\n",
    "    if i in d1:\n",
    "        counter += 1\n",
    "counter"
   ]
  },
  {
   "cell_type": "code",
   "execution_count": 8,
   "metadata": {},
   "outputs": [],
   "source": [
    "evgene_o = \"\"\"My uncle -- high ideals inspire him;\n",
    "     but when past joking he fell sick,\n",
    "     he really forced one to admire him --\n",
    "     and never played a shrewder trick.\n",
    "     Let others learn from his example!\n",
    "     But God, how deadly dull to sample\n",
    "     sickroom attendance night and day\n",
    "     and never stir a foot away!\n",
    "     And the sly baseness, fit to throttle,\n",
    "     of entertaining the half-dead:\n",
    "     one smoothes the pillows down in bed,\n",
    "     and glumly serves the medicine bottle,\n",
    "     and sighs, and asks oneself all through:\n",
    "     When will the devil come for you?\n",
    "     \n",
    "     Such were a young rake's meditations --\n",
    "     by will of Zeus, the high and just,\n",
    "     the legatee of his relations --\n",
    "     as horses whirled him through the dust.\n",
    "     Friends of my Ruslan and Lyudmila,\n",
    "     without preliminary feeler\n",
    "     let me acquaint you on the nail\n",
    "     with this the hero of my tale:\n",
    "     Onegin, my good friend, was littered\n",
    "     and bred upon the Neva's brink,\n",
    "     where you were born as well, I think,\n",
    "     reader, or where you've shone and glittered!\n",
    "     There once I too strolled back and forth:\n",
    "     but I'm allergic to the North...\"\"\""
   ]
  },
  {
   "cell_type": "markdown",
   "metadata": {},
   "source": [
    "3) Для строки evgene_o создать словарь где для всех символов, встречающихся в строке хранится число: сколько раз символ встретился в строке evgene_o. "
   ]
  },
  {
   "cell_type": "code",
   "execution_count": 10,
   "metadata": {},
   "outputs": [
    {
     "data": {
      "text/plain": [
       "{'M': 1,\n",
       " 'y': 19,\n",
       " ' ': 294,\n",
       " 'u': 22,\n",
       " 'n': 51,\n",
       " 'c': 13,\n",
       " 'l': 47,\n",
       " 'e': 102,\n",
       " '-': 9,\n",
       " 'h': 51,\n",
       " 'i': 48,\n",
       " 'g': 15,\n",
       " 'd': 41,\n",
       " 'a': 52,\n",
       " 's': 42,\n",
       " 'p': 8,\n",
       " 'r': 47,\n",
       " 'm': 20,\n",
       " ';': 1,\n",
       " '\\n': 28,\n",
       " 'b': 10,\n",
       " 't': 61,\n",
       " 'w': 17,\n",
       " 'j': 2,\n",
       " 'o': 55,\n",
       " 'k': 9,\n",
       " 'f': 16,\n",
       " ',': 16,\n",
       " 'v': 6,\n",
       " '.': 5,\n",
       " 'L': 2,\n",
       " 'x': 1,\n",
       " '!': 3,\n",
       " 'B': 1,\n",
       " 'G': 1,\n",
       " 'A': 1,\n",
       " ':': 4,\n",
       " 'W': 1,\n",
       " '?': 1,\n",
       " 'S': 1,\n",
       " \"'\": 4,\n",
       " 'Z': 1,\n",
       " 'F': 1,\n",
       " 'R': 1,\n",
       " 'q': 1,\n",
       " 'O': 1,\n",
       " 'N': 2,\n",
       " 'I': 3,\n",
       " 'T': 1}"
      ]
     },
     "execution_count": 10,
     "metadata": {},
     "output_type": "execute_result"
    }
   ],
   "source": [
    "dicti = {}\n",
    "for i in evgene_o:\n",
    "    if i in dicti:\n",
    "        dicti[i] = dicti[i] + 1\n",
    "    else:\n",
    "        dicti[i] = 1\n",
    "dicti"
   ]
  },
  {
   "cell_type": "markdown",
   "metadata": {},
   "source": [
    "4) Используя словарь, полученный в задаче 3 подсчитать количество строчных букв в строке evgene_o. "
   ]
  },
  {
   "cell_type": "code",
   "execution_count": null,
   "metadata": {},
   "outputs": [],
   "source": [
    "counter = 0\n",
    "for k, v in dicti.items():\n",
    "    if 'a' <= k <= 'z':"
   ]
  },
  {
   "cell_type": "code",
   "execution_count": 4,
   "metadata": {
    "collapsed": true
   },
   "outputs": [],
   "source": [
    "dic1={1:10, 2:20}  \n",
    "dic2={3:30, 4:40}  \n",
    "dic3={5:50,6:60} "
   ]
  },
  {
   "cell_type": "markdown",
   "metadata": {},
   "source": [
    "5) Написать код, который создает новый словарь с именем dic4, содержащий все пары ключ-значение из словарей dic1, dic2, dic3."
   ]
  },
  {
   "cell_type": "markdown",
   "metadata": {},
   "source": [
    "6) Просуммировать все значения из словаря dic4"
   ]
  },
  {
   "cell_type": "markdown",
   "metadata": {},
   "source": [
    "7) Перемножить все значения из словаря dic4"
   ]
  },
  {
   "cell_type": "markdown",
   "metadata": {},
   "source": [
    "8) Просуммировать произведения ключей на словаря dic4 на соответствующие им значения"
   ]
  },
  {
   "cell_type": "code",
   "execution_count": 5,
   "metadata": {
    "collapsed": true
   },
   "outputs": [],
   "source": [
    "dic5 = {'a': 3, 'b': 4, 'c': 5, 'd': 6, 'e': 7, 'f': 8, 'g': 9}\n",
    "dic6 = {'e': 20, 'f': 21, 'g': 22, 'h': 23, 'i': 24, 'j': 25, 'k': 26, 'l': 27}"
   ]
  },
  {
   "cell_type": "markdown",
   "metadata": {},
   "source": [
    "9) На базе словаря dic6 создать словарь dic7 в котором нет пар ключ-значение с ключами, встречающимися в словаре dic5"
   ]
  },
  {
   "cell_type": "markdown",
   "metadata": {},
   "source": [
    "10) Создать словарь dic8 в котором есть все пары ключ-значения из dic5, а для ключей, которые есть в dic6, но отсутствуют в dic5 добавить соответствующие пары ключ-значения в dic8."
   ]
  },
  {
   "cell_type": "code",
   "execution_count": 6,
   "metadata": {},
   "outputs": [
    {
     "name": "stdout",
     "output_type": "stream",
     "text": [
      "[13, 5, 7, 1, 6, 4, 4, 6, 7, 5, 13, 10, 6, 14, 12, 13, 14, 14, 12, 11, 9, 6, 7, 7, 9, 9, 13, 9, 2, 8]\n"
     ]
    }
   ],
   "source": [
    "import random\n",
    "ri1 = [random.randint(1, 15) for _ in range(30)]\n",
    "print(ri1)"
   ]
  },
  {
   "cell_type": "markdown",
   "metadata": {},
   "source": [
    "11) Из списка ri1 получить упорядоченный по возрастанию список не имеющий повторяющихся значений."
   ]
  },
  {
   "cell_type": "markdown",
   "metadata": {},
   "source": [
    "12) Используя распаковку из списка списков сделать список, содержащий последовательность первых и последних значений вложенных списков и сохраняющий порядок их следования.\n",
    "\n",
    "Пример: [[1, 2, 3], [4, 5, 6, 7], [9, 2]] -> [1, 3, 4, 7, 9, 2]"
   ]
  },
  {
   "cell_type": "markdown",
   "metadata": {},
   "source": [
    "13)  В словаре, полученном в задаче 3 удалить все пары ключ/значение для символов, встречающихся менее 5 раз."
   ]
  },
  {
   "cell_type": "markdown",
   "metadata": {},
   "source": [
    "14) Составить программу \"мешок\". Программа раз за разом запрашивает у пользователя новые значения и \"кладет их в мешок\". Если полученное значение уже есть в мешке, то оно не помещается в мешок, а пользователю сообщается о том, что такое значение уже есть в мешке. Максимальное количество значений в мешке - 5 штук. Если помещение в мешок очередного значения приводит к превышению допустимого количества значений, то из него извлекается одно из хранившихся в нем ранее значений и предъявляется пользователю. Для того чтобы выйти из программы пользователь вводит пустое значение. При выходе из программы пользователю демонстрируется содержимое мешка.\n",
    "\n",
    "\\*) Дополнительная опция: пользователь может вводить сразу несколько значений, разделенных запятой."
   ]
  },
  {
   "cell_type": "markdown",
   "metadata": {},
   "source": []
  }
 ],
 "metadata": {
  "kernelspec": {
   "display_name": "Python 3 (ipykernel)",
   "language": "python",
   "name": "python3"
  },
  "language_info": {
   "codemirror_mode": {
    "name": "ipython",
    "version": 3
   },
   "file_extension": ".py",
   "mimetype": "text/x-python",
   "name": "python",
   "nbconvert_exporter": "python",
   "pygments_lexer": "ipython3",
   "version": "3.11.5"
  }
 },
 "nbformat": 4,
 "nbformat_minor": 2
}
