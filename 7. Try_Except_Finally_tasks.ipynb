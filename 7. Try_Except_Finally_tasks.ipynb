{
 "cells": [
  {
   "cell_type": "markdown",
   "metadata": {},
   "source": [
    "1) Напишите функцию, которая принимает имя файла. Если файла нет, то возвращает текст \"404. File (filename) not found\", иначе возвращает содержимое файла"
   ]
  },
  {
   "cell_type": "code",
   "execution_count": 13,
   "metadata": {},
   "outputs": [],
   "source": [
    "def open_file(filename):\n",
    "    try:\n",
    "        with open(filename, 'r', encoding='utf-8') as file:\n",
    "            print(file.read())\n",
    "    except FileNotFoundError:\n",
    "        print(f'404. File ({filename}) not found')"
   ]
  },
  {
   "cell_type": "code",
   "execution_count": 14,
   "metadata": {},
   "outputs": [
    {
     "name": "stdout",
     "output_type": "stream",
     "text": [
      "404. File (sdfghjk) not found\n"
     ]
    }
   ],
   "source": [
    "open_file('sdfghjk')"
   ]
  },
  {
   "cell_type": "markdown",
   "metadata": {},
   "source": [
    "2) Написать функцию умножения неограниченного количества чисел. Если аргумент не является число, то должна вызываться ошибка ValueError"
   ]
  },
  {
   "cell_type": "code",
   "execution_count": 30,
   "metadata": {},
   "outputs": [],
   "source": [
    "def abc(*args):\n",
    "    res = 1\n",
    "    for i in args:\n",
    "        if type(i) != int and type(i) != float:\n",
    "            raise ValueError(f\"Некорректное значение: {i}, типа данных: {type(i)}\")\n",
    "        res *= i\n",
    "    return res"
   ]
  },
  {
   "cell_type": "code",
   "execution_count": 32,
   "metadata": {},
   "outputs": [
    {
     "data": {
      "text/plain": [
       "120"
      ]
     },
     "execution_count": 32,
     "metadata": {},
     "output_type": "execute_result"
    }
   ],
   "source": [
    "abc(1,2,3,4,5)"
   ]
  },
  {
   "cell_type": "code",
   "execution_count": 33,
   "metadata": {},
   "outputs": [],
   "source": [
    "def abc2(*args):\n",
    "    res = 1\n",
    "    for i in args:\n",
    "        assert type(i) == int or type(i) == float\n",
    "        res *= i\n",
    "    return res"
   ]
  },
  {
   "cell_type": "code",
   "execution_count": 35,
   "metadata": {},
   "outputs": [
    {
     "ename": "AssertionError",
     "evalue": "",
     "output_type": "error",
     "traceback": [
      "\u001b[1;31m---------------------------------------------------------------------------\u001b[0m",
      "\u001b[1;31mAssertionError\u001b[0m                            Traceback (most recent call last)",
      "Cell \u001b[1;32mIn[35], line 1\u001b[0m\n\u001b[1;32m----> 1\u001b[0m abc2(\u001b[38;5;241m1\u001b[39m,\u001b[38;5;241m2\u001b[39m,\u001b[38;5;241m3\u001b[39m,\u001b[38;5;241m4\u001b[39m, \u001b[38;5;124m'\u001b[39m\u001b[38;5;124madsf\u001b[39m\u001b[38;5;124m'\u001b[39m)\n",
      "Cell \u001b[1;32mIn[33], line 4\u001b[0m, in \u001b[0;36mabc2\u001b[1;34m(*args)\u001b[0m\n\u001b[0;32m      2\u001b[0m res \u001b[38;5;241m=\u001b[39m \u001b[38;5;241m1\u001b[39m\n\u001b[0;32m      3\u001b[0m \u001b[38;5;28;01mfor\u001b[39;00m i \u001b[38;5;129;01min\u001b[39;00m args:\n\u001b[1;32m----> 4\u001b[0m     \u001b[38;5;28;01massert\u001b[39;00m \u001b[38;5;28mtype\u001b[39m(i) \u001b[38;5;241m==\u001b[39m \u001b[38;5;28mint\u001b[39m \u001b[38;5;129;01mor\u001b[39;00m \u001b[38;5;28mtype\u001b[39m(i) \u001b[38;5;241m==\u001b[39m \u001b[38;5;28mfloat\u001b[39m\n\u001b[0;32m      5\u001b[0m     res \u001b[38;5;241m*\u001b[39m\u001b[38;5;241m=\u001b[39m i\n\u001b[0;32m      6\u001b[0m \u001b[38;5;28;01mreturn\u001b[39;00m res\n",
      "\u001b[1;31mAssertionError\u001b[0m: "
     ]
    }
   ],
   "source": [
    "abc2(1,2,3,4, 'adsf')"
   ]
  },
  {
   "cell_type": "markdown",
   "metadata": {},
   "source": [
    "3) Написать калькулятор для строковых выражений вида '<число> <операция> <число>', где <число> - целое число, например 113, <арифмитическая операция> - одна из операций +,-,*,/(деление нацело),%(остаток от деления),^(возведение в степень). Пример calc('13 - 5') -> 8. Проверять переданную строку на корректность ввода и выводить отладочную ошибку"
   ]
  },
  {
   "cell_type": "code",
   "execution_count": 39,
   "metadata": {},
   "outputs": [],
   "source": [
    "def abc(string):\n",
    "    dicti = {\n",
    "        '+': lambda x, y: x+y,\n",
    "        '-': lambda x, y: x-y,\n",
    "        '*': lambda x, y: x*y,\n",
    "        '/': lambda x, y: x//y,\n",
    "        '%': lambda x, y: x%y,\n",
    "        '^': lambda x, y: x**y\n",
    "    }\n",
    "    string = string.split()\n",
    "    assert len(string) == 3, \"Вы некорректно ввели выражение\"\n",
    "    assert string[0].isdigit(), \"Первое значение не является числом\"\n",
    "    assert string[-1].isdigit(), \"Второе значение не является числом\"\n",
    "    assert string[1] in dicti.keys(), 'Нет такого знака'\n",
    "    \n",
    "    return dicti[string[1]](int(string[0]), int(string[-1]))"
   ]
  },
  {
   "cell_type": "code",
   "execution_count": 44,
   "metadata": {},
   "outputs": [
    {
     "ename": "AssertionError",
     "evalue": "Второе значение не является числом",
     "output_type": "error",
     "traceback": [
      "\u001b[1;31m---------------------------------------------------------------------------\u001b[0m",
      "\u001b[1;31mAssertionError\u001b[0m                            Traceback (most recent call last)",
      "Cell \u001b[1;32mIn[44], line 1\u001b[0m\n\u001b[1;32m----> 1\u001b[0m abc(\u001b[38;5;124m'\u001b[39m\u001b[38;5;124m13 - 4й\u001b[39m\u001b[38;5;124m'\u001b[39m)\n",
      "Cell \u001b[1;32mIn[39], line 13\u001b[0m, in \u001b[0;36mabc\u001b[1;34m(string)\u001b[0m\n\u001b[0;32m     11\u001b[0m \u001b[38;5;28;01massert\u001b[39;00m \u001b[38;5;28mlen\u001b[39m(string) \u001b[38;5;241m==\u001b[39m \u001b[38;5;241m3\u001b[39m, \u001b[38;5;124m\"\u001b[39m\u001b[38;5;124mВы некорректно ввели выражение\u001b[39m\u001b[38;5;124m\"\u001b[39m\n\u001b[0;32m     12\u001b[0m \u001b[38;5;28;01massert\u001b[39;00m string[\u001b[38;5;241m0\u001b[39m]\u001b[38;5;241m.\u001b[39misdigit(), \u001b[38;5;124m\"\u001b[39m\u001b[38;5;124mПервое значение не является числом\u001b[39m\u001b[38;5;124m\"\u001b[39m\n\u001b[1;32m---> 13\u001b[0m \u001b[38;5;28;01massert\u001b[39;00m string[\u001b[38;5;241m-\u001b[39m\u001b[38;5;241m1\u001b[39m]\u001b[38;5;241m.\u001b[39misdigit(), \u001b[38;5;124m\"\u001b[39m\u001b[38;5;124mВторое значение не является числом\u001b[39m\u001b[38;5;124m\"\u001b[39m\n\u001b[0;32m     14\u001b[0m \u001b[38;5;28;01massert\u001b[39;00m string[\u001b[38;5;241m1\u001b[39m] \u001b[38;5;129;01min\u001b[39;00m dicti\u001b[38;5;241m.\u001b[39mkeys(), \u001b[38;5;124m'\u001b[39m\u001b[38;5;124mНет такого знака\u001b[39m\u001b[38;5;124m'\u001b[39m\n\u001b[0;32m     16\u001b[0m \u001b[38;5;28;01mreturn\u001b[39;00m dicti[string[\u001b[38;5;241m1\u001b[39m]](\u001b[38;5;28mint\u001b[39m(string[\u001b[38;5;241m0\u001b[39m]), \u001b[38;5;28mint\u001b[39m(string[\u001b[38;5;241m-\u001b[39m\u001b[38;5;241m1\u001b[39m]))\n",
      "\u001b[1;31mAssertionError\u001b[0m: Второе значение не является числом"
     ]
    }
   ],
   "source": [
    "abc('13 - 4й')"
   ]
  },
  {
   "cell_type": "markdown",
   "metadata": {},
   "source": [
    "5) В функцию передаются 3 кортежа - координаты x,y точек. Необходимо найти площадь треугольника. Данные проверять в режиме отладки"
   ]
  },
  {
   "cell_type": "markdown",
   "metadata": {},
   "source": []
  }
 ],
 "metadata": {
  "kernelspec": {
   "display_name": "Python 3 (ipykernel)",
   "language": "python",
   "name": "python3"
  },
  "language_info": {
   "codemirror_mode": {
    "name": "ipython",
    "version": 3
   },
   "file_extension": ".py",
   "mimetype": "text/x-python",
   "name": "python",
   "nbconvert_exporter": "python",
   "pygments_lexer": "ipython3",
   "version": "3.11.5"
  }
 },
 "nbformat": 4,
 "nbformat_minor": 2
}
