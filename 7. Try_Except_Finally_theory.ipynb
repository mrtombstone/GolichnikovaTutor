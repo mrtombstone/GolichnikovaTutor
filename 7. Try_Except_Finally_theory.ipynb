{
 "cells": [
  {
   "cell_type": "markdown",
   "metadata": {},
   "source": [
    "# Try Except Finally"
   ]
  },
  {
   "cell_type": "markdown",
   "metadata": {},
   "source": [
    "### Try except"
   ]
  },
  {
   "cell_type": "markdown",
   "metadata": {},
   "source": [
    "Исключения - тип данных Exception, который предоставляет информацию разработчику об ошибках"
   ]
  },
  {
   "cell_type": "markdown",
   "metadata": {},
   "source": [
    "Во многих случаях надо либо логгировать исключения которые возникли, либо в зависимости от ошибки выполнять другую операцию"
   ]
  },
  {
   "cell_type": "markdown",
   "metadata": {},
   "source": [
    "Весь список исключений представлен ниже. Также в Python есть возможность создавать собственные классы исключений"
   ]
  },
  {
   "cell_type": "markdown",
   "metadata": {},
   "source": [
    "* <b>BaseException</b> - базовое исключение, от которого все остальные наследуются\n",
    "    * <b>SystemExit </b>- исключение, порождаемое функцией sys.exit при выходе из программы.\n",
    "    * <b>KeyboardInterrupt </b>- порождается при прерывании программы пользователем (обычно сочетанием клавиш Ctrl+C).\n",
    "    * <b>GeneratorExit </b>- порождается при вызове метода close объекта generator.\n",
    "    * <b>Exception  </b>- а вот тут уже заканчиваются полностью системные исключения (которые лучше не трогать) и начинаются обыкновенные, с которыми можно работать.\n",
    "        * <b>StopIteration  </b>- порождается встроенной функцией next, если в итераторе больше нет элементов.\n",
    "        * <b>ArithmeticError </b>- арифметическая ошибка.\n",
    "            * <b>FloatingPointError </b>- порождается при неудачном выполнении операции с плавающей запятой. На практике встречается нечасто.\n",
    "            * <b>OverflowError </b>- возникает, когда результат арифметической операции слишком велик для представления. Не появляется при обычной работе с целыми числами (так как python поддерживает длинные числа), но может возникать в некоторых других случаях.\n",
    "            * <b>ZeroDivisionError </b>- деление на ноль.\n",
    "        * <b>AssertionError </b>- выражение в функции assert ложно.\n",
    "        * <b>AttributeError </b>- объект не имеет данного атрибута (значения или метода).\n",
    "        * <b>BufferError </b>- операция, связанная с буфером, не может быть выполнена.\n",
    "        * <b>EOFError </b>- функция наткнулась на конец файла и не смогла прочитать то, что хотела.\n",
    "        * <b>ImportError </b>- не удалось импортирование модуля или его атрибута.\n",
    "        * <b>LookupError </b>- некорректный индекс или ключ.\n",
    "            * <b>IndexError </b>- индекс не входит в диапазон элементов.\n",
    "            * <b>KeyError </b>- несуществующий ключ (в словаре, множестве или другом объекте).\n",
    "        * <b>MemoryError </b>- недостаточно памяти.\n",
    "        * <b>NameError </b>- не найдено переменной с таким именем.\n",
    "            * <b>UnboundLocalError </b>- сделана ссылка на локальную переменную в функции, но переменная не определена ранее.\n",
    "        * <b>OSError </b>- ошибка, связанная с системой.\n",
    "            * <b>BlockingIOError </b>\n",
    "            * <b>ChildProcessError </b>- неудача при операции с дочерним процессом.\n",
    "            * <b>ConnectionError </b>- неудача при операции с дочерним процессом.\n",
    "                * <b>BrokenPipeError </b>\n",
    "                * <b>ConnectionAbortedError </b>\n",
    "                * <b>ConnectionRefusedError </b>\n",
    "                * <b>ConnectionResetError </b>\n",
    "            * <b>FileExistsError </b>- попытка создания файла или директории, которая уже существует.\n",
    "            * <b>FileNotFoundError </b>- файл или директория не существует.\n",
    "            * <b>InterruptedError </b>- системный вызов прерван входящим сигналом.\n",
    "            * <b>IsADirectoryError </b>- ожидался файл, но это директория.\n",
    "            * <b>NotADirectoryError </b>- ожидалась директория, но это файл.\n",
    "            * <b>PermissionError </b>- не хватает прав доступа.\n",
    "            * <b>ProcessLookupError </b>- указанного процесса не существует.\n",
    "            * <b>TimeoutError </b>- закончилось время ожидания.\n",
    "        * <b>ReferenceError </b>- попытка доступа к атрибуту со слабой ссылкой.\n",
    "        * <b>RuntimeError </b>- возникает, когда исключение не попадает ни под одну из других категорий.\n",
    "        * <b>NotImplementedError </b>- возникает, когда абстрактные методы класса требуют переопределения в дочерних классах.\n",
    "        * <b>SyntaxError </b>- синтаксическая ошибка.\n",
    "            * <b>IndentationError </b>- неправильные отступы.\n",
    "                * <b>TabError </b>- смешивание в отступах табуляции и пробелов.\n",
    "        * <b>SystemError </b>- внутренняя ошибка.\n",
    "        * <b>TypeError </b>- операция применена к объекту несоответствующего типа.\n",
    "        * <b>ValueError </b>- функция получает аргумент правильного типа, но некорректного значения.\n",
    "        * <b>UnicodeError </b>- ошибка, связанная с кодированием / раскодированием unicode в строках.\n",
    "            * <b>UnicodeEncodeError </b>- исключение, связанное с кодированием unicode.\n",
    "            * <b>UnicodeDecodeError </b>- исключение, связанное с декодированием unicode.\n",
    "            * <b>UnicodeTranslateError </b>- исключение, связанное с переводом unicode.\n",
    "        * <b>Warning </b>- предупреждение."
   ]
  },
  {
   "cell_type": "code",
   "execution_count": 7,
   "metadata": {},
   "outputs": [
    {
     "ename": "ZeroDivisionError",
     "evalue": "division by zero",
     "output_type": "error",
     "traceback": [
      "\u001b[1;31m---------------------------------------------------------------------------\u001b[0m",
      "\u001b[1;31mZeroDivisionError\u001b[0m                         Traceback (most recent call last)",
      "\u001b[1;32m<ipython-input-7-e9e866a10e2a>\u001b[0m in \u001b[0;36m<module>\u001b[1;34m()\u001b[0m\n\u001b[1;32m----> 1\u001b[1;33m \u001b[1;36m100\u001b[0m \u001b[1;33m/\u001b[0m \u001b[1;36m0\u001b[0m\u001b[1;33m\u001b[0m\u001b[0m\n\u001b[0m",
      "\u001b[1;31mZeroDivisionError\u001b[0m: division by zero"
     ]
    }
   ],
   "source": [
    "100 / 0"
   ]
  },
  {
   "cell_type": "markdown",
   "metadata": {},
   "source": [
    "Конструкция вывода исключения:\n",
    "\n",
    "* ZeroDivizionError - класс ошибки. В последней строке есть четкое описание данной ошибки\n",
    "* Traceback (most recent call last) - трассировка исключения - в данном случае показывает строку, в которой произошла ошибка. Если ошибка произошла во время выполнения функции, то продемонстрируется весь путь до ошибки (пример ниже)"
   ]
  },
  {
   "cell_type": "code",
   "execution_count": 9,
   "metadata": {},
   "outputs": [
    {
     "ename": "ZeroDivisionError",
     "evalue": "division by zero",
     "output_type": "error",
     "traceback": [
      "\u001b[1;31m---------------------------------------------------------------------------\u001b[0m",
      "\u001b[1;31mZeroDivisionError\u001b[0m                         Traceback (most recent call last)",
      "\u001b[1;32m<ipython-input-9-88b031dacae5>\u001b[0m in \u001b[0;36m<module>\u001b[1;34m()\u001b[0m\n\u001b[0;32m      2\u001b[0m     \u001b[1;32mreturn\u001b[0m \u001b[0ma\u001b[0m\u001b[1;33m/\u001b[0m\u001b[0mb\u001b[0m\u001b[1;33m\u001b[0m\u001b[0m\n\u001b[0;32m      3\u001b[0m \u001b[1;33m\u001b[0m\u001b[0m\n\u001b[1;32m----> 4\u001b[1;33m \u001b[0mdiv\u001b[0m\u001b[1;33m(\u001b[0m\u001b[1;36m100\u001b[0m\u001b[1;33m,\u001b[0m\u001b[1;36m0\u001b[0m\u001b[1;33m)\u001b[0m\u001b[1;33m\u001b[0m\u001b[0m\n\u001b[0m",
      "\u001b[1;32m<ipython-input-9-88b031dacae5>\u001b[0m in \u001b[0;36mdiv\u001b[1;34m(a, b)\u001b[0m\n\u001b[0;32m      1\u001b[0m \u001b[1;32mdef\u001b[0m \u001b[0mdiv\u001b[0m\u001b[1;33m(\u001b[0m\u001b[0ma\u001b[0m\u001b[1;33m,\u001b[0m\u001b[0mb\u001b[0m\u001b[1;33m)\u001b[0m\u001b[1;33m:\u001b[0m\u001b[1;33m\u001b[0m\u001b[0m\n\u001b[1;32m----> 2\u001b[1;33m     \u001b[1;32mreturn\u001b[0m \u001b[0ma\u001b[0m\u001b[1;33m/\u001b[0m\u001b[0mb\u001b[0m\u001b[1;33m\u001b[0m\u001b[0m\n\u001b[0m\u001b[0;32m      3\u001b[0m \u001b[1;33m\u001b[0m\u001b[0m\n\u001b[0;32m      4\u001b[0m \u001b[0mdiv\u001b[0m\u001b[1;33m(\u001b[0m\u001b[1;36m100\u001b[0m\u001b[1;33m,\u001b[0m\u001b[1;36m0\u001b[0m\u001b[1;33m)\u001b[0m\u001b[1;33m\u001b[0m\u001b[0m\n",
      "\u001b[1;31mZeroDivisionError\u001b[0m: division by zero"
     ]
    }
   ],
   "source": [
    "def div(a,b):\n",
    "    return a/b\n",
    "\n",
    "div(100,0)"
   ]
  },
  {
   "cell_type": "markdown",
   "metadata": {},
   "source": [
    "### Try except"
   ]
  },
  {
   "cell_type": "markdown",
   "metadata": {},
   "source": [
    "Конструкция try - except имеет следующий синтаксис"
   ]
  },
  {
   "cell_type": "code",
   "execution_count": 4,
   "metadata": {},
   "outputs": [
    {
     "name": "stdout",
     "output_type": "stream",
     "text": [
      "Любая ошибка\n"
     ]
    }
   ],
   "source": [
    "try:\n",
    "    100/0\n",
    "except:\n",
    "    print(\"Любая ошибка\")"
   ]
  },
  {
   "cell_type": "code",
   "execution_count": 2,
   "metadata": {},
   "outputs": [
    {
     "name": "stdout",
     "output_type": "stream",
     "text": [
      "Конкретная ошибка\n"
     ]
    }
   ],
   "source": [
    "try:\n",
    "    100/0\n",
    "except ZeroDivisionError:\n",
    "    print(\"Конкретная ошибка\")"
   ]
  },
  {
   "cell_type": "code",
   "execution_count": 26,
   "metadata": {},
   "outputs": [
    {
     "name": "stdout",
     "output_type": "stream",
     "text": [
      "Любая из этих ошибок\n"
     ]
    }
   ],
   "source": [
    "try:\n",
    "    100/0\n",
    "except (ZeroDivisionError, ValueError):\n",
    "    print(\"Любая из этих ошибок\")"
   ]
  },
  {
   "cell_type": "code",
   "execution_count": 28,
   "metadata": {},
   "outputs": [
    {
     "name": "stdout",
     "output_type": "stream",
     "text": [
      "division by zero\n",
      "<class 'ZeroDivisionError'>\n"
     ]
    }
   ],
   "source": [
    "try:\n",
    "    100/0\n",
    "except ZeroDivisionError as exc:\n",
    "    print(exc)\n",
    "    print(type(exc))"
   ]
  },
  {
   "cell_type": "markdown",
   "metadata": {},
   "source": [
    "### «Голое» исключение"
   ]
  },
  {
   "cell_type": "code",
   "execution_count": 11,
   "metadata": {},
   "outputs": [
    {
     "name": "stdout",
     "output_type": "stream",
     "text": [
      "Данное исключение выполнится при любой ошибке\n"
     ]
    }
   ],
   "source": [
    "try:\n",
    "    a = 100/0\n",
    "except:\n",
    "    print(\"Данное исключение выполнится при любой ошибке\")"
   ]
  },
  {
   "cell_type": "markdown",
   "metadata": {},
   "source": [
    "Достаточно дурная практика. В данном случае вы точно обезопасите себя от любых ошибок, однако вы не знаете какие ошибки могут появиться в ходе работы вашей программы"
   ]
  },
  {
   "cell_type": "code",
   "execution_count": 12,
   "metadata": {},
   "outputs": [
    {
     "name": "stdout",
     "output_type": "stream",
     "text": [
      "Данное исключение выполнится при любой ошибке\n"
     ]
    }
   ],
   "source": [
    "a = [1,2,3,4]\n",
    "try:\n",
    "    a[100]\n",
    "except:\n",
    "    print(\"Данное исключение выполнится при любой ошибке\")"
   ]
  },
  {
   "cell_type": "code",
   "execution_count": 13,
   "metadata": {},
   "outputs": [
    {
     "name": "stdout",
     "output_type": "stream",
     "text": [
      "Данное исключение выполнится при любой ошибке\n"
     ]
    }
   ],
   "source": [
    "a = {1:1, 2:2, 3:3}\n",
    "try:\n",
    "    a[100]\n",
    "except:\n",
    "    print(\"Данное исключение выполнится при любой ошибке\")"
   ]
  },
  {
   "cell_type": "markdown",
   "metadata": {},
   "source": [
    "Все три ячейки имеют разные классы ошибок, однако все подчищаются \"голым исключением\". Соответственно, понять причину возникновения ошибки достаточно сложно, если кусок try большой"
   ]
  },
  {
   "cell_type": "code",
   "execution_count": 15,
   "metadata": {},
   "outputs": [
    {
     "name": "stdout",
     "output_type": "stream",
     "text": [
      "Ошибка ключа\n"
     ]
    }
   ],
   "source": [
    "a = {1:1, 2:2, 3:3}\n",
    "try:\n",
    "    a[100]\n",
    "except KeyError:\n",
    "    print(\"Ошибка ключа\")"
   ]
  },
  {
   "cell_type": "code",
   "execution_count": 2,
   "metadata": {},
   "outputs": [
    {
     "name": "stdout",
     "output_type": "stream",
     "text": [
      "Нет такого индекса\n"
     ]
    }
   ],
   "source": [
    "a = [1,2,3,4]\n",
    "try:\n",
    "    a[100]\n",
    "except IndexError:\n",
    "    print(\"Нет такого индекса\")"
   ]
  },
  {
   "cell_type": "markdown",
   "metadata": {},
   "source": [
    "### Конструкция else"
   ]
  },
  {
   "cell_type": "markdown",
   "metadata": {},
   "source": [
    "Если конструкция try выполнилась без ошибок, то выполняется данный блок"
   ]
  },
  {
   "cell_type": "code",
   "execution_count": 18,
   "metadata": {
    "scrolled": true
   },
   "outputs": [
    {
     "name": "stdout",
     "output_type": "stream",
     "text": [
      "1\n",
      "2\n",
      "3\n",
      "5\n",
      "Все гуууууууд\n"
     ]
    }
   ],
   "source": [
    "lst = ['1', 2, 3.4, 5]\n",
    "try:\n",
    "    for i in lst:\n",
    "        print(int(i))\n",
    "except ValueError:\n",
    "    print('Где то нет числа')\n",
    "else:\n",
    "    print(\"Все гуууууууд\")"
   ]
  },
  {
   "cell_type": "code",
   "execution_count": 19,
   "metadata": {},
   "outputs": [
    {
     "name": "stdout",
     "output_type": "stream",
     "text": [
      "1\n",
      "2\n",
      "3\n",
      "5\n",
      "Где то нет числа\n"
     ]
    }
   ],
   "source": [
    "lst = ['1', 2, 3.4, 5, '1231afsda']\n",
    "try:\n",
    "    for i in lst:\n",
    "        print(int(i))\n",
    "except ValueError:\n",
    "    print('Где то нет числа')\n",
    "else:\n",
    "    print(\"Все гуууууууд\")"
   ]
  },
  {
   "cell_type": "markdown",
   "metadata": {},
   "source": [
    "### Конструкция finally"
   ]
  },
  {
   "cell_type": "markdown",
   "metadata": {},
   "source": [
    "Конструкция finally отрабатывает всегда при любом исходе выполнения try-except"
   ]
  },
  {
   "cell_type": "code",
   "execution_count": 20,
   "metadata": {},
   "outputs": [
    {
     "name": "stdout",
     "output_type": "stream",
     "text": [
      "1\n",
      "2\n",
      "3\n",
      "5\n",
      "Все гуууууууд\n",
      "А я выполняюсь всегда\n"
     ]
    }
   ],
   "source": [
    "lst = ['1', 2, 3.4, 5]\n",
    "try:\n",
    "    for i in lst:\n",
    "        print(int(i))\n",
    "except ValueError:\n",
    "    print('Где то нет числа')\n",
    "else:\n",
    "    print(\"Все гуууууууд\")\n",
    "finally:\n",
    "    print('А я выполняюсь всегда')"
   ]
  },
  {
   "cell_type": "code",
   "execution_count": 21,
   "metadata": {},
   "outputs": [
    {
     "name": "stdout",
     "output_type": "stream",
     "text": [
      "1\n",
      "2\n",
      "3\n",
      "5\n",
      "Где то нет числа\n",
      "А я выполняюсь всегда\n"
     ]
    }
   ],
   "source": [
    "lst = ['1', 2, 3.4, 5, '1231afsda']\n",
    "try:\n",
    "    for i in lst:\n",
    "        print(int(i))\n",
    "except ValueError:\n",
    "    print('Где то нет числа')\n",
    "else:\n",
    "    print(\"Все гуууууууд\")\n",
    "finally:\n",
    "    print('А я выполняюсь всегда')"
   ]
  },
  {
   "cell_type": "markdown",
   "metadata": {},
   "source": [
    "Правильным тоном при программировании на любом языке программирования - является удаление лишних переменных из оперативной памяти. При написании небольших программ нагрузка от лишних хранимых данных не замечается, однако, если вы составляете большую полновесную информационную систему (особенно многопоточную), то все переменные необходимо удалять. Пример:"
   ]
  },
  {
   "cell_type": "code",
   "execution_count": 31,
   "metadata": {},
   "outputs": [
    {
     "name": "stdout",
     "output_type": "stream",
     "text": [
      "asdf\n",
      "Ошибка\n",
      "asdf\n",
      "После блока asdf\n"
     ]
    }
   ],
   "source": [
    "try:\n",
    "    a = input()\n",
    "    a = int(a)\n",
    "except ValueError:\n",
    "    print('Ошибка')\n",
    "finally:\n",
    "    print(a)\n",
    "print('После блока', a)"
   ]
  },
  {
   "cell_type": "markdown",
   "metadata": {},
   "source": [
    "Несмотря на произошедшую ошибку, все выражения, которые возникают до её возникновение (3 строчка ячейки), вычисляются, и, в данном случае сохраняются в переменную. Но блок не выполнился, а переменная осталась. Если с числами нет необходимости их постоянно удалять, то, например, с переменной, которая в себе хранит прочитанный csv-файл с 5000 строками, лучше удалить, так как она продолжить сидеть в памяти"
   ]
  },
  {
   "cell_type": "code",
   "execution_count": 32,
   "metadata": {},
   "outputs": [
    {
     "name": "stdout",
     "output_type": "stream",
     "text": [
      "asdf\n",
      "Ошибка\n"
     ]
    },
    {
     "ename": "NameError",
     "evalue": "name 'a' is not defined",
     "output_type": "error",
     "traceback": [
      "\u001b[1;31m---------------------------------------------------------------------------\u001b[0m",
      "\u001b[1;31mNameError\u001b[0m                                 Traceback (most recent call last)",
      "\u001b[1;32m<ipython-input-32-d7db5052fd21>\u001b[0m in \u001b[0;36m<module>\u001b[1;34m()\u001b[0m\n\u001b[0;32m      6\u001b[0m \u001b[1;32mfinally\u001b[0m\u001b[1;33m:\u001b[0m\u001b[1;33m\u001b[0m\u001b[0m\n\u001b[0;32m      7\u001b[0m     \u001b[1;32mdel\u001b[0m \u001b[0ma\u001b[0m\u001b[1;33m\u001b[0m\u001b[0m\n\u001b[1;32m----> 8\u001b[1;33m \u001b[0mprint\u001b[0m\u001b[1;33m(\u001b[0m\u001b[0ma\u001b[0m\u001b[1;33m)\u001b[0m\u001b[1;33m\u001b[0m\u001b[0m\n\u001b[0m",
      "\u001b[1;31mNameError\u001b[0m: name 'a' is not defined"
     ]
    }
   ],
   "source": [
    "try:\n",
    "    a = input()\n",
    "    a = int(a)\n",
    "except ValueError:\n",
    "    print('Ошибка')\n",
    "finally:\n",
    "    del a\n",
    "print(a)"
   ]
  },
  {
   "cell_type": "markdown",
   "metadata": {},
   "source": [
    "Это самое классическое применение блока finally во всех скриптовых языках программирования (коим Python и является)"
   ]
  },
  {
   "cell_type": "markdown",
   "metadata": {},
   "source": [
    "### Raise"
   ]
  },
  {
   "cell_type": "markdown",
   "metadata": {},
   "source": [
    "Исключение можно поднять при помощи оператора raise, передав ему имя ошибки/исключения, а также объект исключения, который нужно выбросить.\n",
    "\n",
    "Вызываемая ошибка или исключение должна быть классом, который прямо или непрямо является производным от класса Exception."
   ]
  },
  {
   "cell_type": "code",
   "execution_count": 3,
   "metadata": {},
   "outputs": [
    {
     "name": "stdout",
     "output_type": "stream",
     "text": [
      "Введите что-нибудь --> 7\n",
      "ShortInputException: Длина введённой строки -- 1;            ожидалось, как минимум, 3\n"
     ]
    }
   ],
   "source": [
    "class ShortInputException(Exception):\n",
    "    '''Пользовательский класс исключения.'''\n",
    "    def __init__(self, length, atleast):\n",
    "        Exception.__init__(self)\n",
    "        self.length = length\n",
    "        self.atleast = atleast\n",
    "\n",
    "try:\n",
    "    text = input('Введите что-нибудь --> ')\n",
    "    if len(text) < 3:\n",
    "        raise ShortInputException(len(text), 3)\n",
    "    # Здесь может происходить обычная работа\n",
    "except EOFError:\n",
    "    print('Ну зачем вы сделали мне EOF?')\n",
    "except ShortInputException as ex:\n",
    "    print('ShortInputException: Длина введённой строки -- {0}; \\\n",
    "           ожидалось, как минимум, {1}'.format(ex.length, ex.atleast))\n",
    "else:\n",
    "    print('Не было исключений.')"
   ]
  },
  {
   "cell_type": "markdown",
   "metadata": {},
   "source": [
    "Примеры из \"жизни\" будет представлен в следующем блоке"
   ]
  },
  {
   "cell_type": "markdown",
   "metadata": {},
   "source": [
    "### Assert"
   ]
  },
  {
   "cell_type": "markdown",
   "metadata": {},
   "source": [
    "По своей сути инструкция <b>assert</b> представляет собой средство отладки, которое проверяет условие. Если условие утверждения <b>assert</b> <i>истинно </i>, то ничего не происходит и Ваша программа продолжет выполняться как обычно. Но если же вычисление условия дает результат <i>False</i>, то вызывается исключение <b>AssertionError</b> с необязательным сообщением об ошибке"
   ]
  },
  {
   "cell_type": "markdown",
   "metadata": {},
   "source": [
    "#### Инструкция assert в Python - пример"
   ]
  },
  {
   "cell_type": "markdown",
   "metadata": {},
   "source": [
    "Предположим, Вы создаете интернет-магазин с помощью Python. Вы работаете над добавлением в систему функциональности скидочного купона, и в итоге Вы пишете следующую функцию apply_discount"
   ]
  },
  {
   "cell_type": "code",
   "execution_count": 4,
   "metadata": {},
   "outputs": [],
   "source": [
    "def apply_discount(product, discount):\n",
    "    price = int(product['цена'] * (1.0 - discount))\n",
    "    assert 0 <= price <= product['цена']\n",
    "    return price"
   ]
  },
  {
   "cell_type": "markdown",
   "metadata": {},
   "source": [
    "В данном случае инструкция assert будет гарантировать, что, независимо от обстоятельств, вычисляемые этой функцией сниженные цены не могу быть ниже 0, и они не могут быть выше первоначальной цены товара"
   ]
  },
  {
   "cell_type": "markdown",
   "metadata": {},
   "source": [
    "##### Проверка работы"
   ]
  },
  {
   "cell_type": "code",
   "execution_count": 5,
   "metadata": {},
   "outputs": [
    {
     "data": {
      "text/plain": [
       "11175"
      ]
     },
     "execution_count": 5,
     "metadata": {},
     "output_type": "execute_result"
    }
   ],
   "source": [
    "shoes = {'имя': 'Dr. Martens', 'цена': 14900}\n",
    "apply_discount(shoes, 0.25)"
   ]
  },
  {
   "cell_type": "code",
   "execution_count": 6,
   "metadata": {},
   "outputs": [
    {
     "ename": "AssertionError",
     "evalue": "",
     "output_type": "error",
     "traceback": [
      "\u001b[0;31m---------------------------------------------------------------------------\u001b[0m",
      "\u001b[0;31mAssertionError\u001b[0m                            Traceback (most recent call last)",
      "\u001b[0;32m<ipython-input-6-e53e95c2a957>\u001b[0m in \u001b[0;36m<module>\u001b[0;34m\u001b[0m\n\u001b[0;32m----> 1\u001b[0;31m \u001b[0mapply_discount\u001b[0m\u001b[0;34m(\u001b[0m\u001b[0mshoes\u001b[0m\u001b[0;34m,\u001b[0m \u001b[0;36m2.0\u001b[0m\u001b[0;34m)\u001b[0m\u001b[0;34m\u001b[0m\u001b[0;34m\u001b[0m\u001b[0m\n\u001b[0m",
      "\u001b[0;32m<ipython-input-4-952573abf337>\u001b[0m in \u001b[0;36mapply_discount\u001b[0;34m(product, discount)\u001b[0m\n\u001b[1;32m      1\u001b[0m \u001b[0;32mdef\u001b[0m \u001b[0mapply_discount\u001b[0m\u001b[0;34m(\u001b[0m\u001b[0mproduct\u001b[0m\u001b[0;34m,\u001b[0m \u001b[0mdiscount\u001b[0m\u001b[0;34m)\u001b[0m\u001b[0;34m:\u001b[0m\u001b[0;34m\u001b[0m\u001b[0;34m\u001b[0m\u001b[0m\n\u001b[1;32m      2\u001b[0m     \u001b[0mprice\u001b[0m \u001b[0;34m=\u001b[0m \u001b[0mint\u001b[0m\u001b[0;34m(\u001b[0m\u001b[0mproduct\u001b[0m\u001b[0;34m[\u001b[0m\u001b[0;34m'цена'\u001b[0m\u001b[0;34m]\u001b[0m \u001b[0;34m*\u001b[0m \u001b[0;34m(\u001b[0m\u001b[0;36m1.0\u001b[0m \u001b[0;34m-\u001b[0m \u001b[0mdiscount\u001b[0m\u001b[0;34m)\u001b[0m\u001b[0;34m)\u001b[0m\u001b[0;34m\u001b[0m\u001b[0;34m\u001b[0m\u001b[0m\n\u001b[0;32m----> 3\u001b[0;31m     \u001b[0;32massert\u001b[0m \u001b[0;36m0\u001b[0m \u001b[0;34m<=\u001b[0m \u001b[0mprice\u001b[0m \u001b[0;34m<=\u001b[0m \u001b[0mproduct\u001b[0m\u001b[0;34m[\u001b[0m\u001b[0;34m'цена'\u001b[0m\u001b[0;34m]\u001b[0m\u001b[0;34m\u001b[0m\u001b[0;34m\u001b[0m\u001b[0m\n\u001b[0m\u001b[1;32m      4\u001b[0m     \u001b[0;32mreturn\u001b[0m \u001b[0mprice\u001b[0m\u001b[0;34m\u001b[0m\u001b[0;34m\u001b[0m\u001b[0m\n",
      "\u001b[0;31mAssertionError\u001b[0m: "
     ]
    }
   ],
   "source": [
    "apply_discount(shoes, 2.0)"
   ]
  },
  {
   "cell_type": "markdown",
   "metadata": {},
   "source": [
    "Вы можете видеть отчет об обратной трассировке этого исключения и то, как он указывает на точную строку исхоного кода, содержазую вызвавшее сбой утверждение. Если во время проверки интернет-магазина Вы (или другой разработчик) столкнетесь с одной из таких ошибок - вы легко узнаете, что произошло, просто посмотрев на отчет об обратной трассировке исключения"
   ]
  },
  {
   "cell_type": "markdown",
   "metadata": {},
   "source": [
    "Это значительно ускорит отладку и в дальнейшем сделает Ваши программы удобнее в поддержке. А в этом как раз и заключается смысл assert!"
   ]
  },
  {
   "cell_type": "markdown",
   "metadata": {},
   "source": [
    "#### Почему просто не применить обычное исключение if?"
   ]
  },
  {
   "cell_type": "markdown",
   "metadata": {},
   "source": [
    "Почему в предыдущем примере просто не применить if и исключение?"
   ]
  },
  {
   "cell_type": "markdown",
   "metadata": {},
   "source": [
    "Дело в том, что инструкция assert предназначена для того, чтобы сообщать разработчикам о <b>неустранимых</b> ошибках в программе. Инструкция assert НЕ предназначена для того, чтобы сигнализировать об ожидаемых ошибочных условиях, таких как ошибка \"Файл не найден\", где пользователь может предпринять корректирующие действия или просто попробовать еще раз"
   ]
  },
  {
   "cell_type": "markdown",
   "metadata": {},
   "source": [
    "Инструкции призваны быть внутренними самопроверками Вашей программы. Они работают путем объъявления неких условий, возникновение которых в Вашем исходном коде НЕВОЗМОЖНО. Если одно из таких условий не сохраняется, то это означает, что в программе есть ошибка"
   ]
  },
  {
   "cell_type": "markdown",
   "metadata": {},
   "source": [
    "Если Ваша программа бездефектна, то эти условия никогда не возникнут. Но если же они возникают, то программа завершится аварийно с исключением AssertionError, говорящим, какое именно \"невозможное\" условие было вызвано. Это намного упрощает отслеживание и исправление ошибок в Ваших программах."
   ]
  },
  {
   "cell_type": "markdown",
   "metadata": {},
   "source": [
    "То есть цел использования инструкции assert состоит в том, чтобы позволить ращработчикам как можно скорее найти вероятную первопричину ошибки."
   ]
  },
  {
   "cell_type": "markdown",
   "metadata": {},
   "source": [
    "### Синтаксис инструкции assert"
   ]
  },
  {
   "cell_type": "markdown",
   "metadata": {},
   "source": [
    "assert выражение1 [, выражение2]"
   ]
  },
  {
   "cell_type": "markdown",
   "metadata": {},
   "source": [
    "В данном случае выражение1 - условие, которое мы проверяем, а необязательное выражение2 - сообщение об ошибке, которое выводится на экран, если утверждение дает сбой. Во время исполнения программы интерпретатор Python преобразовывает каждую инструкцию assert примерно в следующую последовательность инструкций"
   ]
  },
  {
   "cell_type": "code",
   "execution_count": 7,
   "metadata": {},
   "outputs": [
    {
     "ename": "NameError",
     "evalue": "name 'выражение1' is not defined",
     "output_type": "error",
     "traceback": [
      "\u001b[0;31m---------------------------------------------------------------------------\u001b[0m",
      "\u001b[0;31mNameError\u001b[0m                                 Traceback (most recent call last)",
      "\u001b[0;32m<ipython-input-7-b83b00fe8639>\u001b[0m in \u001b[0;36m<module>\u001b[0;34m\u001b[0m\n\u001b[1;32m      1\u001b[0m \u001b[0;32mif\u001b[0m \u001b[0m__debug__\u001b[0m\u001b[0;34m:\u001b[0m\u001b[0;34m\u001b[0m\u001b[0;34m\u001b[0m\u001b[0m\n\u001b[0;32m----> 2\u001b[0;31m     \u001b[0;32mif\u001b[0m \u001b[0;32mnot\u001b[0m \u001b[0mвыражение1\u001b[0m\u001b[0;34m:\u001b[0m\u001b[0;34m\u001b[0m\u001b[0;34m\u001b[0m\u001b[0m\n\u001b[0m\u001b[1;32m      3\u001b[0m         \u001b[0;32mraise\u001b[0m \u001b[0mAssertionError\u001b[0m\u001b[0;34m(\u001b[0m\u001b[0mвыражение2\u001b[0m\u001b[0;34m)\u001b[0m\u001b[0;34m\u001b[0m\u001b[0;34m\u001b[0m\u001b[0m\n",
      "\u001b[0;31mNameError\u001b[0m: name 'выражение1' is not defined"
     ]
    }
   ],
   "source": [
    "if __debug__:\n",
    "    if not выражение1:\n",
    "        raise AssertionError(выражение2)"
   ]
  },
  {
   "cell_type": "markdown",
   "metadata": {},
   "source": [
    "Посмотрим на другой код"
   ]
  },
  {
   "cell_type": "code",
   "execution_count": null,
   "metadata": {},
   "outputs": [],
   "source": [
    "if cond == 'x':\n",
    "    do_x()\n",
    "elif cond == 'y':\n",
    "    do_y()\n",
    "else:\n",
    "    assert False, (\n",
    "        'Это никогда не должно произойти, и тем не менее это'\n",
    "        'временами происходит. Сейчас мы пытаемся выяснить'\n",
    "        'причину')"
   ]
  },
  {
   "cell_type": "code",
   "execution_count": null,
   "metadata": {},
   "outputs": [],
   "source": [
    "assert ()"
   ]
  },
  {
   "cell_type": "markdown",
   "metadata": {},
   "source": [
    "С одной стороны это УЖАСНЫЙ код. У нас идут 2 проверки условий, а во всех остальных случаях всегда вызывается исключение (Результат вычисления выражения \"False\" всегда является ложью). Однако данный прием допустим и полезен только в одном случае, если Вы встречаетесь с плавающей ошибкой Гейзенбаг"
   ]
  },
  {
   "cell_type": "markdown",
   "metadata": {},
   "source": [
    "### Распространенные ловушки прои использовании ASSERT"
   ]
  },
  {
   "cell_type": "markdown",
   "metadata": {},
   "source": [
    "#### Предостережение 1. Никогда не используйте инструкции assert для проверки данных"
   ]
  },
  {
   "cell_type": "markdown",
   "metadata": {},
   "source": [
    "Самое главное предостережение - assert может быть глобально отключены. Что превращает assert в нулевую операцию: утверждения assert просто компилируются и вычисляться не будут, это означает, что ни одно из условных выражений не будет выполнено."
   ]
  },
  {
   "cell_type": "markdown",
   "metadata": {},
   "source": [
    "Соответственно, если в Вашей программе исключения assert используются для проверки того, содержит ли аргумент функции \"неправильное\" или неожиданное значение - решение может привести к ошибкам или дырам с точки зрения безопасности"
   ]
  },
  {
   "cell_type": "markdown",
   "metadata": {},
   "source": [
    "Опять пример на основе интернет-магазина"
   ]
  },
  {
   "cell_type": "code",
   "execution_count": null,
   "metadata": {},
   "outputs": [],
   "source": [
    "def delete_product(prod_id, user):\n",
    "    assert user.is_admin(), 'здесь должен быть администратор'\n",
    "    assert store.has_product(prod_id), 'Неизвестный товар'\n",
    "    store.get_product(prod_id).delete()"
   ]
  },
  {
   "cell_type": "markdown",
   "metadata": {},
   "source": [
    "В этом примере есть 2 серьезные проблемы"
   ]
  },
  {
   "cell_type": "markdown",
   "metadata": {},
   "source": [
    "1. <b>Проверка полномочий администратора инструкциями assert несет в себе опасность</b>. Если утверждения assert отключены (а в prod'е они почти всегда отключены), то проверка полномочий превращается в нулевую операцию. И поэтому любой пользователь может удалить товары\n",
    "2. Проверка has_product() пропускается, когда assert отключена. Это означает, что метод get_product можно вызвать с недопустимым идентификатором, что может привести к более серьезным ошибкам. В худшем случаек она сможет стать началом запуска DoS - атак."
   ]
  },
  {
   "cell_type": "code",
   "execution_count": null,
   "metadata": {},
   "outputs": [],
   "source": [
    "def delete_product(prod_id, user):\n",
    "    if not user.is_admin():\n",
    "        raise AuthError('Для удаления необходимы права админа')\n",
    "    if not store.has_product(prod_id):\n",
    "        raise ValueError('Идентификатор неизвестного товара')\n",
    "    store.get_product(prod_id).delete()"
   ]
  },
  {
   "cell_type": "markdown",
   "metadata": {},
   "source": [
    "#### Предостережение 2. Инструкции assert, которые никогда не дают сбоя"
   ]
  },
  {
   "cell_type": "markdown",
   "metadata": {},
   "source": [
    "В принципе логично. Если Ваша инструкция assert никогда не даст сбоя, то она никогда не приведет к ошибке. И это достаточно просто сделать"
   ]
  }
 ],
 "metadata": {
  "kernelspec": {
   "display_name": "Python 3 (ipykernel)",
   "language": "python",
   "name": "python3"
  },
  "language_info": {
   "codemirror_mode": {
    "name": "ipython",
    "version": 3
   },
   "file_extension": ".py",
   "mimetype": "text/x-python",
   "name": "python",
   "nbconvert_exporter": "python",
   "pygments_lexer": "ipython3",
   "version": "3.11.5"
  }
 },
 "nbformat": 4,
 "nbformat_minor": 2
}
