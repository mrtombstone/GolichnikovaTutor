{
 "cells": [
  {
   "cell_type": "markdown",
   "metadata": {},
   "source": [
    "# Циклы"
   ]
  },
  {
   "cell_type": "markdown",
   "metadata": {},
   "source": [
    "## Цикл while"
   ]
  },
  {
   "cell_type": "markdown",
   "metadata": {},
   "source": [
    "Цикл While выполняет тело цикла до тех пор, пока условие цикла истинно."
   ]
  },
  {
   "cell_type": "code",
   "execution_count": 22,
   "metadata": {},
   "outputs": [
    {
     "name": "stdout",
     "output_type": "stream",
     "text": [
      "5\n",
      "7\n",
      "9\n",
      "11\n",
      "13\n"
     ]
    }
   ],
   "source": [
    "i = 5\n",
    "while i < 15:\n",
    "    print(i)\n",
    "    i = i + 2"
   ]
  },
  {
   "cell_type": "markdown",
   "metadata": {},
   "source": [
    "## Цикл for"
   ]
  },
  {
   "cell_type": "markdown",
   "metadata": {},
   "source": [
    "Цикл for выполняется гораздо быстрее цикла while. Этот цикл проходится по любому итерируемому объекту (например, по строке или списку), и во время каждого прохода выполняет тело цикла."
   ]
  },
  {
   "cell_type": "code",
   "execution_count": 23,
   "metadata": {},
   "outputs": [
    {
     "name": "stdout",
     "output_type": "stream",
     "text": [
      "hheelllloo  wwoorrlldd"
     ]
    }
   ],
   "source": [
    "for i in 'hello world':\n",
    "    print(i * 2, end='')"
   ]
  },
  {
   "cell_type": "markdown",
   "metadata": {},
   "source": [
    "Цикл for можно реализовать с помощью цикла while (неэффективно!):"
   ]
  },
  {
   "cell_type": "code",
   "execution_count": 24,
   "metadata": {},
   "outputs": [
    {
     "name": "stdout",
     "output_type": "stream",
     "text": [
      "8\n"
     ]
    }
   ],
   "source": [
    "product = 1 # Переменная для хранения результата перемножения\n",
    "i = iter([1, 2, 4]) # Создание итератора: при вызове функции next() будет возвращать следующее значение последовательности\n",
    "while True: \n",
    "    try: \n",
    "        product *= next(i) \n",
    "    except StopIteration: \n",
    "        break \n",
    "print(product) "
   ]
  },
  {
   "cell_type": "markdown",
   "metadata": {},
   "source": [
    "## Оператор continue"
   ]
  },
  {
   "cell_type": "markdown",
   "metadata": {},
   "source": [
    "Оператор continue начинает следующий проход цикла, минуя оставшееся тело цикла (for или while)."
   ]
  },
  {
   "cell_type": "code",
   "execution_count": 25,
   "metadata": {},
   "outputs": [
    {
     "name": "stdout",
     "output_type": "stream",
     "text": [
      "hheellll  wwrrlldd"
     ]
    }
   ],
   "source": [
    "for i in 'hello world':\n",
    "    if i == 'o':\n",
    "        continue\n",
    "    print(i * 2, end='')"
   ]
  },
  {
   "cell_type": "markdown",
   "metadata": {},
   "source": [
    "## Оператор break"
   ]
  },
  {
   "cell_type": "markdown",
   "metadata": {},
   "source": [
    "Оператор break досрочно прерывает цикл."
   ]
  },
  {
   "cell_type": "code",
   "execution_count": 26,
   "metadata": {},
   "outputs": [
    {
     "name": "stdout",
     "output_type": "stream",
     "text": [
      "hheellll"
     ]
    }
   ],
   "source": [
    "for i in 'hello world':\n",
    "    if i == 'o':\n",
    "        break\n",
    "    print(i * 2, end='')"
   ]
  },
  {
   "cell_type": "markdown",
   "metadata": {},
   "source": [
    "## Инструкция else"
   ]
  },
  {
   "cell_type": "markdown",
   "metadata": {},
   "source": [
    "Инструкция else, примененная в цикле for или while, проверяет, был ли произведен выход из цикла с помощью оператора break или же цикл завершился \"естественным\" образом. **Блок инструкций внутри else выполнится только в том случае, если выход из цикла произошел без помощи break**."
   ]
  },
  {
   "cell_type": "code",
   "execution_count": 27,
   "metadata": {},
   "outputs": [
    {
     "name": "stdout",
     "output_type": "stream",
     "text": [
      "Буквы a в строке нет\n"
     ]
    }
   ],
   "source": [
    "for i in 'hello world':\n",
    "    if i == 'a':\n",
    "        break\n",
    "else:\n",
    "    print('Буквы a в строке нет')"
   ]
  },
  {
   "cell_type": "code",
   "execution_count": 1,
   "metadata": {},
   "outputs": [],
   "source": [
    "for i in 'hello world':\n",
    "    if i == 'o':\n",
    "        break\n",
    "else:\n",
    "    print('Буквы a в строке нет')"
   ]
  },
  {
   "cell_type": "markdown",
   "metadata": {},
   "source": [
    "## Функция range"
   ]
  },
  {
   "cell_type": "markdown",
   "metadata": {},
   "source": [
    "Функция range() возвращает целочисленный итератор. Способы обращения к функции range:\n",
    "\n",
    "* _range (stop)_ - c одним аргументом; итератор представляет собой последовательность целых чисел от 0 до stop (не включая!).\n",
    "\n",
    "* _range (start, stop)_ - c двумя аргументами; итератор представляет собой последовательность целых чисел от start до stop (не включая!).\n",
    "\n",
    "* _range (start, stop, step)_ - c тремя аргументами; итератор представляет собой последовательность целых чисел от start до stop (не включая!) с шагом step."
   ]
  },
  {
   "cell_type": "code",
   "execution_count": 3,
   "metadata": {},
   "outputs": [
    {
     "name": "stdout",
     "output_type": "stream",
     "text": [
      "0\n",
      "1\n",
      "2\n",
      "3\n",
      "4\n"
     ]
    }
   ],
   "source": [
    "for i in range(5):\n",
    "    print(i)"
   ]
  },
  {
   "cell_type": "code",
   "execution_count": 4,
   "metadata": {},
   "outputs": [
    {
     "name": "stdout",
     "output_type": "stream",
     "text": [
      "2\n",
      "3\n",
      "4\n",
      "5\n",
      "6\n"
     ]
    }
   ],
   "source": [
    "for i in range(2,7):\n",
    "    print(i)"
   ]
  },
  {
   "cell_type": "code",
   "execution_count": 5,
   "metadata": {},
   "outputs": [
    {
     "name": "stdout",
     "output_type": "stream",
     "text": [
      "-3\n",
      "-1\n",
      "1\n",
      "3\n",
      "5\n"
     ]
    }
   ],
   "source": [
    "for i in range(-3, 6, 2):\n",
    "    print(i)"
   ]
  },
  {
   "cell_type": "markdown",
   "metadata": {},
   "source": [
    "## Функция enumerate"
   ]
  },
  {
   "cell_type": "markdown",
   "metadata": {},
   "source": [
    "Функция enumerate() возвращает итератор из пар (индекс, значение) из заданной последовательности. Способы обращения к функции enumerate:\n",
    "\n",
    "* _enumerate (sequence)_ - c одним аргументом; итератор представляет собой последовательность пар индексов (начиная с 0) и соответствующих им элементов из последовательности sequence.\n",
    "\n",
    "* _enumerate (sequence, start)_ - c двумя аргументами; итератор представляет собой последовательность индексов (начиная с start) и соответствующих им элементов из последовательности sequence."
   ]
  },
  {
   "cell_type": "code",
   "execution_count": 29,
   "metadata": {},
   "outputs": [
    {
     "name": "stdout",
     "output_type": "stream",
     "text": [
      "Symbol 'H' has index 0\n",
      "Symbol 'e' has index 1\n",
      "Symbol 'l' has index 2\n",
      "Symbol 'l' has index 3\n",
      "Symbol 'o' has index 4\n",
      "Symbol ' ' has index 5\n",
      "Symbol 'w' has index 6\n",
      "Symbol 'o' has index 7\n",
      "Symbol 'r' has index 8\n",
      "Symbol 'l' has index 9\n",
      "Symbol 'd' has index 10\n"
     ]
    }
   ],
   "source": [
    "st = 'Hello world'\n",
    "for ind, symb in enumerate(st):\n",
    "    print(\"Symbol '{}' has index {}\".format(symb, ind))"
   ]
  }
 ],
 "metadata": {
  "kernelspec": {
   "display_name": "Python 3 (ipykernel)",
   "language": "python",
   "name": "python3"
  },
  "language_info": {
   "codemirror_mode": {
    "name": "ipython",
    "version": 3
   },
   "file_extension": ".py",
   "mimetype": "text/x-python",
   "name": "python",
   "nbconvert_exporter": "python",
   "pygments_lexer": "ipython3",
   "version": "3.11.5"
  }
 },
 "nbformat": 4,
 "nbformat_minor": 2
}
