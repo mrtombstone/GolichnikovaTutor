{
 "cells": [
  {
   "cell_type": "markdown",
   "metadata": {},
   "source": [
    "## Семинар 9"
   ]
  },
  {
   "cell_type": "markdown",
   "metadata": {},
   "source": [
    "5.1) Написать задокументированную функцию умножения двух чисел. Для каких типов данная функция будет возвращать практически ценный результат? Написать примеры использования этой функции."
   ]
  },
  {
   "cell_type": "markdown",
   "metadata": {},
   "source": [
    "5.2) Написать  функцию умножения принимающую от одного до трех параметров. Написать примеры использования этой функции с разным количеством параметров."
   ]
  },
  {
   "cell_type": "code",
   "execution_count": 9,
   "metadata": {},
   "outputs": [],
   "source": [
    "def multiply(a, b=1, c=1):\n",
    "    return a*b*c"
   ]
  },
  {
   "cell_type": "markdown",
   "metadata": {},
   "source": [
    "5.3) Функцию из задания 2 вызвать с приведенными ниже аргументами. Для случая a4 выбрать 3 первых и 3 последних значения.\n",
    "\n",
    "a1 = (15, 10 ,5)\n",
    "\n",
    "a2 = (3, 1)\n",
    "\n",
    "a3 = [2, 35, 55]\n",
    "\n",
    "a4 = (5, 10 ,15, 20)"
   ]
  },
  {
   "cell_type": "code",
   "execution_count": 11,
   "metadata": {},
   "outputs": [],
   "source": [
    "a1 = (15, 10 ,5)\n",
    "a2 = (3, 1)\n",
    "a3 = [2, 35, 55]\n",
    "a4 = (5, 10 ,15, 20)\n"
   ]
  },
  {
   "cell_type": "code",
   "execution_count": 19,
   "metadata": {},
   "outputs": [
    {
     "data": {
      "text/plain": [
       "3000"
      ]
     },
     "execution_count": 19,
     "metadata": {},
     "output_type": "execute_result"
    }
   ],
   "source": [
    "multiply(*a1)\n",
    "multiply(*a2)\n",
    "multiply(*a3)\n",
    "multiply(*a4[:3])\n",
    "multiply(*a4[-3:])"
   ]
  },
  {
   "cell_type": "markdown",
   "metadata": {},
   "source": [
    "5.4) Реализовать функцию умножения, принимающую неограниченное количество значений. Написать примеры использования этой функции, в том числе с аргументами из задания 3."
   ]
  },
  {
   "cell_type": "code",
   "execution_count": null,
   "metadata": {},
   "outputs": [],
   "source": []
  },
  {
   "cell_type": "markdown",
   "metadata": {},
   "source": [
    "5.5) Реализовать функции для выполнения четырех арифмитических операций преобразующих целые числа в целое число. Создать словарь с функциями и соответствующими им символами операций. Для двух заранее заданных целых чисел (например 25 и 4) выполнить выбранную пользователем арифметическую операцию. "
   ]
  },
  {
   "cell_type": "code",
   "execution_count": 1,
   "metadata": {},
   "outputs": [],
   "source": [
    "calc_dict = {\n",
    "    '+': lambda x, y: x + y,\n",
    "    '-': lambda x, y: x - y,\n",
    "    '*': lambda x, y: x * y,\n",
    "    '/': lambda x, y: x // y\n",
    "}"
   ]
  },
  {
   "cell_type": "code",
   "execution_count": 4,
   "metadata": {},
   "outputs": [
    {
     "data": {
      "text/plain": [
       "20"
      ]
     },
     "execution_count": 4,
     "metadata": {},
     "output_type": "execute_result"
    }
   ],
   "source": [
    "calc_dict['*'](4,5)"
   ]
  },
  {
   "cell_type": "markdown",
   "metadata": {},
   "source": [
    "5.6) Написать калькулятор для строковых выражений вида '<число> <операция> <число>', где <число> - целое число, например 113, <арифмитическая операция> - одна из операций +,-,\\*,/(деление нацело),%(остаток от деления),^(возведение в степень). Пример calc('13 - 5') -> 8"
   ]
  },
  {
   "cell_type": "code",
   "execution_count": 5,
   "metadata": {},
   "outputs": [
    {
     "data": {
      "text/plain": [
       "['13', '-', '5']"
      ]
     },
     "execution_count": 5,
     "metadata": {},
     "output_type": "execute_result"
    }
   ],
   "source": [
    "'13 - 5'.split()"
   ]
  },
  {
   "cell_type": "code",
   "execution_count": 6,
   "metadata": {},
   "outputs": [],
   "source": [
    "def calc(a):\n",
    "    a = a.split()\n",
    "    return calc_dict[a[1]](int(a[0]), int(a[-1]))"
   ]
  },
  {
   "cell_type": "code",
   "execution_count": 8,
   "metadata": {},
   "outputs": [
    {
     "data": {
      "text/plain": [
       "8"
      ]
     },
     "execution_count": 8,
     "metadata": {},
     "output_type": "execute_result"
    }
   ],
   "source": [
    "calc('13 - 5')"
   ]
  },
  {
   "cell_type": "markdown",
   "metadata": {},
   "source": [
    "5.6.2) Написать калькулятор calc_op(s, oper_d), который принимает параметр s -  строковые выражения вида '<число> <операция> <число>', где <число> - целое число, например 113, <операция> - операция, которая кодируется одной буковой (например: p,m и т.п.); oper_d - словарь операций, в котором каждой из рассматриваемых символов операций сопоставлена функция ее рассчета. \n",
    "\n",
    "Пример calc_op('2 s 10', {'s': lambda x,y: x\\*\\*y }) -> 1024"
   ]
  },
  {
   "cell_type": "code",
   "execution_count": null,
   "metadata": {},
   "outputs": [],
   "source": [
    "calc_op('2 s 10', {'s': lambda x,y: x\\*\\*y })"
   ]
  },
  {
   "cell_type": "markdown",
   "metadata": {},
   "source": [
    "5.7) Реализовать функцию которая выводит на экран сообщение вида:\n",
    "\n",
    "'Автомобиль марки: BMW, модели: X5, цвета: белый, 2006 года выпуска, с пробегом: 215 000 км, c номерным знаком: X012АМ77, цена: 1 115 000 руб.'\n",
    "\n",
    "В функцию передаются именованные параметры изменяемой части сообщения, лубой из параметров может быть не задан пользователем функции и автоматически заменен на разумное сообщение в соответствующей части строки. Получить вывод текстового сообщения для словарей c1, c2."
   ]
  },
  {
   "cell_type": "markdown",
   "metadata": {},
   "source": [
    "5.8) Написать функцию, которая преобразует целое число (от 0 до 99) в текстовое написание числа на русском языке. Пример: to_text(15) -> 'Пятнадцать'"
   ]
  },
  {
   "cell_type": "code",
   "execution_count": 25,
   "metadata": {},
   "outputs": [],
   "source": [
    "def to_text(integer):\n",
    "    dict1 = {\n",
    "        1: \"Один\",\n",
    "        2: \"Два\", \n",
    "        3: \"Три\",\n",
    "        4: \"Четыре\",\n",
    "        5: \"Пять\",\n",
    "        6: \"Шесть\",\n",
    "        7: \"Семь\",\n",
    "        8: \"Восемь\",\n",
    "        9: \"Девять\",\n",
    "    }\n",
    "    dict0 = {\n",
    "        11: \"Одиннадацать\",\n",
    "        12: \"Двенадцать\",\n",
    "        13: \"Тринадцать\",\n",
    "        14: \"Четырнадцать\",\n",
    "        15: \"Пятнадцать\",\n",
    "        16: \"Шестьнадцать\",\n",
    "        17: \"Семнадцать\",\n",
    "        18: \"Восемнадцать\",\n",
    "        19: \"Девятнадцать\"\n",
    "    }\n",
    "    dict0.update(dict1)\n",
    "    dict2 = {\n",
    "        0: \"Ноль\",\n",
    "        10: \"Десять\",\n",
    "        20: \"Двадцать\",\n",
    "        30: \"Тридцать\",\n",
    "        40: \"Сорок\",\n",
    "        50: \"Пятьдесят\",\n",
    "        60: \"Шестьдесят\",\n",
    "        70: \"Семдесят\",\n",
    "        80: \"Восемдесят\",\n",
    "        90: \"Девяносто\",\n",
    "    }\n",
    "    if integer%10 == 0:\n",
    "        return(dict2[integer])\n",
    "    if integer < 20:\n",
    "        return dict0[integer]\n",
    "    return dict2[integer//10*10] + \" \" + dict1[integer%10]"
   ]
  },
  {
   "cell_type": "code",
   "execution_count": 31,
   "metadata": {},
   "outputs": [
    {
     "data": {
      "text/plain": [
       "'Семнадцать'"
      ]
     },
     "execution_count": 31,
     "metadata": {},
     "output_type": "execute_result"
    }
   ],
   "source": [
    "to_text(17)"
   ]
  },
  {
   "cell_type": "markdown",
   "metadata": {},
   "source": [
    "5.9) Написать функцию, которая преобразует целое число (от 0 до 999) из текстового представления на руссокм языке в число типа int. Пример: to_int('тридцать три') -> 33"
   ]
  },
  {
   "cell_type": "markdown",
   "metadata": {},
   "source": [
    "5.9.2) Написать функцию, которая преобразует целое число (от 0 до 999) из текстового представления на руссокм языке в число типа int. И сообщает об ошибках (выводит на экран описание типа ошибки и возвращает чило -1). \n",
    "\n",
    "Пример: to_int('тридцать три') -> 33\n",
    "\n",
    "Пример: to_int(\"сто сорок тридцать два сто\") -> -1 Вывод: тридцать - некорректное расположение в числе."
   ]
  },
  {
   "cell_type": "markdown",
   "metadata": {},
   "source": [
    "5.10) Задан список словарей:\n",
    "\n",
    "dl = [{'a': 10, 'b': 20, 'c': 1}, {'a': 5, 'b': 10, 'z': 10}, {'a': 3, 'y': 7}]\n",
    "\n",
    "с помощью анонимной функции отсортировать словари по значению, содержащемуся по ключу 'a'"
   ]
  },
  {
   "cell_type": "code",
   "execution_count": 33,
   "metadata": {},
   "outputs": [],
   "source": [
    "dl = [{'a': 10, 'b': 20, 'c': 1}, {'a': 5, 'b': 10, 'z': 10}, {'a': 3, 'y': 7}]"
   ]
  },
  {
   "cell_type": "code",
   "execution_count": 34,
   "metadata": {},
   "outputs": [
    {
     "ename": "TypeError",
     "evalue": "'<' not supported between instances of 'dict' and 'dict'",
     "output_type": "error",
     "traceback": [
      "\u001b[1;31m---------------------------------------------------------------------------\u001b[0m",
      "\u001b[1;31mTypeError\u001b[0m                                 Traceback (most recent call last)",
      "Cell \u001b[1;32mIn[34], line 1\u001b[0m\n\u001b[1;32m----> 1\u001b[0m \u001b[38;5;28msorted\u001b[39m(dl)\n",
      "\u001b[1;31mTypeError\u001b[0m: '<' not supported between instances of 'dict' and 'dict'"
     ]
    }
   ],
   "source": [
    "sorted(dl, key=lambda x)"
   ]
  }
 ],
 "metadata": {
  "anaconda-cloud": {},
  "kernelspec": {
   "display_name": "Python 3 (ipykernel)",
   "language": "python",
   "name": "python3"
  },
  "language_info": {
   "codemirror_mode": {
    "name": "ipython",
    "version": 3
   },
   "file_extension": ".py",
   "mimetype": "text/x-python",
   "name": "python",
   "nbconvert_exporter": "python",
   "pygments_lexer": "ipython3",
   "version": "3.11.5"
  }
 },
 "nbformat": 4,
 "nbformat_minor": 1
}
