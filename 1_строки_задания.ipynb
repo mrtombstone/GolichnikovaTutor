{
 "cells": [
  {
   "cell_type": "markdown",
   "metadata": {},
   "source": [
    "0) Получить переменную, содержащую строку со значением равным двум в одиннадцатой степени и вывести ее на экран."
   ]
  },
  {
   "cell_type": "code",
   "execution_count": null,
   "metadata": {},
   "outputs": [],
   "source": []
  },
  {
   "cell_type": "markdown",
   "metadata": {},
   "source": [
    "1) Наибольшим количеством способов создать строковую переменную, содержащую текст:\n",
    "\n",
    "It's \"quoted string\""
   ]
  },
  {
   "cell_type": "code",
   "execution_count": null,
   "metadata": {},
   "outputs": [],
   "source": []
  },
  {
   "cell_type": "markdown",
   "metadata": {},
   "source": [
    "2) Наибольшим количеством способов создать строковую переменную, содержащую текст:\n",
    "\n",
    "line1\n",
    "\n",
    "line2\n",
    "\n",
    "line3\n"
   ]
  },
  {
   "cell_type": "code",
   "execution_count": 1,
   "metadata": {},
   "outputs": [],
   "source": [
    "a = \"\"\"line1\n",
    "line2\n",
    "line3\n",
    "\"\"\""
   ]
  },
  {
   "cell_type": "code",
   "execution_count": 3,
   "metadata": {},
   "outputs": [],
   "source": [
    "b = 'line1\\nline2\\nline3'"
   ]
  },
  {
   "cell_type": "code",
   "execution_count": 4,
   "metadata": {},
   "outputs": [
    {
     "name": "stdout",
     "output_type": "stream",
     "text": [
      "line1\n",
      "line2\n",
      "line3\n"
     ]
    }
   ],
   "source": [
    "print(b)"
   ]
  },
  {
   "cell_type": "markdown",
   "metadata": {},
   "source": [
    "3) Наибольшим количеством способов создать строковую переменную, содержащую текст:\n",
    "\n",
    "\\\\\\\\\\\\\\\\\n",
    "\n",
    "\\\\\\\\\\\\\n",
    "\n",
    "\\\\\\\\\n",
    "\n",
    "\\\\"
   ]
  },
  {
   "cell_type": "code",
   "execution_count": null,
   "metadata": {},
   "outputs": [],
   "source": []
  },
  {
   "cell_type": "markdown",
   "metadata": {},
   "source": [
    "4) Вывести 5й с начала и 5й с конца символ из строки 'Hello world'"
   ]
  },
  {
   "cell_type": "code",
   "execution_count": 16,
   "metadata": {},
   "outputs": [],
   "source": [
    "st = 'Hello world'"
   ]
  },
  {
   "cell_type": "code",
   "execution_count": null,
   "metadata": {},
   "outputs": [],
   "source": []
  },
  {
   "cell_type": "markdown",
   "metadata": {},
   "source": [
    "5) Двумя способами получить символ 'w' из строки 'Hello world'"
   ]
  },
  {
   "cell_type": "code",
   "execution_count": null,
   "metadata": {},
   "outputs": [],
   "source": []
  },
  {
   "cell_type": "markdown",
   "metadata": {},
   "source": [
    "6) Вывести символ, находящийся в середине заранее низвестной строки, полученной с помощью функции input()"
   ]
  },
  {
   "cell_type": "code",
   "execution_count": 6,
   "metadata": {},
   "outputs": [
    {
     "name": "stdout",
     "output_type": "stream",
     "text": [
      "adsfadsfdas\n"
     ]
    }
   ],
   "source": [
    "a = input()"
   ]
  },
  {
   "cell_type": "code",
   "execution_count": 7,
   "metadata": {},
   "outputs": [
    {
     "name": "stdout",
     "output_type": "stream",
     "text": [
      "adsfadsfdas\n"
     ]
    }
   ],
   "source": [
    "print(a)"
   ]
  },
  {
   "cell_type": "markdown",
   "metadata": {},
   "source": [
    "7) Для строки 'Light ray' двумя способами получить подстроку с 1го по 4й символы включительно."
   ]
  },
  {
   "cell_type": "code",
   "execution_count": null,
   "metadata": {},
   "outputs": [],
   "source": []
  },
  {
   "cell_type": "markdown",
   "metadata": {},
   "source": [
    "8) Для строки 'My new text' двумя способами получить подстроку с 3го по 7й символы включительно."
   ]
  },
  {
   "cell_type": "code",
   "execution_count": null,
   "metadata": {},
   "outputs": [],
   "source": []
  },
  {
   "cell_type": "markdown",
   "metadata": {},
   "source": [
    "9) Получить подстроку из последних 4х символов строки 'Light ray'."
   ]
  },
  {
   "cell_type": "code",
   "execution_count": null,
   "metadata": {},
   "outputs": [],
   "source": []
  },
  {
   "cell_type": "markdown",
   "metadata": {},
   "source": [
    "10) Составить строку из всех четных символов строки 'Light ray'."
   ]
  },
  {
   "cell_type": "code",
   "execution_count": null,
   "metadata": {},
   "outputs": [],
   "source": []
  },
  {
   "cell_type": "markdown",
   "metadata": {},
   "source": [
    "11) Составить строку из всех нечетных символов строки 'Light ray'."
   ]
  },
  {
   "cell_type": "code",
   "execution_count": null,
   "metadata": {},
   "outputs": [],
   "source": []
  },
  {
   "cell_type": "markdown",
   "metadata": {},
   "source": [
    "12) Инвертировать (получить строку с обратной последовательностью символо) строку  'Light ray'."
   ]
  },
  {
   "cell_type": "code",
   "execution_count": null,
   "metadata": {},
   "outputs": [],
   "source": []
  },
  {
   "cell_type": "markdown",
   "metadata": {},
   "source": [
    "13) Вывести c третьего с начала до предпоследнего символа заранее низвестной строки, полученной с помощью функции input()."
   ]
  },
  {
   "cell_type": "code",
   "execution_count": null,
   "metadata": {},
   "outputs": [],
   "source": []
  },
  {
   "cell_type": "markdown",
   "metadata": {},
   "source": [
    "14) Получить подстроку неизвестной заранее строки, содержащую половину символов строки и расположенную по середине строки."
   ]
  },
  {
   "cell_type": "code",
   "execution_count": null,
   "metadata": {},
   "outputs": [],
   "source": []
  },
  {
   "cell_type": "markdown",
   "metadata": {},
   "source": [
    "15) Проверить, содержит ли произвольная строка, прочитанная в обратную сторону последовательность 'eno' "
   ]
  },
  {
   "cell_type": "code",
   "execution_count": null,
   "metadata": {},
   "outputs": [],
   "source": []
  },
  {
   "cell_type": "markdown",
   "metadata": {},
   "source": [
    "16) Получить строку, начинающуюся с последних 3 символов стркои 'Light ray', а заканчивающуюся подстрокой с 1го до 4го  символоа строки."
   ]
  },
  {
   "cell_type": "code",
   "execution_count": null,
   "metadata": {},
   "outputs": [],
   "source": []
  },
  {
   "cell_type": "markdown",
   "metadata": {},
   "source": [
    "17) Коротко записать создание строки 'oneoneoneoneoneonetwotwotwo'"
   ]
  },
  {
   "cell_type": "code",
   "execution_count": null,
   "metadata": {},
   "outputs": [],
   "source": []
  },
  {
   "cell_type": "markdown",
   "metadata": {},
   "source": [
    "18) Разбить строку '  one,two,three,four,five,six,seven,eight,nine,ten   ' на список из строк, состоящих только из названий цифр."
   ]
  },
  {
   "cell_type": "code",
   "execution_count": null,
   "metadata": {},
   "outputs": [],
   "source": []
  },
  {
   "cell_type": "markdown",
   "metadata": {},
   "source": [
    "19) Вставить между всеми символами строки 'Hello world' стрелочку '->' и сохранить результат в строковой переменной(ожидаемый результат: 'H->e->l->l->o-> ->w->o->r->l->d')"
   ]
  },
  {
   "cell_type": "code",
   "execution_count": null,
   "metadata": {},
   "outputs": [],
   "source": []
  },
  {
   "cell_type": "markdown",
   "metadata": {},
   "source": [
    "20) Для двух произвольных строк провести сравнение на совпадение содержимого без учета регистра букв и начальных и конечных пробельных символов. Например, для двух строк '  HeLLO WOrlD' и 'hello WORLD  ' такое сравнение должно возвращать True (содержание строк совпадает)."
   ]
  },
  {
   "cell_type": "code",
   "execution_count": null,
   "metadata": {},
   "outputs": [],
   "source": []
  },
  {
   "cell_type": "markdown",
   "metadata": {},
   "source": [
    "21) В строке 'hello hello Hello hello' средствами Python найти индекс второго вхождения подстроки 'hel' "
   ]
  },
  {
   "cell_type": "code",
   "execution_count": 4,
   "metadata": {},
   "outputs": [
    {
     "data": {
      "text/plain": [
       "6"
      ]
     },
     "execution_count": 4,
     "metadata": {},
     "output_type": "execute_result"
    }
   ],
   "source": [
    "string = 'hello hello Hello hello'\n",
    "string.index('hel', string.index('hel')+1)"
   ]
  },
  {
   "cell_type": "code",
   "execution_count": 5,
   "metadata": {},
   "outputs": [],
   "source": [
    "?str.rindex"
   ]
  },
  {
   "cell_type": "markdown",
   "metadata": {},
   "source": [
    "22) В строке 'hello hello Hello hello' средствами Python найти индекс второго с конца вхождения подстроки 'hel'"
   ]
  },
  {
   "cell_type": "code",
   "execution_count": 9,
   "metadata": {},
   "outputs": [
    {
     "data": {
      "text/plain": [
       "18"
      ]
     },
     "execution_count": 9,
     "metadata": {},
     "output_type": "execute_result"
    }
   ],
   "source": [
    "string.rindex('hel')"
   ]
  },
  {
   "cell_type": "code",
   "execution_count": 12,
   "metadata": {},
   "outputs": [
    {
     "data": {
      "text/plain": [
       "6"
      ]
     },
     "execution_count": 12,
     "metadata": {},
     "output_type": "execute_result"
    }
   ],
   "source": [
    "string.rindex('hel', 0, string.rindex('hel')-1)"
   ]
  },
  {
   "cell_type": "code",
   "execution_count": 14,
   "metadata": {},
   "outputs": [],
   "source": [
    "?str.rindex"
   ]
  },
  {
   "cell_type": "markdown",
   "metadata": {},
   "source": [
    "23) Из заранее неизвестной строки вырезать подстроку, начинающуюся с 'he' и заканчивающееся 'on' (протестировать на строке ' start hello python world'."
   ]
  },
  {
   "cell_type": "code",
   "execution_count": 17,
   "metadata": {},
   "outputs": [
    {
     "data": {
      "text/plain": [
       "'hello python'"
      ]
     },
     "execution_count": 17,
     "metadata": {},
     "output_type": "execute_result"
    }
   ],
   "source": [
    "string = 'start hello python world'\n",
    "string[string.index('he'):string.index('on')+2]"
   ]
  },
  {
   "cell_type": "markdown",
   "metadata": {},
   "source": [
    "24)* Используя цикл for и функцию enumerate() (см. лекцию 2) в вывести произвольную строку на экран и при этом убрать все пробелы и на их месте вывести номер слова по счету (пример: исходная строка 'hello hello Hello hello' -> выведено на экран 'hello1hello2Hello3hello4')"
   ]
  },
  {
   "cell_type": "code",
   "execution_count": null,
   "metadata": {},
   "outputs": [],
   "source": []
  },
  {
   "cell_type": "markdown",
   "metadata": {},
   "source": [
    "25) Сформировать строку форматирования, которая для вызова format('val1', 'val2', 'val3') будет возрващать следующий результат: 'val3-val2-val1-val2-val3'"
   ]
  },
  {
   "cell_type": "code",
   "execution_count": 19,
   "metadata": {},
   "outputs": [
    {
     "data": {
      "text/plain": [
       "'val3-val2-val1-val2-val3'"
      ]
     },
     "execution_count": 19,
     "metadata": {},
     "output_type": "execute_result"
    }
   ],
   "source": [
    "\"{2}-{1}-{0}-{1}-{2}\".format('val1', 'val2', 'val3')"
   ]
  },
  {
   "cell_type": "markdown",
   "metadata": {},
   "source": [
    "26) Сформировать строку форматирования fs, которая на при использовании в нижеследующем коде приводит к формированию таблицы, выведенной в следующей ячейке."
   ]
  },
  {
   "cell_type": "code",
   "execution_count": 11,
   "metadata": {
    "scrolled": true
   },
   "outputs": [
    {
     "name": "stdout",
     "output_type": "stream",
     "text": [
      "\n",
      "0123456789012345678901234567890123456789\n",
      "|   1 | ###59.06|      453 | 00000001 |\n",
      "|   5 | ##159.00|  123,453 | 00000111 |\n",
      "|  15 | #-159.10| -     12 | 00010000 |\n",
      "| 105 | -1059.10|    1,200 | 11111111 |\n",
      "\n"
     ]
    }
   ],
   "source": [
    "print(\"\"\"\n",
    "0123456789012345678901234567890123456789\n",
    "|   1 | ###59.06|      453 | 00000001 |\n",
    "|   5 | ##159.00|  123,453 | 00000111 |\n",
    "|  15 | #-159.10| -     12 | 00010000 |\n",
    "| 105 | -1059.10|    1,200 | 11111111 |\n",
    "\"\"\")"
   ]
  },
  {
   "cell_type": "code",
   "execution_count": null,
   "metadata": {},
   "outputs": [],
   "source": []
  }
 ],
 "metadata": {
  "kernelspec": {
   "display_name": "Python 3 (ipykernel)",
   "language": "python",
   "name": "python3"
  },
  "language_info": {
   "codemirror_mode": {
    "name": "ipython",
    "version": 3
   },
   "file_extension": ".py",
   "mimetype": "text/x-python",
   "name": "python",
   "nbconvert_exporter": "python",
   "pygments_lexer": "ipython3",
   "version": "3.11.5"
  }
 },
 "nbformat": 4,
 "nbformat_minor": 2
}
