{
 "cells": [
  {
   "cell_type": "markdown",
   "metadata": {},
   "source": [
    "# Строки"
   ]
  },
  {
   "cell_type": "markdown",
   "metadata": {},
   "source": [
    "Строки в Python - упорядоченные последовательности символов, используемые для хранения и представления текстовой информации, поэтому с помощью строк можно работать со всем, что может быть представлено в текстовой форме."
   ]
  },
  {
   "cell_type": "code",
   "execution_count": 3,
   "metadata": {},
   "outputs": [
    {
     "name": "stdout",
     "output_type": "stream",
     "text": [
      "It's a car\n",
      "It\"s a car\n"
     ]
    }
   ],
   "source": [
    "s = \"It's a car\"\n",
    "print(s)\n",
    "s = 'It\"s a car'\n",
    "print(s)"
   ]
  },
  {
   "cell_type": "code",
   "execution_count": 2,
   "metadata": {},
   "outputs": [
    {
     "data": {
      "text/plain": [
       "2"
      ]
     },
     "execution_count": 2,
     "metadata": {},
     "output_type": "execute_result"
    }
   ],
   "source": [
    "1+int('1')"
   ]
  },
  {
   "cell_type": "markdown",
   "metadata": {},
   "source": [
    "Нет никакой разницы в создании строк через апострофы или кавычки. Наличие обоих вариантав обусловлено добавлением данных символов в строку, не используя экранирование"
   ]
  },
  {
   "cell_type": "markdown",
   "metadata": {},
   "source": [
    "### Экранирование"
   ]
  },
  {
   "cell_type": "markdown",
   "metadata": {},
   "source": [
    "<b>Экранирование</b> символов — замена в тексте управляющих символов на соответствующие текстовые подстановки."
   ]
  },
  {
   "cell_type": "markdown",
   "metadata": {},
   "source": [
    "Возьмем тот же пример:"
   ]
  },
  {
   "cell_type": "code",
   "execution_count": 6,
   "metadata": {},
   "outputs": [
    {
     "name": "stdout",
     "output_type": "stream",
     "text": [
      "It's a car\n",
      "It\"s a car\n"
     ]
    }
   ],
   "source": [
    "s = 'It\\'s a car'\n",
    "print(s)\n",
    "s = \"It\\\"s a car\"\n",
    "print(s)"
   ]
  },
  {
   "cell_type": "markdown",
   "metadata": {},
   "source": [
    "В данном случае, из-за применения экранирования апострофа и кавычки, строка не закрывается"
   ]
  },
  {
   "cell_type": "markdown",
   "metadata": {},
   "source": [
    "Соответственно, экранирование в специальной последовательности, позволяет вставить в строки символы, которые невозможно вставить в одинарную строку"
   ]
  },
  {
   "cell_type": "markdown",
   "metadata": {},
   "source": [
    "Самые популярные экранированные последовательности - \\n и \\t <br>\n",
    "\\n отвечает за перевод на новую строку <br>\n",
    "\\t отвечает за горизонтальную табуляцию <br>"
   ]
  },
  {
   "cell_type": "code",
   "execution_count": 15,
   "metadata": {},
   "outputs": [
    {
     "name": "stdout",
     "output_type": "stream",
     "text": [
      "I'm\n",
      "here\n",
      "\n",
      "I'm\there\n"
     ]
    }
   ],
   "source": [
    "print(\"I'm\\nhere\\n\")\n",
    "print(\"I'm\\there\")"
   ]
  },
  {
   "cell_type": "markdown",
   "metadata": {},
   "source": [
    "Остальные экранированные последовательности присутствуют в оф. документации и/или учебниках"
   ]
  },
  {
   "cell_type": "markdown",
   "metadata": {},
   "source": [
    "Соответственно, если \\ - экранирует строку, и необходимо отобразить данный символ, нам необходимо дважды написать \\"
   ]
  },
  {
   "cell_type": "code",
   "execution_count": 17,
   "metadata": {},
   "outputs": [
    {
     "name": "stdout",
     "output_type": "stream",
     "text": [
      "C:\\Users\\Milovanov\\Documents\\\n"
     ]
    }
   ],
   "source": [
    "print(\"C:\\\\Users\\\\Milovanov\\\\Documents\\\\\")"
   ]
  },
  {
   "cell_type": "markdown",
   "metadata": {},
   "source": [
    "### \"Сырая\" строка"
   ]
  },
  {
   "cell_type": "markdown",
   "metadata": {},
   "source": [
    "Сырая строка подавляет экранирование. Данной строкой пользуются в случаях создания регулярных выражений и/или написания путей к файлу"
   ]
  },
  {
   "cell_type": "markdown",
   "metadata": {},
   "source": [
    "Сырые строки начинаются с символа r до начала апострофов или кавычек"
   ]
  },
  {
   "cell_type": "code",
   "execution_count": 18,
   "metadata": {},
   "outputs": [
    {
     "name": "stdout",
     "output_type": "stream",
     "text": [
      "C:\\Users\\Milovanov\\Documents\n"
     ]
    }
   ],
   "source": [
    "print(r'C:\\Users\\Milovanov\\Documents')"
   ]
  },
  {
   "cell_type": "markdown",
   "metadata": {},
   "source": [
    "Однако сырая строка не может заканчиваться на \\\\. Иначе будет вызываться исключение <b>SyntaxError</b>"
   ]
  },
  {
   "cell_type": "code",
   "execution_count": 24,
   "metadata": {},
   "outputs": [
    {
     "ename": "SyntaxError",
     "evalue": "EOL while scanning string literal (<ipython-input-24-b8696830456f>, line 1)",
     "output_type": "error",
     "traceback": [
      "\u001b[1;36m  File \u001b[1;32m\"<ipython-input-24-b8696830456f>\"\u001b[1;36m, line \u001b[1;32m1\u001b[0m\n\u001b[1;33m    print(r'C:\\Users\\Milovanov\\Documents\\')\u001b[0m\n\u001b[1;37m                                           ^\u001b[0m\n\u001b[1;31mSyntaxError\u001b[0m\u001b[1;31m:\u001b[0m EOL while scanning string literal\n"
     ]
    }
   ],
   "source": [
    "print(r'C:\\Users\\Milovanov\\Documents\\')"
   ]
  },
  {
   "cell_type": "code",
   "execution_count": 26,
   "metadata": {},
   "outputs": [
    {
     "name": "stdout",
     "output_type": "stream",
     "text": [
      "C:\\Users\\Milovanov\\Documents\\\\\n",
      "C:\\Users\\Milovanov\\Documents\\\n"
     ]
    }
   ],
   "source": [
    "print(r'C:\\Users\\Milovanov\\Documents\\\\')\n",
    "print(r'C:\\Users\\Milovanov\\Documents\\\\'[:-1])"
   ]
  },
  {
   "cell_type": "markdown",
   "metadata": {},
   "source": [
    "### Многострочный текст"
   ]
  },
  {
   "cell_type": "markdown",
   "metadata": {},
   "source": [
    "Когда необходимо необходимо написать многострочный текст, необходимо использовать тройные кавычки или апострофы"
   ]
  },
  {
   "cell_type": "code",
   "execution_count": 29,
   "metadata": {},
   "outputs": [
    {
     "name": "stdout",
     "output_type": "stream",
     "text": [
      "Вот так\n",
      "Я\n",
      "Могу писать в несколько\n",
      "строк\n"
     ]
    }
   ],
   "source": [
    "s = '''Вот так\n",
    "Я\n",
    "Могу писать в несколько\n",
    "строк'''\n",
    "print(s)"
   ]
  },
  {
   "cell_type": "markdown",
   "metadata": {},
   "source": [
    "### Индекс и Срезы"
   ]
  },
  {
   "cell_type": "markdown",
   "metadata": {},
   "source": [
    "Чтобы взять какой-либо символ из строки, необходимо использовать его индекс. Как и во многих других языках программирования, индексы в Python начинаются с 0"
   ]
  },
  {
   "cell_type": "code",
   "execution_count": 30,
   "metadata": {},
   "outputs": [],
   "source": [
    "string = \"Мой дядя самых честных правил\""
   ]
  },
  {
   "cell_type": "code",
   "execution_count": 31,
   "metadata": {},
   "outputs": [
    {
     "data": {
      "text/plain": [
       "'М'"
      ]
     },
     "execution_count": 31,
     "metadata": {},
     "output_type": "execute_result"
    }
   ],
   "source": [
    "string[0]"
   ]
  },
  {
   "cell_type": "code",
   "execution_count": 32,
   "metadata": {},
   "outputs": [
    {
     "data": {
      "text/plain": [
       "'ч'"
      ]
     },
     "execution_count": 32,
     "metadata": {},
     "output_type": "execute_result"
    }
   ],
   "source": [
    "string[15]"
   ]
  },
  {
   "cell_type": "markdown",
   "metadata": {},
   "source": [
    "Если попытаться взять индекс, который превышает длину строки, появится исключению IndexError"
   ]
  },
  {
   "cell_type": "code",
   "execution_count": 33,
   "metadata": {},
   "outputs": [
    {
     "ename": "IndexError",
     "evalue": "string index out of range",
     "output_type": "error",
     "traceback": [
      "\u001b[1;31m---------------------------------------------------------------------------\u001b[0m",
      "\u001b[1;31mIndexError\u001b[0m                                Traceback (most recent call last)",
      "\u001b[1;32m<ipython-input-33-dfd4afd3c2bd>\u001b[0m in \u001b[0;36m<module>\u001b[1;34m()\u001b[0m\n\u001b[1;32m----> 1\u001b[1;33m \u001b[0mstring\u001b[0m\u001b[1;33m[\u001b[0m\u001b[1;36m1234\u001b[0m\u001b[1;33m]\u001b[0m\u001b[1;33m\u001b[0m\u001b[0m\n\u001b[0m",
      "\u001b[1;31mIndexError\u001b[0m: string index out of range"
     ]
    }
   ],
   "source": [
    "string[1234]"
   ]
  },
  {
   "cell_type": "markdown",
   "metadata": {},
   "source": [
    "Индексы в Python поддерживают отрицательные значения. -1 элемент - последний элемент в строке"
   ]
  },
  {
   "cell_type": "code",
   "execution_count": 36,
   "metadata": {},
   "outputs": [
    {
     "data": {
      "text/plain": [
       "('л', 'р', 'н')"
      ]
     },
     "execution_count": 36,
     "metadata": {},
     "output_type": "execute_result"
    }
   ],
   "source": [
    "string[-1], string[-5], string[-10]"
   ]
  },
  {
   "cell_type": "markdown",
   "metadata": {},
   "source": [
    "Срезы - набор элементов <br>\n",
    "Синтаксис: str[start:end:step] <br> Все элементы являются необязательными <br>\n",
    "Если не указать step, то по умолчанию он равен 1 (каждый следующий символ) <br>\n",
    "Если не указать end, то по умолчанию он равен последнему элементу <br>\n",
    "Если не указать start, То по умолчанию он равен 0 (индекс первого элемента)"
   ]
  },
  {
   "cell_type": "code",
   "execution_count": 38,
   "metadata": {},
   "outputs": [
    {
     "name": "stdout",
     "output_type": "stream",
     "text": [
      "Мой д\n",
      "ядя самых честных правил\n"
     ]
    }
   ],
   "source": [
    "print(string[:5])\n",
    "print(string[5:])"
   ]
  },
  {
   "cell_type": "markdown",
   "metadata": {},
   "source": [
    "Надо учитывать, что параметр <b>start</b> учитывает данный элемент в срезе, а параметр <b>end</b> не учитывает"
   ]
  },
  {
   "cell_type": "code",
   "execution_count": 46,
   "metadata": {},
   "outputs": [
    {
     "name": "stdout",
     "output_type": "stream",
     "text": [
      "Мйдд аы еты рвл\n",
      "ливарп хынтсеч хымас ядяд йоМ\n",
      "\n",
      "дядя \n",
      "дд \n",
      "\n",
      "с ядя\n"
     ]
    }
   ],
   "source": [
    "print(string[::2])\n",
    "print(string[::-1])\n",
    "print()\n",
    "print(string[4:9])\n",
    "print(string[4:9:2])\n",
    "print()\n",
    "print(string[9:4:-1])"
   ]
  },
  {
   "cell_type": "markdown",
   "metadata": {},
   "source": [
    "Если мы делаем шаг отрицательным, то start должен быть больше end"
   ]
  },
  {
   "cell_type": "code",
   "execution_count": 48,
   "metadata": {},
   "outputs": [
    {
     "name": "stdout",
     "output_type": "stream",
     "text": [
      "Мй\n",
      "ясхсха\n"
     ]
    }
   ],
   "source": [
    "print(string[:4:2])\n",
    "print(string[5::4])"
   ]
  },
  {
   "cell_type": "markdown",
   "metadata": {},
   "source": [
    "#### Неизменяемость"
   ]
  },
  {
   "cell_type": "markdown",
   "metadata": {},
   "source": [
    "Всегда учитывайте, что строки - неизменяемый тип данных, то есть, вы не можете изменить строку"
   ]
  },
  {
   "cell_type": "code",
   "execution_count": 51,
   "metadata": {},
   "outputs": [
    {
     "ename": "TypeError",
     "evalue": "'str' object does not support item assignment",
     "output_type": "error",
     "traceback": [
      "\u001b[1;31m---------------------------------------------------------------------------\u001b[0m",
      "\u001b[1;31mTypeError\u001b[0m                                 Traceback (most recent call last)",
      "\u001b[1;32m<ipython-input-51-7511775f3adc>\u001b[0m in \u001b[0;36m<module>\u001b[1;34m()\u001b[0m\n\u001b[0;32m      1\u001b[0m \u001b[0ms\u001b[0m \u001b[1;33m=\u001b[0m \u001b[1;34m\"Hello world! I'm here\"\u001b[0m\u001b[1;33m\u001b[0m\u001b[0m\n\u001b[1;32m----> 2\u001b[1;33m \u001b[0ms\u001b[0m\u001b[1;33m[\u001b[0m\u001b[1;36m5\u001b[0m\u001b[1;33m]\u001b[0m \u001b[1;33m=\u001b[0m \u001b[1;34m'f'\u001b[0m\u001b[1;33m\u001b[0m\u001b[0m\n\u001b[0m",
      "\u001b[1;31mTypeError\u001b[0m: 'str' object does not support item assignment"
     ]
    }
   ],
   "source": [
    "s = \"Hello world! I'm here\"\n",
    "s[5] = 'f'"
   ]
  },
  {
   "cell_type": "markdown",
   "metadata": {},
   "source": [
    "Для изменения символа необходимо делать следующее"
   ]
  },
  {
   "cell_type": "code",
   "execution_count": 54,
   "metadata": {},
   "outputs": [
    {
     "data": {
      "text/plain": [
       "\"Hellofworld! I'm here\""
      ]
     },
     "execution_count": 54,
     "metadata": {},
     "output_type": "execute_result"
    }
   ],
   "source": [
    "s = s[:5] + 'f' + s[6:]\n",
    "s"
   ]
  },
  {
   "cell_type": "markdown",
   "metadata": {},
   "source": [
    "В ячейке сверху представлена <b> конкатенация </b>строк, т.е. сложение строк. Конкатенация <b>НЕ</b> изменяет строку, а создает новую"
   ]
  },
  {
   "cell_type": "markdown",
   "metadata": {},
   "source": [
    "## Функции и методы строк"
   ]
  },
  {
   "cell_type": "markdown",
   "metadata": {},
   "source": [
    "### Конкатенация (сложение строк)"
   ]
  },
  {
   "cell_type": "code",
   "execution_count": 56,
   "metadata": {},
   "outputs": [
    {
     "name": "stdout",
     "output_type": "stream",
     "text": [
      "Hello World\n"
     ]
    }
   ],
   "source": [
    "s = \"Hello\" + \" \" + 'World'\n",
    "print(s)"
   ]
  },
  {
   "cell_type": "markdown",
   "metadata": {},
   "source": [
    "### Повторение строки"
   ]
  },
  {
   "cell_type": "code",
   "execution_count": 59,
   "metadata": {},
   "outputs": [
    {
     "name": "stdout",
     "output_type": "stream",
     "text": [
      "Я повторяюсь 13 раз\tЯ повторяюсь 13 раз\tЯ повторяюсь 13 раз\tЯ повторяюсь 13 раз\tЯ повторяюсь 13 раз\tЯ повторяюсь 13 раз\tЯ повторяюсь 13 раз\tЯ повторяюсь 13 раз\tЯ повторяюсь 13 раз\tЯ повторяюсь 13 раз\tЯ повторяюсь 13 раз\tЯ повторяюсь 13 раз\tЯ повторяюсь 13 раз\t\n"
     ]
    }
   ],
   "source": [
    "s = \"Я повторяюсь 13 раз\\t\" * 13\n",
    "print(s)"
   ]
  },
  {
   "cell_type": "markdown",
   "metadata": {},
   "source": [
    "### Длина строки (функцт len() )"
   ]
  },
  {
   "cell_type": "code",
   "execution_count": 61,
   "metadata": {},
   "outputs": [
    {
     "name": "stdout",
     "output_type": "stream",
     "text": [
      "23\n"
     ]
    }
   ],
   "source": [
    "string = 'Я строка из 23 символов'\n",
    "print(len(string))"
   ]
  },
  {
   "cell_type": "markdown",
   "metadata": {},
   "source": [
    "### Поиск в строке ( string.find() и string.rfind(), string.index() и string.rindex() )"
   ]
  },
  {
   "cell_type": "markdown",
   "metadata": {},
   "source": [
    ".find(str[,start, end]) - ищет первое вхождение заданного шаблона в строку <br>\n",
    ".rfind(str[,start,end]) - ищет последние вхождение заданного шаблона в строку <br>\n",
    "start и end - необязательные параметры, которые говорят, что ищем внутри данного среза <br>\n",
    "Если данные методы не находят элемента, то возвращают -1, иначе индекс элемента в строке (срезы не учитываются в подсчете индекса)"
   ]
  },
  {
   "cell_type": "code",
   "execution_count": 2,
   "metadata": {},
   "outputs": [
    {
     "name": "stdout",
     "output_type": "stream",
     "text": [
      "2\n",
      "2\n",
      "3\n",
      "-1\n"
     ]
    }
   ],
   "source": [
    "string = \"Hello\"\n",
    "print(string.find('l'))\n",
    "print(string.find('l', 2))\n",
    "print(string.find('l', 3))\n",
    "print(string.find('l', 5))"
   ]
  },
  {
   "cell_type": "code",
   "execution_count": 67,
   "metadata": {},
   "outputs": [
    {
     "name": "stdout",
     "output_type": "stream",
     "text": [
      "3\n",
      "3\n",
      "-1\n"
     ]
    }
   ],
   "source": [
    "print(string.rfind('l'))\n",
    "print(string.rfind('l', 2))\n",
    "print(string.rfind('l', 5))"
   ]
  },
  {
   "cell_type": "code",
   "execution_count": 71,
   "metadata": {},
   "outputs": [
    {
     "name": "stdout",
     "output_type": "stream",
     "text": [
      "1\n",
      "-1\n"
     ]
    }
   ],
   "source": [
    "print(string.find('el'))\n",
    "print(string.find('elll'))"
   ]
  },
  {
   "cell_type": "markdown",
   "metadata": {},
   "source": [
    ".index(str[,start,end]) - ищет первое вхождение заданного шаблона в строку. Отличие от find - в случае не нахождения шаблона, возвращает исключение ValueError, а не -1 <br>\n",
    ".rindex(str[,start,end]) - ищет последнее вхождение заданного шаблона в строку. Отличие от rfind - в случае не нахождения шаблона, возвращает исключение ValueError, а не -1"
   ]
  },
  {
   "cell_type": "code",
   "execution_count": 72,
   "metadata": {},
   "outputs": [
    {
     "name": "stdout",
     "output_type": "stream",
     "text": [
      "1\n"
     ]
    },
    {
     "ename": "ValueError",
     "evalue": "substring not found",
     "output_type": "error",
     "traceback": [
      "\u001b[1;31m---------------------------------------------------------------------------\u001b[0m",
      "\u001b[1;31mValueError\u001b[0m                                Traceback (most recent call last)",
      "\u001b[1;32m<ipython-input-72-22c9f31ebf09>\u001b[0m in \u001b[0;36m<module>\u001b[1;34m()\u001b[0m\n\u001b[0;32m      1\u001b[0m \u001b[0mprint\u001b[0m\u001b[1;33m(\u001b[0m\u001b[0mstring\u001b[0m\u001b[1;33m.\u001b[0m\u001b[0mindex\u001b[0m\u001b[1;33m(\u001b[0m\u001b[1;34m'el'\u001b[0m\u001b[1;33m)\u001b[0m\u001b[1;33m)\u001b[0m\u001b[1;33m\u001b[0m\u001b[0m\n\u001b[1;32m----> 2\u001b[1;33m \u001b[0mprint\u001b[0m\u001b[1;33m(\u001b[0m\u001b[0mstring\u001b[0m\u001b[1;33m.\u001b[0m\u001b[0mindex\u001b[0m\u001b[1;33m(\u001b[0m\u001b[1;34m'elll'\u001b[0m\u001b[1;33m)\u001b[0m\u001b[1;33m)\u001b[0m\u001b[1;33m\u001b[0m\u001b[0m\n\u001b[0m",
      "\u001b[1;31mValueError\u001b[0m: substring not found"
     ]
    }
   ],
   "source": [
    "print(string.index('l'))\n",
    "print(string.index('l', 2))\n",
    "print(string.index('l', 5))"
   ]
  },
  {
   "cell_type": "code",
   "execution_count": 73,
   "metadata": {},
   "outputs": [
    {
     "name": "stdout",
     "output_type": "stream",
     "text": [
      "3\n",
      "3\n"
     ]
    },
    {
     "ename": "ValueError",
     "evalue": "substring not found",
     "output_type": "error",
     "traceback": [
      "\u001b[1;31m---------------------------------------------------------------------------\u001b[0m",
      "\u001b[1;31mValueError\u001b[0m                                Traceback (most recent call last)",
      "\u001b[1;32m<ipython-input-73-8bd9292ce113>\u001b[0m in \u001b[0;36m<module>\u001b[1;34m()\u001b[0m\n\u001b[0;32m      1\u001b[0m \u001b[0mprint\u001b[0m\u001b[1;33m(\u001b[0m\u001b[0mstring\u001b[0m\u001b[1;33m.\u001b[0m\u001b[0mrindex\u001b[0m\u001b[1;33m(\u001b[0m\u001b[1;34m'l'\u001b[0m\u001b[1;33m)\u001b[0m\u001b[1;33m)\u001b[0m\u001b[1;33m\u001b[0m\u001b[0m\n\u001b[0;32m      2\u001b[0m \u001b[0mprint\u001b[0m\u001b[1;33m(\u001b[0m\u001b[0mstring\u001b[0m\u001b[1;33m.\u001b[0m\u001b[0mrindex\u001b[0m\u001b[1;33m(\u001b[0m\u001b[1;34m'l'\u001b[0m\u001b[1;33m,\u001b[0m \u001b[1;36m2\u001b[0m\u001b[1;33m)\u001b[0m\u001b[1;33m)\u001b[0m\u001b[1;33m\u001b[0m\u001b[0m\n\u001b[1;32m----> 3\u001b[1;33m \u001b[0mprint\u001b[0m\u001b[1;33m(\u001b[0m\u001b[0mstring\u001b[0m\u001b[1;33m.\u001b[0m\u001b[0mrindex\u001b[0m\u001b[1;33m(\u001b[0m\u001b[1;34m'l'\u001b[0m\u001b[1;33m,\u001b[0m \u001b[1;36m5\u001b[0m\u001b[1;33m)\u001b[0m\u001b[1;33m)\u001b[0m\u001b[1;33m\u001b[0m\u001b[0m\n\u001b[0m",
      "\u001b[1;31mValueError\u001b[0m: substring not found"
     ]
    }
   ],
   "source": [
    "print(string.rindex('l'))\n",
    "print(string.rindex('l', 2))\n",
    "print(string.rindex('l', 5))"
   ]
  },
  {
   "cell_type": "markdown",
   "metadata": {},
   "source": [
    "### Замена шаблона"
   ]
  },
  {
   "cell_type": "markdown",
   "metadata": {},
   "source": [
    "string.replace(from, to) - находит шаблон(from) и меняет его (to). Если метод не находит такого шаблона, то строка не меняется"
   ]
  },
  {
   "cell_type": "code",
   "execution_count": 74,
   "metadata": {},
   "outputs": [],
   "source": [
    "string = \"Hello world\""
   ]
  },
  {
   "cell_type": "code",
   "execution_count": 75,
   "metadata": {},
   "outputs": [
    {
     "data": {
      "text/plain": [
       "'Hello МИР'"
      ]
     },
     "execution_count": 75,
     "metadata": {},
     "output_type": "execute_result"
    }
   ],
   "source": [
    "string.replace('world', 'МИР')"
   ]
  },
  {
   "cell_type": "code",
   "execution_count": 78,
   "metadata": {},
   "outputs": [
    {
     "name": "stdout",
     "output_type": "stream",
     "text": [
      "Hello world\n"
     ]
    }
   ],
   "source": [
    "#Касаемо неизменяемость строк. Мы только что выполнили метод replace, однако переменная string не изменила своего значения\n",
    "print(string)"
   ]
  },
  {
   "cell_type": "code",
   "execution_count": 76,
   "metadata": {},
   "outputs": [
    {
     "data": {
      "text/plain": [
       "'Hello world'"
      ]
     },
     "execution_count": 76,
     "metadata": {},
     "output_type": "execute_result"
    }
   ],
   "source": [
    "string.replace('World', 'МИР')"
   ]
  },
  {
   "cell_type": "markdown",
   "metadata": {},
   "source": [
    "### Разбиение строки по разделителю"
   ]
  },
  {
   "cell_type": "markdown",
   "metadata": {},
   "source": [
    ".split(sep[, maxsplit]) - разбивает данную строку по данному pattern (по умолчанию pattern=\" \"). Возвращает список из строк. при указании параметра maxsplit, делает такое количество разбиений, сколько вы указали. (Именно разбиений, а не количество частей)"
   ]
  },
  {
   "cell_type": "code",
   "execution_count": 79,
   "metadata": {},
   "outputs": [],
   "source": [
    "string = \"Name;Surname;Age\""
   ]
  },
  {
   "cell_type": "code",
   "execution_count": 80,
   "metadata": {},
   "outputs": [
    {
     "data": {
      "text/plain": [
       "['Name', 'Surname', 'Age']"
      ]
     },
     "execution_count": 80,
     "metadata": {},
     "output_type": "execute_result"
    }
   ],
   "source": [
    "string.split(';')"
   ]
  },
  {
   "cell_type": "code",
   "execution_count": 81,
   "metadata": {},
   "outputs": [
    {
     "data": {
      "text/plain": [
       "['Name', 'Surname', 'Age']"
      ]
     },
     "execution_count": 81,
     "metadata": {},
     "output_type": "execute_result"
    }
   ],
   "source": [
    "string = \"Name Surname Age\"\n",
    "string.split()"
   ]
  },
  {
   "cell_type": "code",
   "execution_count": 87,
   "metadata": {},
   "outputs": [
    {
     "data": {
      "text/plain": [
       "['Name', 'Surname Age']"
      ]
     },
     "execution_count": 87,
     "metadata": {},
     "output_type": "execute_result"
    }
   ],
   "source": [
    "string.split(\" \",1)"
   ]
  },
  {
   "cell_type": "markdown",
   "metadata": {},
   "source": [
    "### Методы возвращающие True или False"
   ]
  },
  {
   "cell_type": "markdown",
   "metadata": {},
   "source": [
    "<table>\n",
    "  <tr>\n",
    "    <th>Метод</th>\n",
    "    <th>Описание</th>\n",
    "  </tr>\n",
    "  <tr>\n",
    "    <td>string.isdigit()</td>\n",
    "    <td>Состоит ли строка из цифр</td>\n",
    "  </tr>\n",
    "  <tr>\n",
    "    <td>string.isalpha()</td>\n",
    "    <td>Состоит ли строка из букв</td>\n",
    "  </tr>\n",
    "  <tr>\n",
    "    <td>string.isalnum()</td>\n",
    "    <td>Состоит ли строка из букв и цифр</td>\n",
    "  </tr>\n",
    "  <tr>\n",
    "    <td>string.islower()</td>\n",
    "    <td>Все ли символы в нижнем регистре</td>\n",
    "  </tr>\n",
    "  <tr>\n",
    "    <td>string.isupper()</td>\n",
    "    <td>Все ли символы в верхнем регистре</td>\n",
    "  </tr>\n",
    "  <tr>\n",
    "    <td>string.isupper()</td>\n",
    "    <td>Все ли символы в верхнем регистре</td>\n",
    "  </tr>\n",
    "  <tr>\n",
    "    <td>string.isspace()</td>\n",
    "    <td>Состоит ли строка из неотображаемых символов (пробел + см.экранирование)</td>\n",
    "  </tr>\n",
    "  <tr>\n",
    "    <td>string.istitle()</td>\n",
    "    <td>Начинаются ли слова в строке с заглавной буквы</td>\n",
    "  </tr>\n",
    "  <tr>\n",
    "    <td>string.startswith(str)</td>\n",
    "    <td>Начинается ли строка с шаблона str</td>\n",
    "  </tr>\n",
    "  <tr>\n",
    "    <td>string.endswith(str)</td>\n",
    "    <td>Заканчивается ли строка с шаблона str</td>\n",
    "  </tr>\n",
    "</table>"
   ]
  },
  {
   "cell_type": "markdown",
   "metadata": {},
   "source": [
    "### Методы, возвращающие измененные строки"
   ]
  },
  {
   "cell_type": "markdown",
   "metadata": {},
   "source": [
    "<b>.upper()</b> - переводит все символы в верхний регистр<br>\n",
    "<b>.lower()</b> - переводит все символы в нижний регистр<br>\n",
    "<b>.capitalize()</b> - Первый символ становится заглавным, остальные в нижнем регистре<br>\n",
    "<b>.title()</b> - Первый символ каждого слова становится заглавным, остальные в нижнем регистре<br>\n",
    "<b>.lstrip()</b> - Удаляет лишние пробельные символы слева<br>\n",
    "<b>.rstrip()</b> - Удаляет лишние пробельные символы справа<br>\n",
    "<b>.strip()</b> - Удаляет лишние пробельные символы с обеих сторон<br>\n",
    "<b>.swapcase()</b> - Верхний регистр становится нижним и наоборот<br>"
   ]
  },
  {
   "cell_type": "code",
   "execution_count": 94,
   "metadata": {
    "scrolled": true
   },
   "outputs": [
    {
     "name": "stdout",
     "output_type": "stream",
     "text": [
      "SADFAS\n",
      "sadfas\n",
      "Sadfas\n",
      "Hello World Asd Asd Fad\n",
      "adsf        \n",
      "         adsf\n",
      "adsf\n",
      "aBcDeFgHiJkLmNoPqRsTuVwXyZ\n"
     ]
    }
   ],
   "source": [
    "s = \"sadfas\".upper()\n",
    "print(s)\n",
    "s = s.lower()\n",
    "print(s)\n",
    "s = s.capitalize()\n",
    "print(s)\n",
    "print(\"hello world asd asd fad\".title())\n",
    "print('         adsf        '.lstrip())\n",
    "print('         adsf        '.rstrip())\n",
    "print('         adsf        '.strip())\n",
    "print('AbCdEfGhIjKlMnOpQrStUvWxYz'.swapcase())"
   ]
  },
  {
   "cell_type": "markdown",
   "metadata": {},
   "source": [
    "### .join([list])"
   ]
  },
  {
   "cell_type": "markdown",
   "metadata": {},
   "source": [
    "Данный метод соединяет все элементы списка (если они строки) в строку с разделителем"
   ]
  },
  {
   "cell_type": "code",
   "execution_count": 171,
   "metadata": {},
   "outputs": [
    {
     "ename": "TypeError",
     "evalue": "sequence item 0: expected str instance, int found",
     "output_type": "error",
     "traceback": [
      "\u001b[1;31m---------------------------------------------------------------------------\u001b[0m",
      "\u001b[1;31mTypeError\u001b[0m                                 Traceback (most recent call last)",
      "\u001b[1;32m<ipython-input-171-cc29937222a9>\u001b[0m in \u001b[0;36m<module>\u001b[1;34m()\u001b[0m\n\u001b[1;32m----> 1\u001b[1;33m \u001b[1;34m'->'\u001b[0m\u001b[1;33m.\u001b[0m\u001b[0mjoin\u001b[0m\u001b[1;33m(\u001b[0m\u001b[1;33m[\u001b[0m\u001b[1;36m1\u001b[0m\u001b[1;33m,\u001b[0m\u001b[1;36m2\u001b[0m\u001b[1;33m,\u001b[0m\u001b[1;36m3\u001b[0m\u001b[1;33m,\u001b[0m\u001b[1;36m4\u001b[0m\u001b[1;33m,\u001b[0m\u001b[1;36m5\u001b[0m\u001b[1;33m,\u001b[0m\u001b[1;36m6\u001b[0m\u001b[1;33m]\u001b[0m\u001b[1;33m)\u001b[0m\u001b[1;33m\u001b[0m\u001b[0m\n\u001b[0m",
      "\u001b[1;31mTypeError\u001b[0m: sequence item 0: expected str instance, int found"
     ]
    }
   ],
   "source": [
    "'->'.join([1,2,3,4,5,6])"
   ]
  },
  {
   "cell_type": "code",
   "execution_count": 173,
   "metadata": {},
   "outputs": [
    {
     "name": "stdout",
     "output_type": "stream",
     "text": [
      "['1', '2', '3', '4', '5', '6']\n"
     ]
    },
    {
     "data": {
      "text/plain": [
       "'1->2->3->4->5->6'"
      ]
     },
     "execution_count": 173,
     "metadata": {},
     "output_type": "execute_result"
    }
   ],
   "source": [
    "lst = [str(i) for i in range(1,7)]\n",
    "print(lst)\n",
    "'->'.join(lst)"
   ]
  },
  {
   "cell_type": "markdown",
   "metadata": {},
   "source": [
    "### Работа с символами "
   ]
  },
  {
   "cell_type": "code",
   "execution_count": 2,
   "metadata": {},
   "outputs": [
    {
     "data": {
      "text/plain": [
       "97"
      ]
     },
     "execution_count": 2,
     "metadata": {},
     "output_type": "execute_result"
    }
   ],
   "source": [
    "ord('a') # код симовола"
   ]
  },
  {
   "cell_type": "code",
   "execution_count": 3,
   "metadata": {},
   "outputs": [
    {
     "data": {
      "text/plain": [
       "'a'"
      ]
     },
     "execution_count": 3,
     "metadata": {},
     "output_type": "execute_result"
    }
   ],
   "source": [
    "chr(97) # символ по коду"
   ]
  },
  {
   "cell_type": "code",
   "execution_count": 4,
   "metadata": {},
   "outputs": [
    {
     "data": {
      "text/plain": [
       "['a',\n",
       " 'b',\n",
       " 'c',\n",
       " 'd',\n",
       " 'e',\n",
       " 'f',\n",
       " 'g',\n",
       " 'h',\n",
       " 'i',\n",
       " 'j',\n",
       " 'k',\n",
       " 'l',\n",
       " 'm',\n",
       " 'n',\n",
       " 'o',\n",
       " 'p',\n",
       " 'q',\n",
       " 'r',\n",
       " 's',\n",
       " 't',\n",
       " 'u',\n",
       " 'v',\n",
       " 'w',\n",
       " 'x',\n",
       " 'y',\n",
       " 'z']"
      ]
     },
     "execution_count": 4,
     "metadata": {},
     "output_type": "execute_result"
    }
   ],
   "source": [
    "rl = []\n",
    "for i in range(ord('a'), ord('z')+1):\n",
    "    rl.append(chr(i))\n",
    "rl"
   ]
  },
  {
   "cell_type": "markdown",
   "metadata": {},
   "source": [
    "Полный список методов по ссылке: https://docs.python.org/3.7/library/string.html"
   ]
  },
  {
   "cell_type": "markdown",
   "metadata": {},
   "source": [
    "### Print"
   ]
  },
  {
   "cell_type": "markdown",
   "metadata": {},
   "source": [
    "print(value, ..., sep=' ', end='\\n', file=sys.stdout, flush=False) <br>\n",
    "Функция, выводящая на печать значения <br>\n",
    "параметр <b>sep</b> - разделитель между значениями <br>\n",
    "параметр <b>end</b> - чем заканчивается строка <br>\n",
    "параметр <b>file</b> - в какой файл транслировать информацию <br>"
   ]
  },
  {
   "cell_type": "code",
   "execution_count": 146,
   "metadata": {},
   "outputs": [
    {
     "name": "stdout",
     "output_type": "stream",
     "text": [
      "Hello\n"
     ]
    }
   ],
   "source": [
    "print(\"Hello\")"
   ]
  },
  {
   "cell_type": "code",
   "execution_count": 147,
   "metadata": {},
   "outputs": [
    {
     "name": "stdout",
     "output_type": "stream",
     "text": [
      "Hello World\n"
     ]
    }
   ],
   "source": [
    "print(\"Hello\", \"World\")"
   ]
  },
  {
   "cell_type": "code",
   "execution_count": 148,
   "metadata": {},
   "outputs": [
    {
     "name": "stdout",
     "output_type": "stream",
     "text": [
      "Hello---World\n"
     ]
    }
   ],
   "source": [
    "print(\"Hello\", \"World\", sep='---')"
   ]
  },
  {
   "cell_type": "code",
   "execution_count": 149,
   "metadata": {},
   "outputs": [
    {
     "name": "stdout",
     "output_type": "stream",
     "text": [
      "Hello World---"
     ]
    }
   ],
   "source": [
    "print(\"Hello\", \"World\", end='---')"
   ]
  },
  {
   "cell_type": "code",
   "execution_count": 151,
   "metadata": {},
   "outputs": [],
   "source": [
    "sourceFile = open('python.txt', 'w')\n",
    "print(\"Hello\", \"World\", end='---', file = sourceFile)\n",
    "sourceFile.close()"
   ]
  },
  {
   "cell_type": "markdown",
   "metadata": {},
   "source": [
    "### Форматирование строки с помощью метода формат"
   ]
  },
  {
   "cell_type": "markdown",
   "metadata": {},
   "source": [
    "Пример"
   ]
  },
  {
   "cell_type": "code",
   "execution_count": 3,
   "metadata": {},
   "outputs": [
    {
     "name": "stdout",
     "output_type": "stream",
     "text": [
      "5 * 5 = 25\n",
      "5 * 5 = 25\n"
     ]
    }
   ],
   "source": [
    "num = 5 * 5\n",
    "#Без участия форматирования\n",
    "print('5 * 5 = ' + str(num))\n",
    "#С форматирвоанием\n",
    "print('5 * 5 = {}'.format(num))"
   ]
  },
  {
   "cell_type": "code",
   "execution_count": 98,
   "metadata": {},
   "outputs": [
    {
     "name": "stdout",
     "output_type": "stream",
     "text": [
      "Студент по имени Вася возраста 123 лет - студент факультета ПМиИТ 1курса\n"
     ]
    }
   ],
   "source": [
    "name = \"Вася\"\n",
    "age = 123\n",
    "facultet = \"ПМиИТ\"\n",
    "kurs = 1\n",
    "#Без форматирования\n",
    "print(\"Студент по имени \" + name + \" возраста \" + str(age) + \" лет - студент факультета \" + facultet + \" \" + str(kurs) + \"курса\")"
   ]
  },
  {
   "cell_type": "code",
   "execution_count": 99,
   "metadata": {},
   "outputs": [
    {
     "name": "stdout",
     "output_type": "stream",
     "text": [
      "Студент по имени Вася возраста 123 лет - студент факультета ПМиИТ 1 курса\n"
     ]
    }
   ],
   "source": [
    "print(\"Студент по имени {} возраста {} лет - студент факультета {} {} курса\".format(name,age,facultet,kurs))"
   ]
  },
  {
   "cell_type": "code",
   "execution_count": 102,
   "metadata": {
    "scrolled": true
   },
   "outputs": [
    {
     "data": {
      "text/plain": [
       "'abra cad abra'"
      ]
     },
     "execution_count": 102,
     "metadata": {},
     "output_type": "execute_result"
    }
   ],
   "source": [
    "'{0} {1} {0}'.format('abra', 'cad')"
   ]
  },
  {
   "cell_type": "markdown",
   "metadata": {},
   "source": [
    "можно использовать последовательность и из списка, воспользовавшись оператором *"
   ]
  },
  {
   "cell_type": "code",
   "execution_count": 111,
   "metadata": {},
   "outputs": [
    {
     "data": {
      "text/plain": [
       "'abra cad abra'"
      ]
     },
     "execution_count": 111,
     "metadata": {},
     "output_type": "execute_result"
    }
   ],
   "source": [
    "words = ['abra', 'cad']\n",
    "'{0} {1} {0}'.format(*words)"
   ]
  },
  {
   "cell_type": "markdown",
   "metadata": {},
   "source": [
    "Можно использовать и именованные аргументы:"
   ]
  },
  {
   "cell_type": "code",
   "execution_count": 105,
   "metadata": {},
   "outputs": [
    {
     "data": {
      "text/plain": [
       "'abra cad abra'"
      ]
     },
     "execution_count": 105,
     "metadata": {},
     "output_type": "execute_result"
    }
   ],
   "source": [
    "'{first} {second} {first}'.format(first='abra', second='cad')"
   ]
  },
  {
   "cell_type": "markdown",
   "metadata": {},
   "source": [
    "Соответственно можно использовать такую же фишку, как и со списком, только со словарями"
   ]
  },
  {
   "cell_type": "code",
   "execution_count": 107,
   "metadata": {},
   "outputs": [
    {
     "data": {
      "text/plain": [
       "'abra cad abra'"
      ]
     },
     "execution_count": 107,
     "metadata": {},
     "output_type": "execute_result"
    }
   ],
   "source": [
    "dicti = {'first' : 'abra',\n",
    "         'second': 'cad'}\n",
    "'{first} {second} {first}'.format(**dicti)"
   ]
  },
  {
   "cell_type": "markdown",
   "metadata": {},
   "source": [
    "Внутри поля подстановки {} мы можем указать : и число, что будет указывать длину форматируемому элементу. По умолчанию стоит выравнивание по правой стороне"
   ]
  },
  {
   "cell_type": "code",
   "execution_count": 115,
   "metadata": {},
   "outputs": [
    {
     "data": {
      "text/plain": [
       "'|                         48484|'"
      ]
     },
     "execution_count": 115,
     "metadata": {},
     "output_type": "execute_result"
    }
   ],
   "source": [
    "'|{:30}|'.format(48484)"
   ]
  },
  {
   "cell_type": "markdown",
   "metadata": {},
   "source": [
    "Однако мы можем сами менять выравнивание. <br>\n",
    "<b><</b> Выравнивание по левой стороне<br>\n",
    "<b>></b> Выравнивание по правой стороне<br>\n",
    "<b>^</b> Выравнивание по центру<br>"
   ]
  },
  {
   "cell_type": "markdown",
   "metadata": {},
   "source": [
    "Если перед знаком выравнивания поставить какой-либо символ, то все пробельные символы (вне результата) будут заполняться данным символом"
   ]
  },
  {
   "cell_type": "code",
   "execution_count": 117,
   "metadata": {
    "scrolled": true
   },
   "outputs": [
    {
     "name": "stdout",
     "output_type": "stream",
     "text": [
      "left aligned                  \n",
      "                 right aligned\n",
      "           centered           \n",
      "***********centered***********\n",
      "*******centered my text*******\n"
     ]
    }
   ],
   "source": [
    "print('{:<30}'.format('left aligned'))\n",
    "print('{:>30}'.format('right aligned'))\n",
    "print('{:^30}'.format('centered'))\n",
    "print('{:*^30}'.format('centered'))\n",
    "print('{:*^30}'.format('centered my text'))"
   ]
  },
  {
   "cell_type": "markdown",
   "metadata": {},
   "source": [
    "Если мы хотим добавить ведущие знаки перед числом, то перед длиной мы должны поставить знак +"
   ]
  },
  {
   "cell_type": "code",
   "execution_count": 130,
   "metadata": {},
   "outputs": [
    {
     "name": "stdout",
     "output_type": "stream",
     "text": [
      "*************+15**************, ooooooooooooo-15oooooooooooooo\n"
     ]
    }
   ],
   "source": [
    "print('{:*^+30}, {:o^+30}'.format(15, -15))"
   ]
  },
  {
   "cell_type": "markdown",
   "metadata": {},
   "source": [
    "Добавляем в конце букву f, если хотим, чтобы числа представлялись в вещественном виде"
   ]
  },
  {
   "cell_type": "code",
   "execution_count": 134,
   "metadata": {},
   "outputs": [
    {
     "name": "stdout",
     "output_type": "stream",
     "text": [
      "**********+15.000000**********, oooooooooo-15.000000oooooooooo\n"
     ]
    }
   ],
   "source": [
    "print('{:*^+30f}, {:o^+30f}'.format(15, -15))"
   ]
  },
  {
   "cell_type": "markdown",
   "metadata": {},
   "source": [
    "А теперь ограничиваем количество символов после точки (пишется перед f)"
   ]
  },
  {
   "cell_type": "code",
   "execution_count": 7,
   "metadata": {},
   "outputs": [
    {
     "name": "stdout",
     "output_type": "stream",
     "text": [
      "***********+15.149************, oooooooooooo-15.00oooooooooooo\n"
     ]
    }
   ],
   "source": [
    "print('{:*^+30.3f}, {:o^+30.2f}'.format(15.149214324324134, -15))"
   ]
  },
  {
   "cell_type": "markdown",
   "metadata": {},
   "source": [
    "Поддерживаются классические операторы для даты и времени"
   ]
  },
  {
   "cell_type": "code",
   "execution_count": 138,
   "metadata": {},
   "outputs": [
    {
     "data": {
      "text/plain": [
       "'2018-07-04 12:15:58'"
      ]
     },
     "execution_count": 138,
     "metadata": {},
     "output_type": "execute_result"
    }
   ],
   "source": [
    "import datetime\n",
    "d = datetime.datetime(2018, 7, 4, 12, 15, 58)\n",
    "'{:%Y-%m-%d %H:%M:%S}'.format(d)"
   ]
  },
  {
   "cell_type": "markdown",
   "metadata": {},
   "source": [
    "Для метода format еще достаточно правил. Смотрите документацию по оф. ссылке: https://docs.python.org/3.4/library/string.html"
   ]
  },
  {
   "cell_type": "markdown",
   "metadata": {},
   "source": [
    "Мы можем строку сделать шаблоном, после чего постоянно к ней применять метод формат"
   ]
  },
  {
   "cell_type": "code",
   "execution_count": 161,
   "metadata": {},
   "outputs": [],
   "source": [
    "pattern = '|{:*^+30.2f}|'"
   ]
  },
  {
   "cell_type": "code",
   "execution_count": 162,
   "metadata": {},
   "outputs": [
    {
     "name": "stdout",
     "output_type": "stream",
     "text": [
      "|***********+100.00************|\n",
      "|***********+121.00************|\n",
      "|***********+144.00************|\n",
      "|***********+169.00************|\n",
      "|***********+196.00************|\n"
     ]
    }
   ],
   "source": [
    "for i in range(10,15):\n",
    "    print(pattern.format(i**2))"
   ]
  },
  {
   "cell_type": "markdown",
   "metadata": {},
   "source": [
    "### F-строки"
   ]
  },
  {
   "cell_type": "markdown",
   "metadata": {},
   "source": [
    "f-строка - строка с форматированием, начинающаяся с символа f До кавычек или апострофов. Отличие от format - здесь можно использовать вычисления. Все остальные элементы метода формат поддерживаются, кроме шаблонов"
   ]
  },
  {
   "cell_type": "code",
   "execution_count": null,
   "metadata": {},
   "outputs": [],
   "source": []
  },
  {
   "cell_type": "code",
   "execution_count": 164,
   "metadata": {},
   "outputs": [
    {
     "data": {
      "text/plain": [
       "'325'"
      ]
     },
     "execution_count": 164,
     "metadata": {},
     "output_type": "execute_result"
    }
   ],
   "source": [
    "f'{25*13}'"
   ]
  },
  {
   "cell_type": "code",
   "execution_count": 165,
   "metadata": {},
   "outputs": [
    {
     "data": {
      "text/plain": [
       "'***********+325.00************'"
      ]
     },
     "execution_count": 165,
     "metadata": {},
     "output_type": "execute_result"
    }
   ],
   "source": [
    "f'{25*13:*^+30.2f}'"
   ]
  },
  {
   "cell_type": "code",
   "execution_count": 167,
   "metadata": {},
   "outputs": [
    {
     "data": {
      "text/plain": [
       "'Студент по имени Вася возраста 123 лет - студент факультета ПМиИТ 1 курса'"
      ]
     },
     "execution_count": 167,
     "metadata": {},
     "output_type": "execute_result"
    }
   ],
   "source": [
    "name = \"Вася\"\n",
    "age = 123\n",
    "facultet = \"ПМиИТ\"\n",
    "kurs = 1\n",
    "f\"Студент по имени {name} возраста {age} лет - студент факультета {facultet} {kurs} курса\""
   ]
  }
 ],
 "metadata": {
  "kernelspec": {
   "display_name": "Python 3 (ipykernel)",
   "language": "python",
   "name": "python3"
  },
  "language_info": {
   "codemirror_mode": {
    "name": "ipython",
    "version": 3
   },
   "file_extension": ".py",
   "mimetype": "text/x-python",
   "name": "python",
   "nbconvert_exporter": "python",
   "pygments_lexer": "ipython3",
   "version": "3.11.5"
  }
 },
 "nbformat": 4,
 "nbformat_minor": 2
}
