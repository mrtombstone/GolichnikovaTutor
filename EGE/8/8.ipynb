{
 "cells": [
  {
   "cell_type": "markdown",
   "id": "bd311e0e",
   "metadata": {},
   "source": [
    "На вход программы поступает последовательность из N натуральных чисел. Рассматриваются все пары различных элементов последовательности, у которых различные остатки от деления на d  =  160 и хотя бы одно из чисел делится на p  =  7. Среди таких пар, необходимо найти и вывести пару с максимальной суммой элементов.\n",
    "\n",
    " \n",
    "\n",
    "Входные данные.\n",
    "\n",
    "Файл A\n",
    "\n",
    "Файл B\n",
    "\n",
    "В первой строке входных данных задаётся количество чисел N (1 ≤ N ≤ 1000). В каждой из последующих N строк записано одно натуральное число, не превышающее 10 000. В качестве результата программа должна напечатать элементы искомой пары. Если среди найденных пар максимальную сумму имеют несколько, то можно напечатать любую из них. Если таких пар нет, то вывести два нуля.\n",
    "\n",
    "Пример организации исходных данных во входном файле:\n",
    "\n",
    "4\n",
    "\n",
    "168\n",
    "\n",
    "7\n",
    "\n",
    "320\n",
    "\n",
    "328\n",
    "\n",
    "Пример выходных данных для приведённого выше примера входных данных:\n",
    "\n",
    "168 320\n",
    "\n",
    "В ответе укажите четыре числа: сначала значение искомой пары для файла А (два числа через пробел по возрастанию), затем для файла B (два числа через пробел по возрастанию)."
   ]
  },
  {
   "cell_type": "code",
   "execution_count": 6,
   "id": "0afeb4d1",
   "metadata": {},
   "outputs": [
    {
     "data": {
      "text/plain": [
       "(728, 977)"
      ]
     },
     "execution_count": 6,
     "metadata": {},
     "output_type": "execute_result"
    }
   ],
   "source": [
    "with open('A.txt', 'r') as f:\n",
    "    l = f.readlines()\n",
    "    n = int(l[0])\n",
    "    m7 = 0\n",
    "    m1 = 0\n",
    "    res = []\n",
    "    for i in l[1:]:\n",
    "        x = int(i)\n",
    "        if x % 7 == 0:\n",
    "            m7 = max(m7, x)\n",
    "        res.append(x)\n",
    "while True:\n",
    "    m1 = max(res)\n",
    "    if m1 % 160 == m7 % 160:\n",
    "        res.remove(m1)\n",
    "    else:\n",
    "        break\n",
    "m7, m1"
   ]
  },
  {
   "cell_type": "code",
   "execution_count": 7,
   "id": "6f8af707-d80c-494d-abbb-b7d1f73d0911",
   "metadata": {},
   "outputs": [
    {
     "data": {
      "text/plain": [
       "(9982, 9992)"
      ]
     },
     "execution_count": 7,
     "metadata": {},
     "output_type": "execute_result"
    }
   ],
   "source": [
    "with open('B.txt', 'r') as f:\n",
    "    l = f.readlines()\n",
    "    n = int(l[0])\n",
    "    m7 = 0\n",
    "    m1 = 0\n",
    "    res = []\n",
    "    for i in l[1:]:\n",
    "        x = int(i)\n",
    "        if x % 7 == 0:\n",
    "            m7 = max(m7, x)\n",
    "        res.append(x)\n",
    "while True:\n",
    "    m1 = max(res)\n",
    "    if m1 % 160 == m7 % 160:\n",
    "        res.remove(m1)\n",
    "    else:\n",
    "        break\n",
    "m7, m1"
   ]
  }
 ],
 "metadata": {
  "kernelspec": {
   "display_name": "Python 3 (ipykernel)",
   "language": "python",
   "name": "python3"
  },
  "language_info": {
   "codemirror_mode": {
    "name": "ipython",
    "version": 3
   },
   "file_extension": ".py",
   "mimetype": "text/x-python",
   "name": "python",
   "nbconvert_exporter": "python",
   "pygments_lexer": "ipython3",
   "version": "3.11.7"
  }
 },
 "nbformat": 4,
 "nbformat_minor": 5
}
