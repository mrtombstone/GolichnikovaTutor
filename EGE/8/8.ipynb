{
 "cells": [
  {
   "cell_type": "markdown",
   "id": "bd311e0e",
   "metadata": {},
   "source": [
    "На вход программы поступает последовательность из N натуральных чисел. Рассматриваются все пары различных элементов последовательности, у которых различные остатки от деления на d  =  160 и хотя бы одно из чисел делится на p  =  7. Среди таких пар, необходимо найти и вывести пару с максимальной суммой элементов.\n",
    "\n",
    " \n",
    "\n",
    "Входные данные.\n",
    "\n",
    "Файл A\n",
    "\n",
    "Файл B\n",
    "\n",
    "В первой строке входных данных задаётся количество чисел N (1 ≤ N ≤ 1000). В каждой из последующих N строк записано одно натуральное число, не превышающее 10 000. В качестве результата программа должна напечатать элементы искомой пары. Если среди найденных пар максимальную сумму имеют несколько, то можно напечатать любую из них. Если таких пар нет, то вывести два нуля.\n",
    "\n",
    "Пример организации исходных данных во входном файле:\n",
    "\n",
    "4\n",
    "\n",
    "168\n",
    "\n",
    "7\n",
    "\n",
    "320\n",
    "\n",
    "328\n",
    "\n",
    "Пример выходных данных для приведённого выше примера входных данных:\n",
    "\n",
    "168 320\n",
    "\n",
    "В ответе укажите четыре числа: сначала значение искомой пары для файла А (два числа через пробел по возрастанию), затем для файла B (два числа через пробел по возрастанию)."
   ]
  },
  {
   "cell_type": "code",
   "execution_count": 3,
   "id": "3dfb5f98",
   "metadata": {},
   "outputs": [
    {
     "data": {
      "text/plain": [
       "(728, 977)"
      ]
     },
     "execution_count": 3,
     "metadata": {},
     "output_type": "execute_result"
    }
   ],
   "source": [
    "m7 = 0\n",
    "res = []\n",
    "m1 = 0\n",
    "with open(\"A.txt\") as file:\n",
    "    lines = file.readlines()\n",
    "    n = int(lines[0])\n",
    "    for i in lines[1:]:\n",
    "        x = int(i)\n",
    "        if x % 7 == 0:\n",
    "            m7 = max(m7, x)\n",
    "        res.append(x)\n",
    "while True:\n",
    "    m1 = max(res)\n",
    "    if m1%160 == m7%160:\n",
    "        res.remove(m1)\n",
    "    else:\n",
    "        break\n",
    "m7, m1"
   ]
  },
  {
   "cell_type": "code",
   "execution_count": null,
   "id": "74ed7a48",
   "metadata": {},
   "outputs": [],
   "source": []
  }
 ],
 "metadata": {
  "kernelspec": {
   "display_name": "Python 3 (ipykernel)",
   "language": "python",
   "name": "python3"
  },
  "language_info": {
   "codemirror_mode": {
    "name": "ipython",
    "version": 3
   },
   "file_extension": ".py",
   "mimetype": "text/x-python",
   "name": "python",
   "nbconvert_exporter": "python",
   "pygments_lexer": "ipython3",
   "version": "3.11.5"
  }
 },
 "nbformat": 4,
 "nbformat_minor": 5
}
