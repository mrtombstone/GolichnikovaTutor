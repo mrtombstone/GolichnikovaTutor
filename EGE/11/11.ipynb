{
 "cells": [
  {
   "cell_type": "markdown",
   "id": "70c67592",
   "metadata": {},
   "source": [
    "На вход программы поступает последовательность из N целых положительных чисел. Рассматриваются все пары различных элементов последовательности (элементы пары не обязаны стоять в последовательности рядом), такие что ai > aj при i < j ≤ N. Среди пар, удовлетворяющих этому условию, необходимо найти и вывести пару с максимальной суммой элементов, которая делится на 120. Если среди найденных пар максимальную сумму имеют несколько, то можно напечатать любую из них. Если пар заданным условием нет, то программа должна вывести 00."
   ]
  },
  {
   "cell_type": "code",
   "execution_count": 7,
   "id": "312584db",
   "metadata": {},
   "outputs": [
    {
     "name": "stdout",
     "output_type": "stream",
     "text": [
      "00\n"
     ]
    }
   ],
   "source": [
    "with open('A.txt', 'r') as f:\n",
    "    l = f.readlines()\n",
    "    m1 = 0\n",
    "    j1 = 0\n",
    "    i1 = 0\n",
    "    numbers = list(map(int, l))\n",
    "    n = numbers[0]\n",
    "    for i in range(1, n):\n",
    "        for j in range(i+1, n+1):\n",
    "            temp = numbers[i] + numbers[j]\n",
    "            if numbers[i] > numbers[j] and temp % 120 == 0 and temp > m1:\n",
    "                m1 = temp\n",
    "                j1 = j\n",
    "                i1 = i\n",
    "if m1 == 0:\n",
    "    print('00')\n",
    "else:\n",
    "    print(numbers[i1], numbers[j1])"
   ]
  },
  {
   "cell_type": "code",
   "execution_count": 8,
   "id": "08db0946-3069-49ca-83f3-69505a1a9621",
   "metadata": {},
   "outputs": [
    {
     "name": "stdout",
     "output_type": "stream",
     "text": [
      "9991 9689\n"
     ]
    }
   ],
   "source": [
    "with open('B.txt', 'r') as f:\n",
    "    l = f.readlines()\n",
    "    m1 = 0\n",
    "    j1 = 0\n",
    "    i1 = 0\n",
    "    numbers = list(map(int, l))\n",
    "    n = numbers[0]\n",
    "    for i in range(1, n):\n",
    "        for j in range(i+1, n+1):\n",
    "            temp = numbers[i] + numbers[j]\n",
    "            if numbers[i] > numbers[j] and temp % 120 == 0 and temp > m1:\n",
    "                m1 = temp\n",
    "                j1 = j\n",
    "                i1 = i\n",
    "if m1 == 0:\n",
    "    print('00')\n",
    "else:\n",
    "    print(numbers[i1], numbers[j1])"
   ]
  }
 ],
 "metadata": {
  "kernelspec": {
   "display_name": "Python 3 (ipykernel)",
   "language": "python",
   "name": "python3"
  },
  "language_info": {
   "codemirror_mode": {
    "name": "ipython",
    "version": 3
   },
   "file_extension": ".py",
   "mimetype": "text/x-python",
   "name": "python",
   "nbconvert_exporter": "python",
   "pygments_lexer": "ipython3",
   "version": "3.11.7"
  }
 },
 "nbformat": 4,
 "nbformat_minor": 5
}
