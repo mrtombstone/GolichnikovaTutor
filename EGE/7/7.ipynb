{
 "cells": [
  {
   "cell_type": "markdown",
   "id": "c750f281",
   "metadata": {},
   "source": [
    "Дана последовательность N целых положительных чисел. Рассматриваются все пары элементов последовательности, разность которых чётна, и в этих парах, по крайней мере, одно из чисел пары делится на 17. Порядок элементов в паре неважен. Среди всех таких пар нужно найти и вывести пару с максимальной суммой элементов. Если одинаковую максимальную сумму имеет несколько пар, можно вывести любую из них. Если подходящих пар в последовательности нет, нужно вывести два нуля.\n",
    "\n",
    " \n",
    "\n",
    "Входные данные.\n",
    "\n",
    "Файл A\n",
    "\n",
    "Файл B\n",
    "\n",
    "В первой строке входных данных задаётся количество чисел N (2 ≤ N ≤ 10 000). В каждой из последующих N строк записано одно натуральное число, не превышающее 10 000.\n",
    "\n",
    "Пример организации исходных данных во входном файле:\n",
    "\n",
    "5\n",
    "\n",
    "34\n",
    "\n",
    "12\n",
    "\n",
    "51\n",
    "\n",
    "52\n",
    "\n",
    "51\n",
    "\n",
    "Пример выходных данных для приведённого выше примера входных данных:\n",
    "\n",
    "51 51 В ответе укажите четыре числа: сначала значение искомой пары для файла А (два числа через пробел), затем для файла B (два числа через пробел). Числа пар впишите в порядке убывания."
   ]
  },
  {
   "cell_type": "code",
<<<<<<< Updated upstream
   "execution_count": 1,
   "id": "cd65c18a-209d-46fe-9fcc-6fe9d2b3da0a",
   "metadata": {},
   "outputs": [
    {
     "name": "stdout",
     "output_type": "stream",
     "text": [
      "3077 0\n"
     ]
    }
   ],
   "source": [
    "with open('A.txt', 'r') as f:\n",
    "    s = f.readlines()\n",
    "    n = int(s[0])\n",
    "    max2 = 0\n",
    "    max2_1 = 0\n",
    "    max = 0\n",
    "    max_1 = 0\n",
    "    for i in range(1, n+1):\n",
    "        cur_val = int(s[i])\n",
    "        \n",
    "        if cur_val % 2 == 0:\n",
    "            if cur_val % 17 == 0:\n",
    "                if cur_val > max2:\n",
    "                    max2 = cur_val\n",
    "                elif cur_val <= max2:\n",
    "                    if cur_val > max2_1:\n",
    "                        max2_1 = cur_val\n",
    "                    \n",
    "        elif cur_val % 2 != 0:\n",
    "            if cur_val % 17 == 0:\n",
    "                if cur_val > max:\n",
    "                    max = cur_val\n",
    "                elif cur_val <= max:\n",
    "                    if cur_val > max_1:\n",
    "                        max_1 = cur_val\n",
    "\n",
    "if max2 + max2_1 == 0 and max + max_1 == 0:\n",
    "    print(0,0)\n",
    "elif max2 + max2_1 > max + max_1:\n",
    "    print(max2, max2_1)\n",
    "else:\n",
    "    print(max, max_1)\n",
    "#print(max2, max2_1, max, max_1)"
   ]
  },
  {
   "cell_type": "code",
   "execution_count": 5,
   "id": "3dc8b77c-7f94-4b58-b50c-c8c9f9522c04",
   "metadata": {},
   "outputs": [
    {
     "name": "stdout",
     "output_type": "stream",
     "text": [
      "9996 9996\n",
      "9996 9996 9979 9979\n"
     ]
    }
   ],
   "source": [
    "with open('B.txt', 'r') as f:\n",
    "    s = f.readlines()\n",
    "    n = int(s[0])\n",
    "    max2 = 0\n",
    "    max2_1 = 0\n",
    "    max = 0\n",
    "    max_1 = 0\n",
    "    for i in range(1, n+1):\n",
    "        cur_val = int(s[i])\n",
    "        \n",
    "        if cur_val % 2 == 0:\n",
    "            if cur_val % 17 == 0:\n",
    "                if cur_val > max2:\n",
    "                    max2 = cur_val\n",
    "                elif cur_val <= max2:\n",
    "                    if cur_val > max2_1:\n",
    "                        max2_1 = cur_val\n",
    "                    \n",
    "        elif cur_val % 2 != 0:\n",
    "            if cur_val % 17 == 0:\n",
    "                if cur_val > max:\n",
    "                    max = cur_val\n",
    "                elif cur_val <= max:\n",
    "                    if cur_val > max_1:\n",
    "                        max_1 = cur_val\n",
    "\n",
    "if max2 + max2_1 == 0 and max + max_1 == 0:\n",
    "    print(0,0)\n",
    "if max2 + max2_1 > max + max_1:\n",
    "    print(max2, max2_1)\n",
    "else:\n",
    "    print(max, max_1)\n",
    "print(max2, max2_1, max, max_1)"
   ]
=======
   "execution_count": null,
   "id": "4a3ae1a2",
   "metadata": {},
   "outputs": [],
   "source": []
>>>>>>> Stashed changes
  }
 ],
 "metadata": {
  "kernelspec": {
   "display_name": "Python 3 (ipykernel)",
   "language": "python",
   "name": "python3"
  },
  "language_info": {
   "codemirror_mode": {
    "name": "ipython",
    "version": 3
   },
   "file_extension": ".py",
   "mimetype": "text/x-python",
   "name": "python",
   "nbconvert_exporter": "python",
   "pygments_lexer": "ipython3",
   "version": "3.11.7"
  }
 },
 "nbformat": 4,
 "nbformat_minor": 5
}
