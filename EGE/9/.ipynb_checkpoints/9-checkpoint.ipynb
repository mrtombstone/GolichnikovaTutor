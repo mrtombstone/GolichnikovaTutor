{
 "cells": [
  {
   "cell_type": "markdown",
   "id": "5b21c1d0",
   "metadata": {},
   "source": [
    "Дана последовательность N целых положительных чисел. Необходимо определить количество пар элементов этой последовательности, сумма которых делится на m  =  80 и при этом хотя бы один элемент из пары больше b  =  50."
   ]
  },
  {
   "cell_type": "code",
   "execution_count": 71,
   "id": "e6fb47bc",
   "metadata": {},
   "outputs": [
    {
     "name": "stdout",
     "output_type": "stream",
     "text": [
      "3\n"
     ]
    }
   ],
   "source": [
    "with open('A.txt', 'r') as f:\n",
    "    l = f.readlines()\n",
    "    numbers = list(map(int, l))\n",
    "    n = numbers[0]\n",
    "    res = 0\n",
    "    for i in range(n):\n",
    "        for j in range(i+1, n):\n",
    "            if (numbers[i] + numbers[j]) % 80 == 0:\n",
    "                if numbers[i] > 50 or numbers[j] > 50:\n",
    "                    res += 1\n",
    "print(res)"
   ]
  },
  {
   "cell_type": "code",
   "execution_count": 78,
   "id": "c029e94a-81ad-4e01-a119-1a71ca7ddb97",
   "metadata": {},
   "outputs": [
    {
     "name": "stdout",
     "output_type": "stream",
     "text": [
      "625344\n"
     ]
    }
   ],
   "source": [
    "with open('B.txt', 'r') as f:\n",
    "    l = f.readlines()\n",
    "    numbers = list(map(int, l))\n",
    "    n = numbers[0]\n",
    "    res = 0\n",
    "    for i in range(n):\n",
    "        for j in range(i+1, n):\n",
    "            if (numbers[i] + numbers[j]) % 80 == 0:\n",
    "                if numbers[i] > 50 or numbers[j] > 50:\n",
    "                    res += 1\n",
    "print(res)"
   ]
  }
 ],
 "metadata": {
  "kernelspec": {
   "display_name": "Python 3 (ipykernel)",
   "language": "python",
   "name": "python3"
  },
  "language_info": {
   "codemirror_mode": {
    "name": "ipython",
    "version": 3
   },
   "file_extension": ".py",
   "mimetype": "text/x-python",
   "name": "python",
   "nbconvert_exporter": "python",
   "pygments_lexer": "ipython3",
   "version": "3.11.7"
  }
 },
 "nbformat": 4,
 "nbformat_minor": 5
}
