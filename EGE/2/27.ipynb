{
 "cells": [
  {
   "cell_type": "markdown",
   "id": "055ee3f6",
   "metadata": {},
   "source": [
    "Имеется набор данных, состоящий из пар положительных целых чисел. Необходимо выбрать из каждой пары ровно одно число так, чтобы сумма всех выбранных чисел не делилась на 3 и при этом была минимально возможной. Гарантируется, что искомую сумму получить можно. Программа должна напечатать одно число  — минимально возможную сумму, соответствующую условиям задачи."
   ]
  },
  {
   "cell_type": "markdown",
   "id": "d2b7dc13",
   "metadata": {},
   "source": [
    "Даны два входных файла (файл A и файл B), каждый из которых содержит в первой строке количество пар N (1 ≤ N ≤ 100000). Каждая из следующих N строк содержит два натуральных числа, не превышающих 10 000.\n",
    "\n",
    "Пример организации исходных данных во входном файле:\n",
    "\n",
    "6\n",
    "\n",
    "1 3\n",
    "\n",
    "5 12\n",
    "\n",
    "6 9\n",
    "\n",
    "5 4\n",
    "\n",
    "3 3\n",
    "\n",
    "1 1\n",
    "\n",
    "Для указанных входных данных значением искомой суммы должно быть число 20.\n",
    "\n",
    "В ответе укажите два числа: сначала значение искомой суммы для файла А, затем для файла B.\n",
    "\n",
    " \n",
    "\n",
    "Предупреждение: для обработки файла B не следует использовать переборный алгоритм, вычисляющий сумму для всех возможных вариантов, поскольку написанная по такому алгоритму программа будет выполняться слишком долго."
   ]
  },
  {
   "cell_type": "code",
<<<<<<< Updated upstream
   "execution_count": 8,
=======
   "execution_count": 5,
>>>>>>> Stashed changes
   "id": "0285b85a",
   "metadata": {},
   "outputs": [
    {
     "name": "stdout",
     "output_type": "stream",
     "text": [
<<<<<<< Updated upstream
      "5627 5841\n",
      "5544 6520\n",
      "1449 3580\n",
      "2984 5984\n",
      "6164 2583\n",
      "9588 3467\n",
      "1440 8636\n",
      "7706 8023\n",
      "6847 6023\n",
      "577 1545\n",
      "7361 5893\n",
      "4221 5994\n",
      "3118 5054\n",
      "1546 4062\n",
      "780 3433\n",
      "6926 2390\n",
      "3702 6714\n",
      "2278 7180\n",
      "9156 3466\n",
      "2294 8733\n",
=======
>>>>>>> Stashed changes
      "67088\n"
     ]
    }
   ],
   "source": [
<<<<<<< Updated upstream
    "with open('A.txt') as f:\n",
    "    s = f.readlines()\n",
    "n = int(s[0])\n",
    "summ = 0\n",
    "min_value = 10001\n",
    "for i in range(1,n+1):\n",
    "    x, y = map(int, s[i].split())\n",
    "    print(x,y)\n",
    "    summ += min(x,y)\n",
    "    current_abs = abs(x-y)\n",
    "    if current_abs % 3 != 0:\n",
    "        min_value = min(min_value, current_abs)\n",
    "if summ % 3 == 0:\n",
    "    summ += min_value\n",
    "print(summ)"
   ]
  },
  {
   "cell_type": "code",
   "execution_count": 7,
   "id": "8fdd553c",
   "metadata": {},
   "outputs": [
    {
     "name": "stdout",
     "output_type": "stream",
     "text": [
      "200157478\n"
     ]
    }
   ],
   "source": [
    "with open('B.txt') as f:\n",
    "    s = f.readlines()\n",
    "n = int(s[0])\n",
    "summ = 0\n",
    "min_value = 10001\n",
    "for i in range(1,n+1):\n",
    "    x, y = map(int, s[i].split())\n",
    "    summ += min(x,y)\n",
    "    current_abs = abs(x-y)\n",
    "    if current_abs % 3 != 0:\n",
    "        min_value = min(min_value, current_abs)\n",
    "if summ % 3 == 0:\n",
    "    summ += min_value\n",
    "print(summ)"
=======
    "with open('A.txt', 'r') as f:\n",
    "    s = f.readlines()\n",
    "    n = int(s[0])\n",
    "    summ = 0\n",
    "    min_value = 10001\n",
    "    for i in range(1, n+1):\n",
    "        x, y = map(int, s[i].split())\n",
    "        summ += min(x, y)\n",
    "        if abs(x - y) % 3 != 0:\n",
    "            min_value = min(min_value, abs(x-y))\n",
    "if summ % 3 == 0:\n",
    "    summ += min_value\n",
    "else:\n",
    "    print(summ)"
>>>>>>> Stashed changes
   ]
  }
 ],
 "metadata": {
  "kernelspec": {
   "display_name": "Python 3 (ipykernel)",
   "language": "python",
   "name": "python3"
  },
  "language_info": {
   "codemirror_mode": {
    "name": "ipython",
    "version": 3
   },
   "file_extension": ".py",
   "mimetype": "text/x-python",
   "name": "python",
   "nbconvert_exporter": "python",
   "pygments_lexer": "ipython3",
   "version": "3.11.7"
  }
 },
 "nbformat": 4,
 "nbformat_minor": 5
}
