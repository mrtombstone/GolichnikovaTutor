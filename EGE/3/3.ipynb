{
 "cells": [
  {
   "cell_type": "markdown",
   "id": "c256f317",
   "metadata": {},
   "source": [
    "Имеется набор данных, состоящий из пар положительных целых чисел. Необходимо выбрать из каждой пары ровно одно число так, чтобы сумма всех выбранных чисел не делилась на 5 и при этом была максимально возможной. Гарантируется, что искомую сумму получить можно. Программа должна напечатать одно число  — максимально возможную сумму, соответствующую условиям задачи.\n",
    "\n",
    "Входные данные."
   ]
  },
  {
   "cell_type": "markdown",
   "id": "1ec06b38",
   "metadata": {},
   "source": [
    "Даны два входных файла (файл A и файл B), каждый из которых содержит в первой строке количество пар N (1 ≤ N ≤ 100000). Каждая из следующих N строк содержит два натуральных числа, не превышающих 10 000.\n",
    "\n",
    "Пример организации исходных данных во входном файле:\n",
    "\n",
    "6\n",
    "\n",
    "1 3\n",
    "\n",
    "5 12\n",
    "\n",
    "6 9\n",
    "\n",
    "5 4\n",
    "\n",
    "3 3\n",
    "\n",
    "1 1\n",
    "\n",
    "Для указанных входных данных значением искомой суммы должно быть число 33.\n",
    "\n",
    "В ответе укажите два числа: сначала значение искомой суммы для файла А, затем для файла B.\n",
    "\n",
    " \n",
    "\n",
    "Предупреждение: для обработки файла B не следует использовать переборный алгоритм, вычисляющий сумму для всех возможных вариантов, поскольку написанная по такому алгоритму программа будет выполняться слишком долго."
   ]
  },
  {
   "cell_type": "code",
   "execution_count": 1,
   "id": "47f03f37",
   "metadata": {},
   "outputs": [
    {
     "name": "stdout",
     "output_type": "stream",
     "text": [
      "118951\n"
     ]
    }
   ],
   "source": [
    "with open('A.txt', 'r') as f:\n",
    "    s = f.readlines()\n",
    "    n = int(s[0])\n",
    "    summ = 0\n",
    "    min_value = 10001\n",
    "    for i in range(1, n+1):\n",
    "        x, y = map(int, s[i].split())\n",
    "        summ += max(x,y)\n",
    "        if abs(x-y) % 5 != 0:\n",
    "            min_value = min(min_value, abs(x-y))\n",
    "if summ % 5 == 0:\n",
    "    print(summ - min_value)\n",
    "else:\n",
    "    print(summ)"
   ]
  },
  {
   "cell_type": "code",
   "execution_count": 4,
   "id": "faf84aaa-f751-413f-97a7-63af161335cb",
   "metadata": {},
   "outputs": [
    {
     "name": "stdout",
     "output_type": "stream",
     "text": [
      "394491666\n"
     ]
    }
   ],
   "source": [
    "with open('B.txt', 'r') as f:\n",
    "    s = f.readlines()\n",
    "    n = int(s[0])\n",
    "    summ = 0\n",
    "    min_value = 10001\n",
    "    for i in range(1, n+1):\n",
    "        x, y = map(int, s[i].split())\n",
    "        summ += max(x, y)\n",
    "        if abs(x-y) % 5 != 0:\n",
    "            min_value = min(min_value, abs(x-y))\n",
    "if summ % 5 == 0:\n",
    "    print(summ - min_value)\n",
    "else:\n",
    "    print(summ)"
   ]
  }
 ],
 "metadata": {
  "kernelspec": {
   "display_name": "Python 3 (ipykernel)",
   "language": "python",
   "name": "python3"
  },
  "language_info": {
   "codemirror_mode": {
    "name": "ipython",
    "version": 3
   },
   "file_extension": ".py",
   "mimetype": "text/x-python",
   "name": "python",
   "nbconvert_exporter": "python",
   "pygments_lexer": "ipython3",
   "version": "3.11.7"
  }
 },
 "nbformat": 4,
 "nbformat_minor": 5
}
