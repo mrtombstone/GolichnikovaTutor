{
 "cells": [
  {
   "cell_type": "code",
   "execution_count": 8,
   "id": "568878e8",
   "metadata": {},
   "outputs": [
    {
     "name": "stdout",
     "output_type": "stream",
     "text": [
      "399762080\n"
     ]
    }
   ],
   "source": [
    "with open('B.txt') as file:\n",
    "    s = file.readlines()                        # Читаем весь файл\n",
    "    n = int(s[0])                               # Количество строк\n",
    "    summ = 0                                    # Хранится сумма\n",
    "    min_value = 10001                           # Минимальная разность между двумя числами в строке, не делящееся на 3\n",
    "    for i in range(1, n + 1):\n",
    "        x, y = map(int, s[i].split())           # Функция map - вызывает функцию Int (в данном случае) на каждый элемент списка\n",
    "        summ += max(x, y)\n",
    "        if abs(x-y) % 3 != 0:                   # Поиск минимальной разницы между двумя числами, чтобы не делилось на 3\n",
    "            min_value = min(min_value, abs(x-y))\n",
    "if summ % 3 == 0 :\n",
    "    print(summ-min_value)\n",
    "else:\n",
    "    print(summ)"
   ]
  },
  {
   "cell_type": "code",
   "execution_count": null,
   "id": "e4cb8e0c",
   "metadata": {},
   "outputs": [],
   "source": []
  },
  {
   "cell_type": "code",
   "execution_count": null,
   "id": "f8b34412",
   "metadata": {},
   "outputs": [],
   "source": []
  }
 ],
 "metadata": {
  "kernelspec": {
   "display_name": "Python 3 (ipykernel)",
   "language": "python",
   "name": "python3"
  },
  "language_info": {
   "codemirror_mode": {
    "name": "ipython",
    "version": 3
   },
   "file_extension": ".py",
   "mimetype": "text/x-python",
   "name": "python",
   "nbconvert_exporter": "python",
   "pygments_lexer": "ipython3",
   "version": "3.11.5"
  }
 },
 "nbformat": 4,
 "nbformat_minor": 5
}
