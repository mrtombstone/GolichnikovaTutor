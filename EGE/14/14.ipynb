{
 "cells": [
  {
   "cell_type": "markdown",
   "id": "9e85097e",
   "metadata": {},
   "source": [
    "Набор данных состоит из троек натуральных чисел. Необходимо распределить все числа на три группы, при этом в каждую группу должно попасть ровно одно число из каждой исходной тройки. Сумма всех чисел в первой группе должна быть чётной, во второй  — нечётной. Определите максимально возможную сумму всех чисел в третьей группе."
   ]
  },
  {
   "cell_type": "code",
   "execution_count": 13,
   "id": "c61ad2b5",
   "metadata": {},
   "outputs": [
    {
     "name": "stdout",
     "output_type": "stream",
     "text": [
      "0\n",
      "100918193 200621969 300229429\n",
      "300229429\n"
     ]
    }
   ],
   "source": [
    "with open(\"B.txt\") as file:\n",
    "    lines = file.readlines()\n",
    "    min_diff = 0\n",
    "    sum1 = 0\n",
    "    sum2 =0\n",
    "    sum3 = 0\n",
    "    min_diff = 100000\n",
    "    for line in lines[1:]:\n",
    "        x, y, z = map(int, line.split())\n",
    "        max_val = max(x, y, z)\n",
    "        min_val = min(x, y, z)\n",
    "        sum3 += max_val\n",
    "        sum1 += min_val\n",
    "        avg = x + y + z - max_val - min_val\n",
    "        sum2 += avg\n",
    "        \n",
    "        min_diff = min(min_diff, abs(max_val - min_val), abs(max_val-avg))\n",
    "print(sum1, sum2, sum3)\n",
    "if((sum1 % 2 == 0 and sum2 % 2 == 1) or (sum1 % 2 == 1 and sum2 % 2 == 0)):\n",
    "    print(sum3)\n",
    "else:\n",
    "    print(sum3-min_diff)"
   ]
  },
  {
   "cell_type": "code",
   "execution_count": 16,
   "id": "335c8240",
   "metadata": {},
   "outputs": [
    {
     "name": "stdout",
     "output_type": "stream",
     "text": [
      "300229428\n"
     ]
    }
   ],
   "source": [
    "\n",
    "n = [sorted(list(map(int, a.split(' ')))) for a in open('B.txt').readlines()[1:]]\n",
    "sum_min = sum([a[0] for a in n])\n",
    "sum_aver = sum([a[1] for a in n])\n",
    "sum_max = sum([a[2] for a in n])\n",
    "if sum_min%2 == sum_aver%2:\n",
    "    sum_max += max([a[1] - a[2] for a in n if a[1]%2 != a[2]%2] + [a[0] - a[2] for a in n if a[1]%2 != a[2]%2]) # максимальная выгода, которую можно получить после перестановки чисел\n",
    "print(sum_max)"
   ]
  },
  {
   "cell_type": "code",
   "execution_count": 7,
   "id": "cfe1d10d",
   "metadata": {},
   "outputs": [
    {
     "name": "stdout",
     "output_type": "stream",
     "text": [
      "100918193 300229428 200631896\n"
     ]
    }
   ],
   "source": [
    "sum_min = 0\n",
    "sum_max = 0\n",
    "sum_aver = 0\n",
    "lst = []\n",
    "with open(\"B.txt\") as file:\n",
    "    lines = file.readlines()\n",
    "    for line in lines[1:]:\n",
    "        x, y, z = map(int, line.split())\n",
    "#         print(x, y, z)\n",
    "        max_val = max(x, y, z)\n",
    "        min_val = min(x, y, z)\n",
    "        avg = x + y + z - max_val - min_val\n",
    "        sum_min += min_val\n",
    "        sum_max += max_val\n",
    "        sum_aver += avg\n",
    "        if max_val%2 != avg%2:\n",
    "            lst.append(max_val-avg)\n",
    "        if max_val%2 != min_val%2:\n",
    "            lst.append(max_val-min_val)\n",
    "if(sum_min%2 == sum_aver%2):\n",
    "    sum_max -= min(lst)\n",
    "    sum_aver += max(lst)\n",
    "print(sum_min, sum_max, sum_aver)"
   ]
  },
  {
   "cell_type": "code",
   "execution_count": null,
   "id": "8deb1faf",
   "metadata": {},
   "outputs": [],
   "source": [
    "with open(\"A.txt\") as file:\n",
    "    "
   ]
  }
 ],
 "metadata": {
  "kernelspec": {
   "display_name": "Python 3 (ipykernel)",
   "language": "python",
   "name": "python3"
  },
  "language_info": {
   "codemirror_mode": {
    "name": "ipython",
    "version": 3
   },
   "file_extension": ".py",
   "mimetype": "text/x-python",
   "name": "python",
   "nbconvert_exporter": "python",
   "pygments_lexer": "ipython3",
   "version": "3.11.5"
  }
 },
 "nbformat": 4,
 "nbformat_minor": 5
}
