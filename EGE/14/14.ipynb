{
 "cells": [
  {
   "cell_type": "markdown",
   "id": "765fda02",
   "metadata": {},
   "source": [
    "Набор данных состоит из троек натуральных чисел. Необходимо распределить все числа на три группы, при этом в каждую группу должно попасть ровно одно число из каждой исходной тройки. Сумма всех чисел в первой группе должна быть чётной, во второй  — нечётной. Определите максимально возможную сумму всех чисел в третьей группе."
   ]
  },
  {
   "cell_type": "code",
   "execution_count": 2,
   "id": "0e126a67",
   "metadata": {},
   "outputs": [],
   "source": [
    "with open(\"A.txt\") as file:\n",
    "    lines = file.readlines()"
   ]
  },
  {
   "cell_type": "code",
   "execution_count": 4,
   "id": "d25fd11f",
   "metadata": {},
   "outputs": [
    {
     "name": "stdout",
     "output_type": "stream",
     "text": [
      "15 18 20\n",
      "18 6 3\n",
      "11 20 17\n",
      "8 17 7\n",
      "7 3 36\n",
      "30 3 31\n",
      "13 30 30\n",
      "20 26 22\n",
      "33 14 32\n",
      "14 9 11\n",
      "4 29 10\n",
      "30 27 22\n",
      "9 6 1\n",
      "8 5 19\n",
      "15 12 17\n",
      "11 40 32\n",
      "37 7 13\n",
      "8 35 4\n",
      "32 15 40\n",
      "6 18 40\n"
     ]
    }
   ],
   "source": [
    "group1 = []\n",
    "group2 = []\n",
    "group3 = []\n",
    "for line in lines[1:]:\n",
    "    x, y, z = map(int, line.split())\n",
    "    print(x, y, z)"
   ]
  },
  {
   "cell_type": "code",
   "execution_count": null,
   "id": "536a20cc",
   "metadata": {},
   "outputs": [],
   "source": []
  }
 ],
 "metadata": {
  "kernelspec": {
   "display_name": "Python 3 (ipykernel)",
   "language": "python",
   "name": "python3"
  },
  "language_info": {
   "codemirror_mode": {
    "name": "ipython",
    "version": 3
   },
   "file_extension": ".py",
   "mimetype": "text/x-python",
   "name": "python",
   "nbconvert_exporter": "python",
   "pygments_lexer": "ipython3",
   "version": "3.11.5"
  }
 },
 "nbformat": 4,
 "nbformat_minor": 5
}
