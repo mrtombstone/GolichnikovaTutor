{
 "cells": [
  {
   "cell_type": "markdown",
   "id": "faf9bfaf",
   "metadata": {},
   "source": [
    "Набор данных состоит из пар натуральных чисел. Необходимо выбрать из каждой пары ровно одно число так, чтобы сумма всех выбранных чисел делилась на 3 и при этом была максимально возможной."
   ]
  },
  {
   "cell_type": "code",
   "execution_count": 48,
   "id": "3a01114b",
   "metadata": {},
   "outputs": [
    {
     "name": "stdout",
     "output_type": "stream",
     "text": [
      "127343\n"
     ]
    }
   ],
   "source": [
    "with open ('A.txt', 'r') as f:\n",
    "    l = f.readlines()\n",
    "    n = int(l[0])\n",
    "    summ = 0\n",
    "    min_value = 0\n",
    "    for i in range(1, n+1):\n",
    "        x, y = map(int, l[i].split())\n",
    "        summ += max(x,y)\n",
    "        if abs(x - y) % 3 != 0:\n",
    "            min_value = min(min_value, abs(x-y))\n",
    "if summ % 3 == 0:\n",
    "    print(summ - min_value)\n",
    "else:\n",
    "    print(summ)"
   ]
  },
  {
   "cell_type": "code",
   "execution_count": 49,
   "id": "3a692afa-26ca-4d84-ad6c-493c0f0794e3",
   "metadata": {},
   "outputs": [
    {
     "name": "stdout",
     "output_type": "stream",
     "text": [
      "399759478\n"
     ]
    }
   ],
   "source": [
    "with open ('B.txt', 'r') as f:\n",
    "    l = f.readlines()\n",
    "    n = int(l[0])\n",
    "    summ = 0\n",
    "    min_value = 1\n",
    "    for i in range(1, n+1):\n",
    "        x, y = map(int, l[i].split())\n",
    "        summ += max(x,y)\n",
    "        if abs(x - y) % 3 != 0:\n",
    "            min_value = min(min_value, abs(x-y))\n",
    "if summ % 3 == 0:\n",
    "    print(summ - min_value)\n",
    "else:\n",
    "    print(summ)"
   ]
  }
 ],
 "metadata": {
  "kernelspec": {
   "display_name": "Python 3 (ipykernel)",
   "language": "python",
   "name": "python3"
  },
  "language_info": {
   "codemirror_mode": {
    "name": "ipython",
    "version": 3
   },
   "file_extension": ".py",
   "mimetype": "text/x-python",
   "name": "python",
   "nbconvert_exporter": "python",
   "pygments_lexer": "ipython3",
   "version": "3.11.7"
  }
 },
 "nbformat": 4,
 "nbformat_minor": 5
}
