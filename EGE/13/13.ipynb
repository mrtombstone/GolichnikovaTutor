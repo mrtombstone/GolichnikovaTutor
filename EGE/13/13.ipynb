{
 "cells": [
  {
   "cell_type": "markdown",
   "id": "7411a669",
   "metadata": {},
   "source": [
    "Набор данных состоит из пар натуральных чисел. Необходимо выбрать из каждой пары ровно одно число так, чтобы сумма всех выбранных чисел делилась на 3 и при этом была минимально возможной."
   ]
  },
  {
   "cell_type": "code",
   "execution_count": 1,
   "id": "44f16b0f",
   "metadata": {},
   "outputs": [
    {
     "name": "stdout",
     "output_type": "stream",
     "text": [
      "67090\n"
     ]
    }
   ],
   "source": [
    "with open ('A.txt', 'r') as f:\n",
    "    l = f.readlines()\n",
    "    n = int(l[0])\n",
    "    summ = 0\n",
    "    min_value = 0\n",
    "    for i in range(1, n+1):\n",
    "        x, y = map(int, l[i].split())\n",
    "        summ += min(x, y)\n",
    "        cur_abs = abs(x-y)\n",
    "    if cur_abs % 3 != 0:\n",
    "        min_value = min(min_value, cur_abs)\n",
    "if summ % 3 == 0:\n",
    "    summ += min_value\n",
    "print(summ)"
   ]
  },
  {
   "cell_type": "code",
   "execution_count": 2,
   "id": "9ff9d9d3-2bf4-4236-98e0-ad6cbee0e9c0",
   "metadata": {},
   "outputs": [
    {
     "name": "stdout",
     "output_type": "stream",
     "text": [
      "200168354\n"
     ]
    }
   ],
   "source": [
    "with open ('B.txt', 'r') as f:\n",
    "    l = f.readlines()\n",
    "    n = int(l[0])\n",
    "    summ = 0\n",
    "    min_value = 0\n",
    "    for i in range(1, n+1):\n",
    "        x, y = map(int, l[i].split())\n",
    "        summ += min(x, y)\n",
    "        cur_abs = abs(x-y)\n",
    "    if cur_abs % 3 != 0:\n",
    "        min_value = min(min_value, cur_abs)\n",
    "if summ % 3 == 0:\n",
    "    summ += min_value\n",
    "print(summ)"
   ]
  }
 ],
 "metadata": {
  "kernelspec": {
   "display_name": "Python 3 (ipykernel)",
   "language": "python",
   "name": "python3"
  },
  "language_info": {
   "codemirror_mode": {
    "name": "ipython",
    "version": 3
   },
   "file_extension": ".py",
   "mimetype": "text/x-python",
   "name": "python",
   "nbconvert_exporter": "python",
   "pygments_lexer": "ipython3",
   "version": "3.11.7"
  }
 },
 "nbformat": 4,
 "nbformat_minor": 5
}
