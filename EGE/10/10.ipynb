{
 "cells": [
  {
   "cell_type": "markdown",
   "id": "364c9734",
   "metadata": {},
   "source": [
    "На вход программы поступает последовательность из n целых положительных чисел. Рассматриваются все пары элементов последовательности ai и aj, такие что i < j и ai > aj (первый элемент пары больше второго; i и j  — порядковые номера чисел в последовательности входных данных). Среди пар, удовлетворяющих этому условию, необходимо найти и напечатать пару с максимальной суммой элементов, которая делится на m  =  120. Если среди найденных пар максимальную сумму имеют несколько, то можно напечатать любую из них."
   ]
  },
  {
   "cell_type": "code",
   "execution_count": 5,
   "id": "2a841b92",
   "metadata": {},
   "outputs": [
    {
     "data": {
      "text/plain": [
       "(9254, 5948)"
      ]
     },
     "execution_count": 5,
     "metadata": {},
     "output_type": "execute_result"
    }
   ],
   "source": [
    "with open ('A.txt', 'r') as f:\n",
    "    l = f.readlines()\n",
    "    numbers = list(map(int, l))\n",
    "    n = numbers[0]\n",
    "    m1 = 0\n",
    "    i1 = 0\n",
    "    j1 = 0\n",
    "    for i in range(1, n):\n",
    "        for j in range(i+1, n+1):\n",
    "            temp = numbers[i] + numbers[j]\n",
    "            if numbers[i] > numbers[j] and temp % 120 == 0 and temp > m1:\n",
    "                m1 = temp\n",
    "                i1 = i\n",
    "                j1 = j\n",
    "numbers[i], numbers[j]"
   ]
  },
  {
   "cell_type": "code",
   "execution_count": 3,
   "id": "a2d06736-0127-4c20-aba4-cf066b3d322f",
   "metadata": {},
   "outputs": [
    {
     "data": {
      "text/plain": [
       "(2641, 2739)"
      ]
     },
     "execution_count": 3,
     "metadata": {},
     "output_type": "execute_result"
    }
   ],
   "source": [
    "with open ('B.txt', 'r') as f:\n",
    "    l = f.readlines()\n",
    "    numbers = list(map(int, l))\n",
    "    n = numbers[0]\n",
    "    m1 = 0\n",
    "    i1 = 0\n",
    "    j1 = 0\n",
    "    for i in range(1, n):\n",
    "        for j in range(i+1, n+1):\n",
    "            temp = numbers[i] + numbers[j]\n",
    "            if numbers[i] > numbers[j] and temp % 120 == 0 and temp > m1:\n",
    "                m1 = temp\n",
    "                i1 = i\n",
    "                j1 = j\n",
    "numbers[i], numbers[j]"
   ]
  }
 ],
 "metadata": {
  "kernelspec": {
   "display_name": "Python 3 (ipykernel)",
   "language": "python",
   "name": "python3"
  },
  "language_info": {
   "codemirror_mode": {
    "name": "ipython",
    "version": 3
   },
   "file_extension": ".py",
   "mimetype": "text/x-python",
   "name": "python",
   "nbconvert_exporter": "python",
   "pygments_lexer": "ipython3",
   "version": "3.11.7"
  }
 },
 "nbformat": 4,
 "nbformat_minor": 5
}
