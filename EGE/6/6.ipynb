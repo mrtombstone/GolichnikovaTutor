{
 "cells": [
  {
   "cell_type": "markdown",
   "id": "ee55110b",
   "metadata": {},
   "source": [
    "На вход программы поступает последовательность из N целых положительных чисел. Рассматриваются все пары различных элементов последовательности (элементы пары не обязаны стоять в последовательности рядом, порядок элементов в паре неважен). Необходимо определить количество пар, для которых произведение элементов кратно 62.\n",
    "\n",
    " \n",
    "\n",
    "Входные данные.\n",
    "\n",
    "Файл A\n",
    "\n",
    "Файл B\n",
    "\n",
    "В первой строке входных данных задаётся количество чисел N (1 ≤ N ≤ 60 000). В каждой из последующих N строк записано одно натуральное число, не превышающее 10 000. В качестве результата программа должна вывести одно число: количество пар, в которых произведение элементов кратно 62.\n",
    "\n",
    "Пример организации исходных данных во входном файле:\n",
    "\n",
    "5\n",
    "\n",
    "2\n",
    "\n",
    "6\n",
    "\n",
    "13\n",
    "\n",
    "31\n",
    "\n",
    "93\n",
    "\n",
    "Пример выходных данных для приведённого выше примера входных данных:\n",
    "\n",
    "4\n",
    "\n",
    "В ответе укажите два числа: сначала значение искомой суммы для файла А, затем для файла B."
   ]
  },
  {
   "cell_type": "code",
   "execution_count": 5,
   "id": "e343dbf6",
   "metadata": {},
   "outputs": [
    {
     "name": "stdout",
     "output_type": "stream",
     "text": [
      "0\n"
     ]
    }
   ],
   "source": [
    "with open('A.txt', 'r') as f:\n",
    "    s = f.readlines()\n",
    "    n = int(s[0])\n",
    "    e62 = 0\n",
    "    e31 = 0\n",
    "    e2 = 0\n",
    "    e0 = 0\n",
    "    for i in range(1, n+1):\n",
    "        cur_val = int(s[i])\n",
    "        if cur_val % 62 == 0:\n",
    "            e62 += 1\n",
    "        elif cur_val % 31 == 0:\n",
    "            e31 += 1\n",
    "        elif cur_val % 2 == 0:\n",
    "            e2 += 1\n",
    "        else:\n",
    "            e0 += 1\n",
    "res = e62 * e0 + e31 * e2 + e62 * e31 + e62 * e2 \n",
    "print(res)"
   ]
  },
  {
   "cell_type": "code",
   "execution_count": 6,
   "id": "88794952-da88-4ca3-afa3-2b01261ed074",
   "metadata": {},
   "outputs": [
    {
     "name": "stdout",
     "output_type": "stream",
     "text": [
      "81898035\n"
     ]
    }
   ],
   "source": [
    "with open('B.txt', 'r') as f:\n",
    "    s = f.readlines()\n",
    "    n = int(s[0])\n",
    "    e62 = 0\n",
    "    e31 = 0\n",
    "    e2 = 0\n",
    "    e0 = 0\n",
    "    for i in range(1, n+1):\n",
    "        cur_val = int(s[i])\n",
    "        if cur_val % 62 == 0:\n",
    "            e62 += 1\n",
    "        elif cur_val % 31 == 0:\n",
    "            e31 += 1\n",
    "        elif cur_val % 2 == 0:\n",
    "            e2 += 1\n",
    "        else:\n",
    "            e0 += 1\n",
    "res = e62 * e0 + e31 * e2 + e62 * e31 + e62 * e2 \n",
    "print(res)"
   ]
  }
 ],
 "metadata": {
  "kernelspec": {
   "display_name": "Python 3 (ipykernel)",
   "language": "python",
   "name": "python3"
  },
  "language_info": {
   "codemirror_mode": {
    "name": "ipython",
    "version": 3
   },
   "file_extension": ".py",
   "mimetype": "text/x-python",
   "name": "python",
   "nbconvert_exporter": "python",
   "pygments_lexer": "ipython3",
   "version": "3.11.7"
  }
 },
 "nbformat": 4,
 "nbformat_minor": 5
}
