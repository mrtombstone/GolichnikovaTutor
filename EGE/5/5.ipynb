{
 "cells": [
  {
   "cell_type": "markdown",
   "id": "d9333d12",
   "metadata": {},
   "source": [
    "На вход программы поступает последовательность из N целых положительных чисел. Рассматриваются все пары различных элементов последовательности (элементы пары не обязаны стоять в последовательности рядом, порядок элементов в паре не важен). Необходимо определить количество пар, для которых произведение элементов делится на 26.\n",
    "\n",
    "В первой строке входных данных задаётся количество чисел N (1 ≤ N ≤ 60000). В каждой из последующих N строк записано одно целое положительное число, не превышающее 10 000. В качестве результата программа должна напечатать одно число: количество пар, в которых произведение элементов кратно 26.\n",
    "\n",
    " \n",
    "\n",
    "Входные данные.\n",
    "\n",
    "Файл A\n",
    "\n",
    "Файл B\n",
    "\n",
    "Даны два входных файла (файл A и файл B), каждый из которых содержит в первой строке количество чисел N (1 ≤ N ≤ 60000). В каждой из последующих N строк записано одно натуральное число, не превышающее 10 000.\n",
    "\n",
    "Пример организации исходных данных во входном файле:\n",
    "\n",
    "4\n",
    "\n",
    "2\n",
    "\n",
    "6\n",
    "\n",
    "13\n",
    "\n",
    "39\n",
    "\n",
    "Пример выходных данных для приведённого выше примера входных данных:\n",
    "\n",
    "4\n",
    "\n",
    "В ответе укажите два числа: сначала значение искомой суммы для файла А, затем для файла B."
   ]
  },
  {
   "cell_type": "code",
   "execution_count": 8,
   "id": "78a15fa3",
   "metadata": {},
   "outputs": [
    {
     "name": "stdout",
     "output_type": "stream",
     "text": [
      "19\n"
     ]
    }
   ],
   "source": [
    "with open('A.txt', 'r') as f:\n",
    "    s = f.readlines()\n",
    "    n = int(s[0])\n",
    "    e26 = 0\n",
    "    e13 = 0\n",
    "    e2 = 0\n",
    "    e0 = 0\n",
    "    for i in range(1, n+1):\n",
    "        cur_val = int(s[i])\n",
    "        if cur_val % 26 == 0:\n",
    "            e26 += 1\n",
    "        elif cur_val % 13 == 0:\n",
    "            e13 += 1\n",
    "        elif cur_val % 2 == 0:\n",
    "            e2 += 1\n",
    "        else:\n",
    "            e0 += 1\n",
    "res = e26 * e0 + e13 * e2 + e26 * e13 + e26 * e2 \n",
    "print(res)"
   ]
  },
  {
   "cell_type": "code",
   "execution_count": 9,
   "id": "0b6a2155-6ddb-48b6-a4f2-1aa22c46c001",
   "metadata": {},
   "outputs": [
    {
     "name": "stdout",
     "output_type": "stream",
     "text": [
      "196645024\n"
     ]
    }
   ],
   "source": [
    "with open('B.txt', 'r') as f:\n",
    "    s = f.readlines()\n",
    "    n = int(s[0])\n",
    "    e26 = 0\n",
    "    e13 = 0\n",
    "    e2 = 0\n",
    "    e0 = 0\n",
    "    for i in range(1, n+1):\n",
    "        cur_val = int(s[i])\n",
    "        if cur_val % 26 == 0:\n",
    "            e26 += 1\n",
    "        elif cur_val % 13 == 0:\n",
    "            e13 += 1\n",
    "        elif cur_val % 2 == 0:\n",
    "            e2 += 1\n",
    "        else:\n",
    "            e0 += 1\n",
    "res = e26 * e0 + e13 * e2 + e26 * e13 + e26 * e2 \n",
    "print(res)"
   ]
  }
 ],
 "metadata": {
  "kernelspec": {
   "display_name": "Python 3 (ipykernel)",
   "language": "python",
   "name": "python3"
  },
  "language_info": {
   "codemirror_mode": {
    "name": "ipython",
    "version": 3
   },
   "file_extension": ".py",
   "mimetype": "text/x-python",
   "name": "python",
   "nbconvert_exporter": "python",
   "pygments_lexer": "ipython3",
   "version": "3.11.7"
  }
 },
 "nbformat": 4,
 "nbformat_minor": 5
}
