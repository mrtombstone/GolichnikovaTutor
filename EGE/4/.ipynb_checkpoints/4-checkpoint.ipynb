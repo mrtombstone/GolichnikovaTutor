{
 "cells": [
  {
   "cell_type": "markdown",
   "id": "3fcef436",
   "metadata": {},
   "source": [
    "Последовательность натуральных чисел характеризуется числом Х  — наибольшим числом, кратным 14 и являющимся произведением двух элементов последовательности с различными номерами. Гарантируется, что хотя бы одно такое произведение в последовательности есть.\n",
    "\n",
    "Входные данные.\n",
    "\n",
    "Файл A\n",
    "\n",
    "Файл B\n",
    "\n",
    "Даны два входных файла (файл A и файл B), каждый из которых содержит в первой строке количество чисел N (1 ≤ N ≤ 100000). В каждой из последующих N строк записано одно натуральное число, не превышающее 1000.\n",
    "\n",
    "Пример организации исходных данных во входном файле:\n",
    "\n",
    "5\n",
    "\n",
    "40\n",
    "\n",
    "1000\n",
    "\n",
    "7\n",
    "\n",
    "28\n",
    "\n",
    "55\n",
    "\n",
    "Пример выходных данных для приведённого выше примера входных данных:\n",
    "\n",
    "28000 В ответе укажите два числа: сначала значение искомого произведения для файла А, затем для файла B."
   ]
  },
  {
   "cell_type": "markdown",
   "id": "e5be57b3",
   "metadata": {},
   "source": [
    "РЕШЕНИЕ\n",
    "Есть 2 числа A и B. В каких случаях их произведение делится на 14:\n",
    "1. Когда хотя бы один из множителей делится на 14\n",
    "2. Когда один из множителей делится на 7, а второй на 2"
   ]
  },
  {
   "cell_type": "code",
   "execution_count": 4,
   "id": "c5d4ce61",
   "metadata": {},
   "outputs": [
    {
     "name": "stdout",
     "output_type": "stream",
     "text": [
      "447552\n"
     ]
    }
   ],
   "source": [
    "with open(\"A.txt\") as f:\n",
    "    s = f.readlines()\n",
    "    n = int(s[0])\n",
    "    max14 = 0\n",
    "    max14_2 = 0\n",
    "    max7 = 0\n",
    "    max2 = 0\n",
    "    max0 = 0\n",
    "    for i in range(1, n+1):\n",
    "        cur_val = int(s[i])\n",
    "        if cur_val % 14 == 0:\n",
    "            if cur_val >= max14:\n",
    "                max14_2 = max14\n",
    "            max14 = max(max14, cur_val)\n",
    "        elif cur_val % 7 == 0:\n",
    "            max7 = max(max7, cur_val)\n",
    "        elif cur_val % 2 == 0:\n",
    "            max2 = max(max2, cur_val)\n",
    "        else:\n",
    "            max0 = max(max0, cur_val)\n",
    "    \n",
    "\n",
    "max_val = max(max14 * max(max7, max2, max0, max14_2), max7*max2)\n",
    "print(max_val)"
   ]
  },
  {
   "cell_type": "code",
   "execution_count": 1,
   "id": "a45f0010",
   "metadata": {},
   "outputs": [
    {
     "name": "stdout",
     "output_type": "stream",
     "text": [
      "994000\n"
     ]
    }
   ],
   "source": [
    "with open(\"B.txt\") as f:\n",
    "    s = f.readlines()\n",
    "    n = int(s[0])\n",
    "    max14 = 0\n",
    "    max14_2 = 0\n",
    "    max7 = 0\n",
    "    max2 = 0\n",
    "    max0 = 0\n",
    "    for i in range(1, n+1):\n",
    "        cur_val = int(s[i])\n",
    "        if cur_val % 14 == 0:\n",
    "            if cur_val >= max14:\n",
    "                max14_2 = max14\n",
    "            max14 = max(max14, cur_val)\n",
    "        elif cur_val % 7 == 0:\n",
    "            max7 = max(max7, cur_val)\n",
    "        elif cur_val % 2 == 0:\n",
    "            max2 = max(max2, cur_val)\n",
    "        else:\n",
    "            max0 = max(max0, cur_val)\n",
    "    \n",
    "\n",
    "max_val = max(max14 * max(max7, max2, max0, max14_2), max7*max2)\n",
    "print(max_val)"
   ]
  }
 ],
 "metadata": {
  "kernelspec": {
   "display_name": "Python 3 (ipykernel)",
   "language": "python",
   "name": "python3"
  },
  "language_info": {
   "codemirror_mode": {
    "name": "ipython",
    "version": 3
   },
   "file_extension": ".py",
   "mimetype": "text/x-python",
   "name": "python",
   "nbconvert_exporter": "python",
   "pygments_lexer": "ipython3",
   "version": "3.11.7"
  }
 },
 "nbformat": 4,
 "nbformat_minor": 5
}
